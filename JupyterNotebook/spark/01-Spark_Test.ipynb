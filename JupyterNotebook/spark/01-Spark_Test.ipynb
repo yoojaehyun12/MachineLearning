{
 "cells": [
  {
   "cell_type": "markdown",
   "id": "b29e0a95",
   "metadata": {},
   "source": [
    "# 1. SparkContext 구성\n",
    "- SparkContext를 이용해 Driver Program을 개발\n",
    "- Driver Program을 클라이언트는 Spark Master에게 제출\n",
    "- Spark Master는 Spark Worker에게 Task를 전달"
   ]
  },
  {
   "cell_type": "code",
   "execution_count": 11,
   "id": "69e78818",
   "metadata": {},
   "outputs": [],
   "source": [
    "from pyspark import SparkConf, SparkContext"
   ]
  },
  {
   "cell_type": "code",
   "execution_count": 22,
   "id": "1fc5b96b",
   "metadata": {},
   "outputs": [
    {
     "data": {
      "text/html": [
       "\n",
       "        <div>\n",
       "            <p><b>SparkContext</b></p>\n",
       "\n",
       "            <p><a href=\"http://0.0.0.0:4040\">Spark UI</a></p>\n",
       "\n",
       "            <dl>\n",
       "              <dt>Version</dt>\n",
       "                <dd><code>v3.2.4</code></dd>\n",
       "              <dt>Master</dt>\n",
       "                <dd><code>local</code></dd>\n",
       "              <dt>AppName</dt>\n",
       "                <dd><code>country-student-count</code></dd>\n",
       "            </dl>\n",
       "        </div>\n",
       "        "
      ],
      "text/plain": [
       "<SparkContext master=local appName=country-student-count>"
      ]
     },
     "execution_count": 22,
     "metadata": {},
     "output_type": "execute_result"
    }
   ],
   "source": [
    "# SparkConf : 스파크 실행 환경 설정 클래스\n",
    "# SparkContext : Driver Program 실행 환경 구성을 위한 클래스 \n",
    "\n",
    "conf = SparkConf().setMaster(\"local\").setAppName('country-student-count')\n",
    "# local에서 돌아가는 마스터, local, yarn으로 변경 가능\n",
    "\n",
    "# SparkContext의 변수명은 웬만하면 sc로 만드는 것을 권장\n",
    "sc = SparkContext(conf=conf)\n",
    "sc\n",
    "# 스파크 실행 여러번에서 오류 날 경우 sc.stop()"
   ]
  },
  {
   "cell_type": "code",
   "execution_count": 23,
   "id": "9d2f50cc",
   "metadata": {},
   "outputs": [],
   "source": [
    "filepath=\"/home/ubuntu/working/spark/data/xAPI-Edu-Data.csv\""
   ]
  },
  {
   "cell_type": "markdown",
   "id": "745974cc",
   "metadata": {},
   "source": [
    "# 2. 데이터 로딩\n",
    "- 로컬이든, HDFS에서 데이터를 불러오든 RDD로 데이터를 추상화 시킨다."
   ]
  },
  {
   "cell_type": "code",
   "execution_count": 25,
   "id": "b252f8ed",
   "metadata": {},
   "outputs": [
    {
     "data": {
      "text/plain": [
       "file:////home/ubuntu/working/spark/data/xAPI-Edu-Data.csv MapPartitionsRDD[1] at textFile at NativeMethodAccessorImpl.java:0"
      ]
     },
     "execution_count": 25,
     "metadata": {},
     "output_type": "execute_result"
    }
   ],
   "source": [
    "lines = sc.textFile(f\"file:///{filepath}\")\n",
    "lines"
   ]
  },
  {
   "cell_type": "markdown",
   "id": "54b408ff",
   "metadata": {},
   "source": [
    "# 3. 데이터 확인\n",
    "- Action"
   ]
  },
  {
   "cell_type": "code",
   "execution_count": 26,
   "id": "62d4e946",
   "metadata": {},
   "outputs": [
    {
     "name": "stderr",
     "output_type": "stream",
     "text": [
      "                                                                                \r"
     ]
    },
    {
     "data": {
      "text/plain": [
       "'gender,NationalITy,PlaceofBirth,StageID,GradeID,SectionID,Topic,Semester,Relation,raisedhands,VisITedResources,AnnouncementsView,Discussion,ParentAnsweringSurvey,ParentschoolSatisfaction,StudentAbsenceDays,Class'"
      ]
     },
     "execution_count": 26,
     "metadata": {},
     "output_type": "execute_result"
    }
   ],
   "source": [
    "# 첫 번째 줄 확인하기\n",
    "header = lines.first()\n",
    "header"
   ]
  },
  {
   "cell_type": "code",
   "execution_count": 27,
   "id": "20d27f4e",
   "metadata": {},
   "outputs": [
    {
     "data": {
      "text/plain": [
       "PythonRDD[3] at RDD at PythonRDD.scala:53"
      ]
     },
     "execution_count": 27,
     "metadata": {},
     "output_type": "execute_result"
    }
   ],
   "source": [
    "# 헤더를 제외한 모든 데이터 불러오기\n",
    "datas = lines.filter(lambda row : row != header)\n",
    "datas"
   ]
  },
  {
   "cell_type": "code",
   "execution_count": 28,
   "id": "cb66e0fe",
   "metadata": {},
   "outputs": [
    {
     "data": {
      "text/plain": [
       "PythonRDD[4] at RDD at PythonRDD.scala:53"
      ]
     },
     "execution_count": 28,
     "metadata": {},
     "output_type": "execute_result"
    }
   ],
   "source": [
    "countries = datas.map(lambda row : row.split(\",\")[2])\n",
    "countries"
   ]
  },
  {
   "cell_type": "code",
   "execution_count": 29,
   "id": "471f2fed",
   "metadata": {},
   "outputs": [
    {
     "data": {
      "text/plain": [
       "['KuwaIT', 'KuwaIT', 'KuwaIT']"
      ]
     },
     "execution_count": 29,
     "metadata": {},
     "output_type": "execute_result"
    }
   ],
   "source": [
    "countries.collect()[:3]"
   ]
  },
  {
   "cell_type": "code",
   "execution_count": 30,
   "id": "c0f0b5cf",
   "metadata": {},
   "outputs": [
    {
     "data": {
      "text/plain": [
       "defaultdict(int,\n",
       "            {'KuwaIT': 142,\n",
       "             'lebanon': 11,\n",
       "             'Egypt': 3,\n",
       "             'SaudiArabia': 8,\n",
       "             'USA': 16,\n",
       "             'Jordan': 15,\n",
       "             'venzuela': 1,\n",
       "             'Iran': 4,\n",
       "             'Tunis': 8,\n",
       "             'Morocco': 4,\n",
       "             'Syria': 1})"
      ]
     },
     "execution_count": 30,
     "metadata": {},
     "output_type": "execute_result"
    }
   ],
   "source": [
    "countries.countByValue()"
   ]
  },
  {
   "cell_type": "code",
   "execution_count": 31,
   "id": "09ef5f23",
   "metadata": {},
   "outputs": [],
   "source": [
    "sc.stop() # 하나의 작업이 끝났으면 메모리효율을 위해 꺼두자"
   ]
  },
  {
   "cell_type": "code",
   "execution_count": null,
   "id": "8c968d97",
   "metadata": {},
   "outputs": [],
   "source": []
  },
  {
   "cell_type": "code",
   "execution_count": null,
   "id": "d3c7b2ad",
   "metadata": {},
   "outputs": [],
   "source": []
  }
 ],
 "metadata": {
  "kernelspec": {
   "display_name": "Python 3 (ipykernel)",
   "language": "python",
   "name": "python3"
  },
  "language_info": {
   "codemirror_mode": {
    "name": "ipython",
    "version": 3
   },
   "file_extension": ".py",
   "mimetype": "text/x-python",
   "name": "python",
   "nbconvert_exporter": "python",
   "pygments_lexer": "ipython3",
   "version": "3.8.18"
  }
 },
 "nbformat": 4,
 "nbformat_minor": 5
}
