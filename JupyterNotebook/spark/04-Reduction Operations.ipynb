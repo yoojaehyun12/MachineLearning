{
 "cells": [
  {
   "cell_type": "code",
   "execution_count": null,
   "id": "ae4b13e2",
   "metadata": {},
   "outputs": [],
   "source": [
    "from pyspark import SparkConf, SparkContext\n",
    "\n",
    "conf = SparkConf().setMaster(\"local\").setAppName(\"reduction-op\")\n",
    "sc = SparkContext(conf=conf)\n",
    "sc"
   ]
  },
  {
   "cell_type": "markdown",
   "id": "84073550",
   "metadata": {},
   "source": [
    "# Reduce\n",
    "- `RDD.reduce(<task>)`\n",
    "- 사용자가 지정하는 task를 받아 여러 개의 값을 하나로 줄여준다."
   ]
  },
  {
   "cell_type": "code",
   "execution_count": 2,
   "id": "82dcadb3",
   "metadata": {},
   "outputs": [
    {
     "data": {
      "text/plain": [
       "ParallelCollectionRDD[0] at readRDDFromFile at PythonRDD.scala:274"
      ]
     },
     "execution_count": 2,
     "metadata": {},
     "output_type": "execute_result"
    }
   ],
   "source": [
    "sample_rdd= sc.parallelize([1, 2, 3, 4, 5])\n",
    "sample_rdd"
   ]
  },
  {
   "cell_type": "code",
   "execution_count": 3,
   "id": "8c0b7127",
   "metadata": {},
   "outputs": [
    {
     "name": "stderr",
     "output_type": "stream",
     "text": [
      "                                                                                \r"
     ]
    },
    {
     "data": {
      "text/plain": [
       "15"
      ]
     },
     "execution_count": 3,
     "metadata": {},
     "output_type": "execute_result"
    }
   ],
   "source": [
    "sample_rdd.reduce(lambda x, y : x + y)"
   ]
  },
  {
   "cell_type": "markdown",
   "id": "5d2d01b3",
   "metadata": {},
   "source": [
    "## 파티션에 따라 결과물이 달라진다.\n",
    "- 분산된 파티션들의 연산과 합치는 부분을 나눠서 생각해야 함\n",
    "\n",
    "사용할 TASK\n",
    "```python\n",
    "lambda x, y : (x * 2) + y\n",
    "```"
   ]
  },
  {
   "cell_type": "code",
   "execution_count": 4,
   "id": "2961151f",
   "metadata": {},
   "outputs": [
    {
     "data": {
      "text/plain": [
       "26"
      ]
     },
     "execution_count": 4,
     "metadata": {},
     "output_type": "execute_result"
    }
   ],
   "source": [
    "sc.parallelize([1, 2, 3, 4]).reduce(lambda x, y : (x * 2) + y)"
   ]
  },
  {
   "cell_type": "code",
   "execution_count": 5,
   "id": "79b41fb5",
   "metadata": {},
   "outputs": [
    {
     "data": {
      "text/plain": [
       "18"
      ]
     },
     "execution_count": 5,
     "metadata": {},
     "output_type": "execute_result"
    }
   ],
   "source": [
    "sc.parallelize([1, 2, 3, 4], 2).reduce(lambda x, y : (x * 2) + y)"
   ]
  },
  {
   "cell_type": "code",
   "execution_count": 6,
   "id": "46dc8475",
   "metadata": {},
   "outputs": [
    {
     "data": {
      "text/plain": [
       "18"
      ]
     },
     "execution_count": 6,
     "metadata": {},
     "output_type": "execute_result"
    }
   ],
   "source": [
    "sc.parallelize([1, 2, 3, 4], 3).reduce(lambda x, y : (x * 2) + y)"
   ]
  },
  {
   "cell_type": "code",
   "execution_count": 7,
   "id": "1c7d3a8c",
   "metadata": {},
   "outputs": [
    {
     "data": {
      "text/plain": [
       "26"
      ]
     },
     "execution_count": 7,
     "metadata": {},
     "output_type": "execute_result"
    }
   ],
   "source": [
    "sc.parallelize([1, 2, 3, 4], 4).reduce(lambda x, y : (x * 2) + y)"
   ]
  },
  {
   "cell_type": "markdown",
   "id": "d05af19e",
   "metadata": {},
   "source": [
    "# Fold\n",
    "- `RDD.fold(zeroValue, <task>)`\n",
    "- `reduce`와 비슷하지만, 시작값을 zeroValue에 넣어놓고 `reduce`할 수 있다."
   ]
  },
  {
   "cell_type": "code",
   "execution_count": 8,
   "id": "cd8bf3b4",
   "metadata": {},
   "outputs": [
    {
     "data": {
      "text/plain": [
       "[[], [2], [3], [4]]"
      ]
     },
     "execution_count": 8,
     "metadata": {},
     "output_type": "execute_result"
    }
   ],
   "source": [
    "rdd = sc.parallelize([2, 3, 4], 4)\n",
    "rdd.glom().collect()"
   ]
  },
  {
   "cell_type": "code",
   "execution_count": 9,
   "id": "7a0aeae1",
   "metadata": {},
   "outputs": [
    {
     "data": {
      "text/plain": [
       "24"
      ]
     },
     "execution_count": 9,
     "metadata": {},
     "output_type": "execute_result"
    }
   ],
   "source": [
    "rdd.reduce(lambda x , y : x * y) # reduce는 없는 값은 없는것처럼 생각"
   ]
  },
  {
   "cell_type": "code",
   "execution_count": 10,
   "id": "58a1fba9",
   "metadata": {},
   "outputs": [
    {
     "data": {
      "text/plain": [
       "24"
      ]
     },
     "execution_count": 10,
     "metadata": {},
     "output_type": "execute_result"
    }
   ],
   "source": [
    "rdd.fold(1, lambda x, y : x * y) # fold는 없는 값에 강제로 넣어서 연산 생각"
   ]
  },
  {
   "cell_type": "code",
   "execution_count": 12,
   "id": "bd700dbb",
   "metadata": {},
   "outputs": [
    {
     "data": {
      "text/plain": [
       "9"
      ]
     },
     "execution_count": 12,
     "metadata": {},
     "output_type": "execute_result"
    }
   ],
   "source": [
    "rdd.reduce(lambda x , y : x + y)"
   ]
  },
  {
   "cell_type": "code",
   "execution_count": 14,
   "id": "9375d3b5",
   "metadata": {},
   "outputs": [
    {
     "data": {
      "text/plain": [
       "14"
      ]
     },
     "execution_count": 14,
     "metadata": {},
     "output_type": "execute_result"
    }
   ],
   "source": [
    "rdd.fold(1, lambda x , y : x + y)"
   ]
  },
  {
   "cell_type": "markdown",
   "id": "8ba4ccdc",
   "metadata": {},
   "source": [
    "# Aggregate( Action )\n",
    "- `RDD.aggregate(zeroValue, seqOp, combOp)`\n",
    "    - `zeroValue` : 각 파티션에서 누적할 시작값\n",
    "    - `seqOp` : 타입 변경 함수. 파티션 내부에서 사용할 task\n",
    "    - `combOp` : 합치는 함수. 파티션 끼리 사용할 task"
   ]
  },
  {
   "cell_type": "code",
   "execution_count": 16,
   "id": "35ec5682",
   "metadata": {},
   "outputs": [
    {
     "data": {
      "text/plain": [
       "[[1, 2], [3, 4]]"
      ]
     },
     "execution_count": 16,
     "metadata": {},
     "output_type": "execute_result"
    }
   ],
   "source": [
    "rdd = sc.parallelize([1, 2, 3, 4], 2)\n",
    "rdd.glom().collect()"
   ]
  },
  {
   "cell_type": "code",
   "execution_count": 18,
   "id": "9a48387e",
   "metadata": {},
   "outputs": [],
   "source": [
    "seqOp = lambda x, y : (x[0] + y, x[1] + 1) # 파티션 내의 reduce task\n",
    "combOp = lambda x , y : (x[0] + y[0], x[1] + y[1]) # 파티션 연산 결과에 대한 reduce task"
   ]
  },
  {
   "cell_type": "code",
   "execution_count": 19,
   "id": "675486c3",
   "metadata": {},
   "outputs": [
    {
     "data": {
      "text/plain": [
       "(10, 4)"
      ]
     },
     "execution_count": 19,
     "metadata": {},
     "output_type": "execute_result"
    }
   ],
   "source": [
    "rdd.aggregate((0, 0), seqOp, combOp)"
   ]
  },
  {
   "cell_type": "code",
   "execution_count": 20,
   "id": "057f4195",
   "metadata": {},
   "outputs": [],
   "source": [
    "sc.stop()"
   ]
  }
 ],
 "metadata": {
  "kernelspec": {
   "display_name": "Python 3 (ipykernel)",
   "language": "python",
   "name": "python3"
  },
  "language_info": {
   "codemirror_mode": {
    "name": "ipython",
    "version": 3
   },
   "file_extension": ".py",
   "mimetype": "text/x-python",
   "name": "python",
   "nbconvert_exporter": "python",
   "pygments_lexer": "ipython3",
   "version": "3.8.18"
  }
 },
 "nbformat": 4,
 "nbformat_minor": 5
}
