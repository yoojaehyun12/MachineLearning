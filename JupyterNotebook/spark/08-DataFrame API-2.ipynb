{
 "cells": [
  {
   "cell_type": "code",
   "execution_count": 3,
   "id": "bcdda2ec",
   "metadata": {},
   "outputs": [
    {
     "name": "stderr",
     "output_type": "stream",
     "text": [
      "Using Spark's default log4j profile: org/apache/spark/log4j-defaults.properties\n",
      "Setting default log level to \"WARN\".\n",
      "To adjust logging level use sc.setLogLevel(newLevel). For SparkR, use setLogLevel(newLevel).\n",
      "24/03/28 14:33:38 WARN NativeCodeLoader: Unable to load native-hadoop library for your platform... using builtin-java classes where applicable\n"
     ]
    }
   ],
   "source": [
    "from pyspark.sql import SparkSession\n",
    "\n",
    "spark = SparkSession.builder.master(\"local\").appName(\"spart-dataframe\").getOrCreate()"
   ]
  },
  {
   "cell_type": "code",
   "execution_count": 5,
   "id": "ea35e32a",
   "metadata": {},
   "outputs": [],
   "source": [
    "filepath = \"/home/ubuntu/working/spark/data/titanic_train.csv\"\n",
    "\n",
    "# inferSchema : 컬럼 타입을 자동으로 추론\n",
    "titanic_sdf = spark.read.csv(filepath, inferSchema=True, header=True)"
   ]
  },
  {
   "cell_type": "code",
   "execution_count": 6,
   "id": "5bfa38a7",
   "metadata": {},
   "outputs": [],
   "source": [
    "import pandas as pd\n",
    "\n",
    "titanic_pdf = pd.read_csv(filepath)"
   ]
  },
  {
   "cell_type": "code",
   "execution_count": 8,
   "id": "067880a5",
   "metadata": {},
   "outputs": [
    {
     "name": "stdout",
     "output_type": "stream",
     "text": [
      "+-----------+--------+------+--------------------+------+----+-----+-----+----------------+-------+-----+--------+\n",
      "|PassengerId|Survived|Pclass|                Name|   Sex| Age|SibSp|Parch|          Ticket|   Fare|Cabin|Embarked|\n",
      "+-----------+--------+------+--------------------+------+----+-----+-----+----------------+-------+-----+--------+\n",
      "|         25|       0|     3|Palsson, Miss. To...|female| 8.0|    3|    1|          349909| 21.075| null|       S|\n",
      "|         47|       0|     3|   Lennon, Mr. Denis|  male|null|    1|    0|          370371|   15.5| null|       Q|\n",
      "|         26|       1|     3|Asplund, Mrs. Car...|female|38.0|    1|    5|          347077|31.3875| null|       S|\n",
      "|          3|       1|     3|Heikkinen, Miss. ...|female|26.0|    0|    0|STON/O2. 3101282|  7.925| null|       S|\n",
      "|         27|       0|     3|Emir, Mr. Farred ...|  male|null|    0|    0|            2631|  7.225| null|       C|\n",
      "|          6|       0|     3|    Moran, Mr. James|  male|null|    0|    0|          330877| 8.4583| null|       Q|\n",
      "|         29|       1|     3|\"O'Dwyer, Miss. E...|female|null|    0|    0|          330959| 7.8792| null|       Q|\n",
      "|          9|       1|     3|Johnson, Mrs. Osc...|female|27.0|    0|    2|          347742|11.1333| null|       S|\n",
      "|         30|       0|     3| Todoroff, Mr. Lalio|  male|null|    0|    0|          349216| 7.8958| null|       S|\n",
      "|         13|       0|     3|Saundercock, Mr. ...|  male|20.0|    0|    0|       A/5. 2151|   8.05| null|       S|\n",
      "|         33|       1|     3|Glynn, Miss. Mary...|female|null|    0|    0|          335677|   7.75| null|       Q|\n",
      "|         15|       0|     3|Vestrom, Miss. Hu...|female|14.0|    0|    0|          350406| 7.8542| null|       S|\n",
      "|         37|       1|     3|    Mamee, Mr. Hanna|  male|null|    0|    0|            2677| 7.2292| null|       C|\n",
      "|         19|       0|     3|Vander Planke, Mr...|female|31.0|    1|    0|          345763|   18.0| null|       S|\n",
      "|         38|       0|     3|Cann, Mr. Ernest ...|  male|21.0|    0|    0|      A./5. 2152|   8.05| null|       S|\n",
      "|         48|       1|     3|O'Driscoll, Miss....|female|null|    0|    0|           14311|   7.75| null|       Q|\n",
      "|         39|       0|     3|Vander Planke, Mi...|female|18.0|    2|    0|          345764|   18.0| null|       S|\n",
      "|          1|       0|     3|Braund, Mr. Owen ...|  male|22.0|    1|    0|       A/5 21171|   7.25| null|       S|\n",
      "|         40|       1|     3|Nicola-Yarred, Mi...|female|14.0|    1|    0|            2651|11.2417| null|       C|\n",
      "|          8|       0|     3|Palsson, Master. ...|  male| 2.0|    3|    1|          349909| 21.075| null|       S|\n",
      "+-----------+--------+------+--------------------+------+----+-----+-----+----------------+-------+-----+--------+\n",
      "only showing top 20 rows\n",
      "\n"
     ]
    }
   ],
   "source": [
    "# spark 에서 order by 사용\n",
    "import pyspark.sql.functions as F\n",
    "\n",
    "titanic_sdf.orderBy(\n",
    "    F.col(\"Pclass\"),\n",
    "    ascending=False\n",
    ").show()"
   ]
  },
  {
   "cell_type": "code",
   "execution_count": 11,
   "id": "ef26be2d",
   "metadata": {},
   "outputs": [
    {
     "name": "stdout",
     "output_type": "stream",
     "text": [
      "+-----------+--------+------+--------------------+------+----+-----+-----+---------------+-------+-----+--------+\n",
      "|PassengerId|Survived|Pclass|                Name|   Sex| Age|SibSp|Parch|         Ticket|   Fare|Cabin|Embarked|\n",
      "+-----------+--------+------+--------------------+------+----+-----+-----+---------------+-------+-----+--------+\n",
      "|         78|       0|     3|Moutal, Mr. Raham...|  male|null|    0|    0|         374746|   8.05| null|       S|\n",
      "|        177|       0|     3|Lefebre, Master. ...|  male|null|    3|    1|           4133|25.4667| null|       S|\n",
      "|         83|       1|     3|McDermott, Miss. ...|female|null|    0|    0|         330932| 7.7875| null|       Q|\n",
      "|         77|       0|     3|   Staneff, Mr. Ivan|  male|null|    0|    0|         349208| 7.8958| null|       S|\n",
      "|         88|       0|     3|Slocovski, Mr. Se...|  male|null|    0|    0|SOTON/OQ 392086|   8.05| null|       S|\n",
      "|         37|       1|     3|    Mamee, Mr. Hanna|  male|null|    0|    0|           2677| 7.2292| null|       C|\n",
      "|         96|       0|     3|Shorney, Mr. Char...|  male|null|    0|    0|         374910|   8.05| null|       S|\n",
      "|         29|       1|     3|\"O'Dwyer, Miss. E...|female|null|    0|    0|         330959| 7.8792| null|       Q|\n",
      "|        102|       0|     3|\"Petroff, Mr. Pas...|  male|null|    0|    0|         349215| 7.8958| null|       S|\n",
      "|         33|       1|     3|Glynn, Miss. Mary...|female|null|    0|    0|         335677|   7.75| null|       Q|\n",
      "|        108|       1|     3|Moss, Mr. Albert ...|  male|null|    0|    0|         312991|  7.775| null|       S|\n",
      "|          6|       0|     3|    Moran, Mr. James|  male|null|    0|    0|         330877| 8.4583| null|       Q|\n",
      "|        110|       1|     3| Moran, Miss. Bertha|female|null|    1|    0|         371110|  24.15| null|       Q|\n",
      "|         47|       0|     3|   Lennon, Mr. Denis|  male|null|    1|    0|         370371|   15.5| null|       Q|\n",
      "|        122|       0|     3|Moore, Mr. Leonar...|  male|null|    0|    0|      A4. 54510|   8.05| null|       S|\n",
      "|        127|       0|     3| McMahon, Mr. Martin|  male|null|    0|    0|         370372|   7.75| null|       Q|\n",
      "|         43|       0|     3| Kraeff, Mr. Theodor|  male|null|    0|    0|         349253| 7.8958| null|       C|\n",
      "|        129|       1|     3|   Peter, Miss. Anna|female|null|    1|    1|           2668|22.3583|F E69|       C|\n",
      "|         27|       0|     3|Emir, Mr. Farred ...|  male|null|    0|    0|           2631|  7.225| null|       C|\n",
      "|        141|       0|     3|Boulos, Mrs. Jose...|female|null|    0|    2|           2678|15.2458| null|       C|\n",
      "+-----------+--------+------+--------------------+------+----+-----+-----+---------------+-------+-----+--------+\n",
      "only showing top 20 rows\n",
      "\n"
     ]
    }
   ],
   "source": [
    "# Pclass 오름차순 , Age 내림차순\n",
    "titanic_sdf.orderBy(\n",
    "    [F.col(\"Pclass\"),F.col(\"Age\")],\n",
    "    ascending=[False, True]\n",
    ").show()"
   ]
  },
  {
   "cell_type": "code",
   "execution_count": 13,
   "id": "ac3a5c1a",
   "metadata": {},
   "outputs": [
    {
     "name": "stdout",
     "output_type": "stream",
     "text": [
      "+-----------+--------+------+--------------------+------+----+-----+-----+---------+--------+-----------+--------+\n",
      "|PassengerId|Survived|Pclass|                Name|   Sex| Age|SibSp|Parch|   Ticket|    Fare|      Cabin|Embarked|\n",
      "+-----------+--------+------+--------------------+------+----+-----+-----+---------+--------+-----------+--------+\n",
      "|        631|       1|     1|Barkworth, Mr. Al...|  male|80.0|    0|    0|    27042|    30.0|        A23|       S|\n",
      "|        494|       0|     1|Artagaveytia, Mr....|  male|71.0|    0|    0| PC 17609| 49.5042|       null|       C|\n",
      "|         97|       0|     1|Goldschmidt, Mr. ...|  male|71.0|    0|    0| PC 17754| 34.6542|         A5|       C|\n",
      "|        746|       0|     1|Crosby, Capt. Edw...|  male|70.0|    1|    1|WE/P 5735|    71.0|        B22|       S|\n",
      "|         55|       0|     1|Ostby, Mr. Engelh...|  male|65.0|    0|    1|   113509| 61.9792|        B30|       C|\n",
      "|        457|       0|     1|Millet, Mr. Franc...|  male|65.0|    0|    0|    13509|   26.55|        E38|       S|\n",
      "|        439|       0|     1|   Fortune, Mr. Mark|  male|64.0|    1|    4|    19950|   263.0|C23 C25 C27|       S|\n",
      "|        546|       0|     1|Nicholson, Mr. Ar...|  male|64.0|    0|    0|      693|    26.0|       null|       S|\n",
      "|        276|       1|     1|Andrews, Miss. Ko...|female|63.0|    1|    0|    13502| 77.9583|         D7|       S|\n",
      "|        830|       1|     1|Stone, Mrs. Georg...|female|62.0|    0|    0|   113572|    80.0|        B28|    null|\n",
      "|        556|       0|     1|  Wright, Mr. George|  male|62.0|    0|    0|   113807|   26.55|       null|       S|\n",
      "|        253|       0|     1|Stead, Mr. Willia...|  male|62.0|    0|    0|   113514|   26.55|        C87|       S|\n",
      "|        171|       0|     1|Van der hoef, Mr....|  male|61.0|    0|    0|   111240|    33.5|        B19|       S|\n",
      "|        626|       0|     1|Sutton, Mr. Frede...|  male|61.0|    0|    0|    36963| 32.3208|        D50|       S|\n",
      "|        367|       1|     1|Warren, Mrs. Fran...|female|60.0|    1|    0|   110813|   75.25|        D37|       C|\n",
      "|        588|       1|     1|Frolicher-Stehli,...|  male|60.0|    1|    1|    13567|    79.2|        B41|       C|\n",
      "|        695|       0|     1|     Weir, Col. John|  male|60.0|    0|    0|   113800|   26.55|       null|       S|\n",
      "|        269|       1|     1|Graham, Mrs. Will...|female|58.0|    0|    1| PC 17582|153.4625|       C125|       S|\n",
      "|        196|       1|     1|Lurette, Miss. Elise|female|58.0|    0|    0| PC 17569|146.5208|        B80|       C|\n",
      "|        488|       0|     1|Kent, Mr. Edward ...|  male|58.0|    0|    0|    11771|    29.7|        B37|       C|\n",
      "+-----------+--------+------+--------------------+------+----+-----+-----+---------+--------+-----------+--------+\n",
      "only showing top 20 rows\n",
      "\n"
     ]
    }
   ],
   "source": [
    "# orderBy 와 동일한 메소드인 sort\n",
    "titanic_sdf.sort(\n",
    "    F.col(\"Pclass\").asc(),\n",
    "    F.col(\"Age\").desc()\n",
    ").show()"
   ]
  },
  {
   "cell_type": "markdown",
   "id": "769f0c9a",
   "metadata": {},
   "source": [
    "## 연습 문제\n",
    "다음 쿼리를 스파크 데이터 프레임으로 표현하세요..\n",
    "1. ```SQL\n",
    "    select Pclass, Name\n",
    "    from ( select *\n",
    "           from titanic_sdf\n",
    "           order by Pclass asc, Name desc)\n",
    "```\n",
    "\n",
    "2. ```SQL\n",
    "select Pclass, Name\n",
    "from titanic_sdf\n",
    "order by Pclass asc, Name desc\n",
    "```"
   ]
  },
  {
   "cell_type": "code",
   "execution_count": 15,
   "id": "3a207149",
   "metadata": {},
   "outputs": [
    {
     "name": "stdout",
     "output_type": "stream",
     "text": [
      "+------+--------------------+\n",
      "|Pclass|                Name|\n",
      "+------+--------------------+\n",
      "|     1|Young, Miss. Mari...|\n",
      "|     1|  Wright, Mr. George|\n",
      "|     1|   Woolner, Mr. Hugh|\n",
      "|     1|Williams-Lambert,...|\n",
      "|     1|Williams, Mr. Cha...|\n",
      "|     1|Widener, Mr. Harr...|\n",
      "|     1|Wick, Mrs. George...|\n",
      "|     1|Wick, Miss. Mary ...|\n",
      "|     1|White, Mr. Richar...|\n",
      "|     1|White, Mr. Perciv...|\n",
      "|     1|     Weir, Col. John|\n",
      "|     1|Warren, Mrs. Fran...|\n",
      "|     1|    Ward, Miss. Anna|\n",
      "|     1|Walker, Mr. Willi...|\n",
      "|     1|Van der hoef, Mr....|\n",
      "|     1|Uruchurtu, Don. M...|\n",
      "|     1|Thorne, Mrs. Gert...|\n",
      "|     1|Thayer, Mrs. John...|\n",
      "|     1|Thayer, Mr. John ...|\n",
      "|     1|Thayer, Mr. John ...|\n",
      "+------+--------------------+\n",
      "only showing top 20 rows\n",
      "\n"
     ]
    }
   ],
   "source": [
    "# 1\n",
    "titanic_sdf.sort(\n",
    "    F.col(\"Pclass\").asc(),\n",
    "    F.col(\"Name\").desc()\n",
    ").select(\n",
    "    F.col(\"Pclass\"),\n",
    "    F.col(\"Name\")\n",
    ").show()"
   ]
  },
  {
   "cell_type": "code",
   "execution_count": 18,
   "id": "7e0bf6e3",
   "metadata": {},
   "outputs": [
    {
     "name": "stdout",
     "output_type": "stream",
     "text": [
      "+------+--------------------+\n",
      "|Pclass|                Name|\n",
      "+------+--------------------+\n",
      "|     1|Young, Miss. Mari...|\n",
      "|     1|  Wright, Mr. George|\n",
      "|     1|   Woolner, Mr. Hugh|\n",
      "|     1|Williams-Lambert,...|\n",
      "|     1|Williams, Mr. Cha...|\n",
      "|     1|Widener, Mr. Harr...|\n",
      "|     1|Wick, Mrs. George...|\n",
      "|     1|Wick, Miss. Mary ...|\n",
      "|     1|White, Mr. Richar...|\n",
      "|     1|White, Mr. Perciv...|\n",
      "|     1|     Weir, Col. John|\n",
      "|     1|Warren, Mrs. Fran...|\n",
      "|     1|    Ward, Miss. Anna|\n",
      "|     1|Walker, Mr. Willi...|\n",
      "|     1|Van der hoef, Mr....|\n",
      "|     1|Uruchurtu, Don. M...|\n",
      "|     1|Thorne, Mrs. Gert...|\n",
      "|     1|Thayer, Mrs. John...|\n",
      "|     1|Thayer, Mr. John ...|\n",
      "|     1|Thayer, Mr. John ...|\n",
      "+------+--------------------+\n",
      "only showing top 20 rows\n",
      "\n"
     ]
    }
   ],
   "source": [
    "# 2\n",
    "titanic_sdf.select(\n",
    "    F.col(\"Pclass\"), F.col(\"Name\")\n",
    ").orderBy(\n",
    "    [F.col(\"Pclass\"), F.col(\"Name\")],\n",
    "    ascending=[True, False]\n",
    ").show()"
   ]
  },
  {
   "cell_type": "markdown",
   "id": "add8d609",
   "metadata": {},
   "source": [
    "# Aggregation\n",
    "- Spark DataFrame은 DataFrame 객체에서 집계 메소드가 많이 없다.\n",
    "- 집계에 관련된 메소드는 거의 대부분 `pyspark.sql.functions` 패키지에 있는 함수를 활용"
   ]
  },
  {
   "cell_type": "code",
   "execution_count": 19,
   "id": "fa876020",
   "metadata": {},
   "outputs": [
    {
     "ename": "AttributeError",
     "evalue": "'DataFrame' object has no attribute 'mean'",
     "output_type": "error",
     "traceback": [
      "\u001b[0;31m---------------------------------------------------------------------------\u001b[0m",
      "\u001b[0;31mAttributeError\u001b[0m                            Traceback (most recent call last)",
      "Cell \u001b[0;32mIn[19], line 2\u001b[0m\n\u001b[1;32m      1\u001b[0m \u001b[38;5;66;03m# spark에는 집계 함수가 없음\u001b[39;00m\n\u001b[0;32m----> 2\u001b[0m \u001b[43mtitanic_sdf\u001b[49m\u001b[38;5;241;43m.\u001b[39;49m\u001b[43mselect\u001b[49m\u001b[43m(\u001b[49m\n\u001b[1;32m      3\u001b[0m \u001b[43m    \u001b[49m\u001b[43mF\u001b[49m\u001b[38;5;241;43m.\u001b[39;49m\u001b[43mcol\u001b[49m\u001b[43m(\u001b[49m\u001b[38;5;124;43m\"\u001b[39;49m\u001b[38;5;124;43mAge\u001b[39;49m\u001b[38;5;124;43m\"\u001b[39;49m\u001b[43m)\u001b[49m\n\u001b[1;32m      4\u001b[0m \u001b[43m)\u001b[49m\u001b[38;5;241;43m.\u001b[39;49m\u001b[43mmean\u001b[49m()\n",
      "File \u001b[0;32m~/miniconda3/envs/spark-env/lib/python3.8/site-packages/pyspark/sql/dataframe.py:1659\u001b[0m, in \u001b[0;36mDataFrame.__getattr__\u001b[0;34m(self, name)\u001b[0m\n\u001b[1;32m   1649\u001b[0m \u001b[38;5;250m\u001b[39m\u001b[38;5;124;03m\"\"\"Returns the :class:`Column` denoted by ``name``.\u001b[39;00m\n\u001b[1;32m   1650\u001b[0m \n\u001b[1;32m   1651\u001b[0m \u001b[38;5;124;03m.. versionadded:: 1.3.0\u001b[39;00m\n\u001b[0;32m   (...)\u001b[0m\n\u001b[1;32m   1656\u001b[0m \u001b[38;5;124;03m[Row(age=2), Row(age=5)]\u001b[39;00m\n\u001b[1;32m   1657\u001b[0m \u001b[38;5;124;03m\"\"\"\u001b[39;00m\n\u001b[1;32m   1658\u001b[0m \u001b[38;5;28;01mif\u001b[39;00m name \u001b[38;5;129;01mnot\u001b[39;00m \u001b[38;5;129;01min\u001b[39;00m \u001b[38;5;28mself\u001b[39m\u001b[38;5;241m.\u001b[39mcolumns:\n\u001b[0;32m-> 1659\u001b[0m     \u001b[38;5;28;01mraise\u001b[39;00m \u001b[38;5;167;01mAttributeError\u001b[39;00m(\n\u001b[1;32m   1660\u001b[0m         \u001b[38;5;124m\"\u001b[39m\u001b[38;5;124m'\u001b[39m\u001b[38;5;132;01m%s\u001b[39;00m\u001b[38;5;124m'\u001b[39m\u001b[38;5;124m object has no attribute \u001b[39m\u001b[38;5;124m'\u001b[39m\u001b[38;5;132;01m%s\u001b[39;00m\u001b[38;5;124m'\u001b[39m\u001b[38;5;124m\"\u001b[39m \u001b[38;5;241m%\u001b[39m (\u001b[38;5;28mself\u001b[39m\u001b[38;5;241m.\u001b[39m\u001b[38;5;18m__class__\u001b[39m\u001b[38;5;241m.\u001b[39m\u001b[38;5;18m__name__\u001b[39m, name))\n\u001b[1;32m   1661\u001b[0m jc \u001b[38;5;241m=\u001b[39m \u001b[38;5;28mself\u001b[39m\u001b[38;5;241m.\u001b[39m_jdf\u001b[38;5;241m.\u001b[39mapply(name)\n\u001b[1;32m   1662\u001b[0m \u001b[38;5;28;01mreturn\u001b[39;00m Column(jc)\n",
      "\u001b[0;31mAttributeError\u001b[0m: 'DataFrame' object has no attribute 'mean'"
     ]
    }
   ],
   "source": [
    "# spark에는 집계 함수가 없음\n",
    "titanic_sdf.select(\n",
    "    F.col(\"Age\")\n",
    ").mean()"
   ]
  },
  {
   "cell_type": "code",
   "execution_count": 20,
   "id": "06150010",
   "metadata": {},
   "outputs": [
    {
     "name": "stdout",
     "output_type": "stream",
     "text": [
      "+--------+--------+--------+\n",
      "|max(Age)|min(Age)|sum(Age)|\n",
      "+--------+--------+--------+\n",
      "|    80.0|    0.42|21205.17|\n",
      "+--------+--------+--------+\n",
      "\n"
     ]
    }
   ],
   "source": [
    "# Spark DataFrame 으로 집계하기\n",
    "import pyspark.sql.functions as F\n",
    "\n",
    "titanic_sdf_agg = titanic_sdf.select(\n",
    "    F.max(F.col(\"Age\")),\n",
    "    F.min(F.col(\"Age\")),\n",
    "    F.sum(F.col(\"Age\"))\n",
    ")\n",
    "\n",
    "titanic_sdf_agg.show()"
   ]
  },
  {
   "cell_type": "code",
   "execution_count": 21,
   "id": "3a223f65",
   "metadata": {},
   "outputs": [
    {
     "name": "stdout",
     "output_type": "stream",
     "text": [
      "+------+-----+\n",
      "|Pclass|count|\n",
      "+------+-----+\n",
      "|     1|  216|\n",
      "|     3|  491|\n",
      "|     2|  184|\n",
      "+------+-----+\n",
      "\n"
     ]
    }
   ],
   "source": [
    "titanic_sdf.groupby(\n",
    "    F.col(\"Pclass\")\n",
    ").count().show()"
   ]
  },
  {
   "cell_type": "code",
   "execution_count": 22,
   "id": "f4c13d29",
   "metadata": {},
   "outputs": [
    {
     "name": "stdout",
     "output_type": "stream",
     "text": [
      "+------+----------------+-------------+-----------+--------+----------+----------+---------+\n",
      "|Pclass|max(PassengerId)|max(Survived)|max(Pclass)|max(Age)|max(SibSp)|max(Parch)|max(Fare)|\n",
      "+------+----------------+-------------+-----------+--------+----------+----------+---------+\n",
      "|     1|             890|            1|          1|    80.0|         3|         4| 512.3292|\n",
      "|     3|             891|            1|          3|    74.0|         8|         6|    69.55|\n",
      "|     2|             887|            1|          2|    70.0|         3|         3|     73.5|\n",
      "+------+----------------+-------------+-----------+--------+----------+----------+---------+\n",
      "\n"
     ]
    }
   ],
   "source": [
    "# count 가 아닌 다른 집계 함수를 groupby를 이용해 특정 칼럼에 적용하면 판다스 데이터 프레임과 유사하게 나온다\n",
    "titanic_sdf.groupby(\"Pclass\").max().show()"
   ]
  },
  {
   "cell_type": "code",
   "execution_count": 26,
   "id": "03ba7855",
   "metadata": {},
   "outputs": [
    {
     "name": "stdout",
     "output_type": "stream",
     "text": [
      "+------+--------+\n",
      "|Pclass|max(Age)|\n",
      "+------+--------+\n",
      "|     1|    80.0|\n",
      "|     3|    74.0|\n",
      "|     2|    70.0|\n",
      "+------+--------+\n",
      "\n"
     ]
    }
   ],
   "source": [
    "# max 와 같은 집계 함수 내에서는 컬럼 속성을 사용 할 수 없음(예:max(F.col(\"Age\")))\n",
    "titanic_sdf.groupby(\"Pclass\").max(\"Age\").show()"
   ]
  },
  {
   "cell_type": "code",
   "execution_count": 27,
   "id": "4e2625be",
   "metadata": {},
   "outputs": [
    {
     "name": "stdout",
     "output_type": "stream",
     "text": [
      "+------+--------+--------+\n",
      "|Pclass|Embarked|max(Age)|\n",
      "+------+--------+--------+\n",
      "|     3|       C|    45.5|\n",
      "|     2|       C|    36.0|\n",
      "|     1|    null|    62.0|\n",
      "|     1|       Q|    44.0|\n",
      "|     3|       Q|    70.5|\n",
      "|     2|       Q|    57.0|\n",
      "|     1|       C|    71.0|\n",
      "|     1|       S|    80.0|\n",
      "|     3|       S|    74.0|\n",
      "|     2|       S|    70.0|\n",
      "+------+--------+--------+\n",
      "\n"
     ]
    }
   ],
   "source": [
    "# 두 개 이상의 집계 기준 마련하기\n",
    "titanic_sdf.groupby(\n",
    "    [F.col(\"Pclass\"), F.col(\"Embarked\")]\n",
    ").max(\"Age\").show()"
   ]
  },
  {
   "cell_type": "code",
   "execution_count": 28,
   "id": "c6f1cf6e",
   "metadata": {},
   "outputs": [
    {
     "name": "stdout",
     "output_type": "stream",
     "text": [
      "+------+-------+-------+-------+------------------+\n",
      "|Pclass|max_age|min_age|sum_age|           avg_Age|\n",
      "+------+-------+-------+-------+------------------+\n",
      "|     1|   80.0|   0.92|7111.42|38.233440860215055|\n",
      "|     3|   74.0|   0.42|8924.92| 25.14061971830986|\n",
      "|     2|   70.0|   0.67|5168.83| 29.87763005780347|\n",
      "+------+-------+-------+-------+------------------+\n",
      "\n"
     ]
    }
   ],
   "source": [
    "# agg 함수 사용하기 \n",
    "# function 패키지 안에는 또 컬럼 속성 넣을 수 있다\n",
    "titanic_sdf.groupby(\"Pclass\").agg(\n",
    "    F.max(F.col(\"Age\")).alias(\"max_age\"),\n",
    "    F.min(\"Age\").alias(\"min_age\"),\n",
    "    F.sum(F.col(\"Age\")).alias(\"sum_age\"),\n",
    "    F.avg(\"Age\").alias(\"avg_Age\")\n",
    ").show()"
   ]
  },
  {
   "cell_type": "code",
   "execution_count": 29,
   "id": "4ce81a51",
   "metadata": {},
   "outputs": [],
   "source": [
    "spark.stop()"
   ]
  },
  {
   "cell_type": "code",
   "execution_count": null,
   "id": "825c0b23",
   "metadata": {},
   "outputs": [],
   "source": []
  },
  {
   "cell_type": "code",
   "execution_count": null,
   "id": "2c552daf",
   "metadata": {},
   "outputs": [],
   "source": []
  },
  {
   "cell_type": "code",
   "execution_count": null,
   "id": "ee303d46",
   "metadata": {},
   "outputs": [],
   "source": []
  },
  {
   "cell_type": "code",
   "execution_count": null,
   "id": "b57d710d",
   "metadata": {},
   "outputs": [],
   "source": []
  }
 ],
 "metadata": {
  "kernelspec": {
   "display_name": "Python 3 (ipykernel)",
   "language": "python",
   "name": "python3"
  },
  "language_info": {
   "codemirror_mode": {
    "name": "ipython",
    "version": 3
   },
   "file_extension": ".py",
   "mimetype": "text/x-python",
   "name": "python",
   "nbconvert_exporter": "python",
   "pygments_lexer": "ipython3",
   "version": "3.8.18"
  }
 },
 "nbformat": 4,
 "nbformat_minor": 5
}
