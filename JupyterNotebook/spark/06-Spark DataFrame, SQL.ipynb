{
 "cells": [
  {
   "cell_type": "code",
   "execution_count": 4,
   "id": "f0dd26b4",
   "metadata": {},
   "outputs": [
    {
     "data": {
      "text/html": [
       "\n",
       "        <div>\n",
       "            <p><b>SparkContext</b></p>\n",
       "\n",
       "            <p><a href=\"http://0.0.0.0:4040\">Spark UI</a></p>\n",
       "\n",
       "            <dl>\n",
       "              <dt>Version</dt>\n",
       "                <dd><code>v3.2.4</code></dd>\n",
       "              <dt>Master</dt>\n",
       "                <dd><code>local</code></dd>\n",
       "              <dt>AppName</dt>\n",
       "                <dd><code>spark_sql_basic</code></dd>\n",
       "            </dl>\n",
       "        </div>\n",
       "        "
      ],
      "text/plain": [
       "<SparkContext master=local appName=spark_sql_basic>"
      ]
     },
     "execution_count": 4,
     "metadata": {},
     "output_type": "execute_result"
    }
   ],
   "source": [
    "from pyspark import SparkConf, SparkContext\n",
    "\n",
    "conf = SparkConf().setMaster(\"local\").setAppName(\"spark_sql_basic\")\n",
    "sc = SparkContext(conf=conf)\n",
    "sc"
   ]
  },
  {
   "cell_type": "code",
   "execution_count": 5,
   "id": "20aa4205",
   "metadata": {},
   "outputs": [],
   "source": [
    "movies_rdd = sc.parallelize([\n",
    "    (1, (\"어벤져스\", \"마블\")),\n",
    "    (2, (\"슈퍼맨\", \"DC\")),\n",
    "    (3, (\"배트맨\", \"DC\")),\n",
    "    (4, (\"겨울왕국\", \"디즈니\")),\n",
    "    (5, (\"아이언맨\", \"마블\"))\n",
    "])\n",
    "\n",
    "attendances_rdd = sc.parallelize([\n",
    "    (1, (13934592, \"KR\")),\n",
    "    (2, (2182227,\"KR\")),\n",
    "    (3, (4226242, \"KR\")),\n",
    "    (4, (10303058, \"KR\")),\n",
    "    (5, (4300365, \"KR\"))\n",
    "])"
   ]
  },
  {
   "cell_type": "markdown",
   "id": "88396381",
   "metadata": {},
   "source": [
    "마블 영화 중 관객수가 500만 이상인 영화 가져오기"
   ]
  },
  {
   "cell_type": "code",
   "execution_count": null,
   "id": "342dfd7d",
   "metadata": {},
   "outputs": [],
   "source": [
    "# CASE 1 : Join을 먼저, Filter 나중에\n",
    "movie_att_rdd = movies_rdd.join(attendances_rdd)\n",
    "movie_att_rdd.filter(lambda x : x[1][0][1] == '마블' and x[1][1][0] >= 5000000).collect()"
   ]
  },
  {
   "cell_type": "code",
   "execution_count": null,
   "id": "f1066219",
   "metadata": {},
   "outputs": [],
   "source": [
    "# CASE 2 : Filter 먼저, Join을 나중에\n",
    "filtered_movies = movies_rdd.filter(lambda x : x[1][1] == \"마블\")\n",
    "filtered_attendances = attendances_rdd.filter(lambda x : x[1][0] >= 5000000)\n",
    "\n",
    "filtered_movies.join(filtered_attendances).collect()"
   ]
  },
  {
   "cell_type": "markdown",
   "id": "fc29f4ea",
   "metadata": {},
   "source": [
    "동일한 결과가 나오긴 하지만 filter를 먼저 수행해서 가져올 데이터를 걸러 낸 다음, join을 하는 CASE 2가 훨씬 효율적이다."
   ]
  },
  {
   "cell_type": "markdown",
   "id": "ad00cd9f",
   "metadata": {},
   "source": [
    "매번 이런 고민을 하기엔 시간이 너무 아깝고 개발자 마다 성능 차이도 심하다"
   ]
  },
  {
   "cell_type": "code",
   "execution_count": 6,
   "id": "74df2579",
   "metadata": {},
   "outputs": [],
   "source": [
    "sc.stop()"
   ]
  },
  {
   "cell_type": "markdown",
   "id": "b8a389c4",
   "metadata": {},
   "source": [
    "# 1. SparkSession 생성\n",
    "- `SparkContext`에 해당하며, 새로운 스파크 어플리케이션을 만들어준다."
   ]
  },
  {
   "cell_type": "code",
   "execution_count": 37,
   "id": "852af994",
   "metadata": {},
   "outputs": [
    {
     "data": {
      "text/html": [
       "\n",
       "            <div>\n",
       "                <p><b>SparkSession - in-memory</b></p>\n",
       "                \n",
       "        <div>\n",
       "            <p><b>SparkContext</b></p>\n",
       "\n",
       "            <p><a href=\"http://0.0.0.0:4040\">Spark UI</a></p>\n",
       "\n",
       "            <dl>\n",
       "              <dt>Version</dt>\n",
       "                <dd><code>v3.2.4</code></dd>\n",
       "              <dt>Master</dt>\n",
       "                <dd><code>local</code></dd>\n",
       "              <dt>AppName</dt>\n",
       "                <dd><code>spark_sql</code></dd>\n",
       "            </dl>\n",
       "        </div>\n",
       "        \n",
       "            </div>\n",
       "        "
      ],
      "text/plain": [
       "<pyspark.sql.session.SparkSession at 0x7f7efd7399a0>"
      ]
     },
     "execution_count": 37,
     "metadata": {},
     "output_type": "execute_result"
    }
   ],
   "source": [
    "from pyspark.sql import SparkSession\n",
    "\n",
    "spark = SparkSession.builder.master(\"local\").appName(\"spark_sql\").getOrCreate()\n",
    "spark"
   ]
  },
  {
   "cell_type": "code",
   "execution_count": 9,
   "id": "e67ff328",
   "metadata": {},
   "outputs": [],
   "source": [
    "# 정형화 된 데이터 만들때에는 무조건 컬럼이 필요하다\n",
    "movies = [\n",
    "    (1, \"어벤져스\", \"마블\", 2012, 4, 26),\n",
    "    (2, \"슈퍼맨\", \"DC\", 2013, 6, 13),\n",
    "    (3, \"배트맨\", \"DC\", 2008, 8, 6),\n",
    "    (4, \"겨울왕국\", \"디즈니\", 2014, 1, 16),\n",
    "    (5, \"아이언맨\", \"마블\", 2008, 4, 30)\n",
    "]"
   ]
  },
  {
   "cell_type": "code",
   "execution_count": 10,
   "id": "0f1a48db",
   "metadata": {},
   "outputs": [],
   "source": [
    "movie_schema = [\"id\", \"name\", \"company\", \"year\", \"month\", \"day\"]"
   ]
  },
  {
   "cell_type": "markdown",
   "id": "c4136d72",
   "metadata": {},
   "source": [
    "# 2. 데이터 프레임 생성"
   ]
  },
  {
   "cell_type": "code",
   "execution_count": 11,
   "id": "aade3fff",
   "metadata": {},
   "outputs": [
    {
     "data": {
      "text/plain": [
       "DataFrame[id: bigint, name: string, company: string, year: bigint, month: bigint, day: bigint]"
      ]
     },
     "execution_count": 11,
     "metadata": {},
     "output_type": "execute_result"
    }
   ],
   "source": [
    "# 데이터프레임 만들때는 이렇게!!\n",
    "movie_sdf = spark.createDataFrame(data=movies, schema=movie_schema)\n",
    "movie_sdf\n",
    "# 이렇게 하면 판다스에서는 만들어지지만, spark에서는 안만들어졌다 \n",
    "# 왜냐하면 이 작업이 transformation 작업이기 때문이다"
   ]
  },
  {
   "cell_type": "code",
   "execution_count": 13,
   "id": "fd96776d",
   "metadata": {},
   "outputs": [
    {
     "data": {
      "text/plain": [
       "[('id', 'bigint'),\n",
       " ('name', 'string'),\n",
       " ('company', 'string'),\n",
       " ('year', 'bigint'),\n",
       " ('month', 'bigint'),\n",
       " ('day', 'bigint')]"
      ]
     },
     "execution_count": 13,
     "metadata": {},
     "output_type": "execute_result"
    }
   ],
   "source": [
    "# 스키마 정보 확인\n",
    "movie_sdf.dtypes"
   ]
  },
  {
   "cell_type": "code",
   "execution_count": 14,
   "id": "e54bd724",
   "metadata": {},
   "outputs": [
    {
     "name": "stderr",
     "output_type": "stream",
     "text": [
      "\r",
      "[Stage 0:>                                                          (0 + 1) / 1]\r"
     ]
    },
    {
     "name": "stdout",
     "output_type": "stream",
     "text": [
      "+---+--------+-------+----+-----+---+\n",
      "| id|    name|company|year|month|day|\n",
      "+---+--------+-------+----+-----+---+\n",
      "|  1|어벤져스|   마블|2012|    4| 26|\n",
      "|  2|  슈퍼맨|     DC|2013|    6| 13|\n",
      "|  3|  배트맨|     DC|2008|    8|  6|\n",
      "|  4|겨울왕국| 디즈니|2014|    1| 16|\n",
      "|  5|아이언맨|   마블|2008|    4| 30|\n",
      "+---+--------+-------+----+-----+---+\n",
      "\n"
     ]
    },
    {
     "name": "stderr",
     "output_type": "stream",
     "text": [
      "\r",
      "                                                                                \r"
     ]
    }
   ],
   "source": [
    "# collect()에 해당하는 show() --> 이렇게 하면 action을 취하므로 데이터프레임이 생성 될 것이다\n",
    "movie_sdf.show()"
   ]
  },
  {
   "cell_type": "markdown",
   "id": "b7b26c39",
   "metadata": {},
   "source": [
    "# 3. Spark SQL 사용하기\n",
    "- `createOrReplaceTempView` 함수를 이용해서 DataFrame에 SQL을 사용할 수 있는 View를 만들어 준다."
   ]
  },
  {
   "cell_type": "code",
   "execution_count": 15,
   "id": "1aaacfe6",
   "metadata": {},
   "outputs": [],
   "source": [
    "# view를 만들어야지만 쿼리를 날릴 수 있다\n",
    "movie_sdf.createOrReplaceTempView(\"movies\")"
   ]
  },
  {
   "cell_type": "code",
   "execution_count": 16,
   "id": "a18a653f",
   "metadata": {},
   "outputs": [
    {
     "data": {
      "text/plain": [
       "DataFrame[name: string]"
      ]
     },
     "execution_count": 16,
     "metadata": {},
     "output_type": "execute_result"
    }
   ],
   "source": [
    "query = \"\"\"\n",
    "SELECT name\n",
    "From movies\n",
    "\"\"\"\n",
    "# 이제 쿼리 실행(하지만 이것 또 한 Transformations 이다)\n",
    "result = spark.sql(query)\n",
    "result"
   ]
  },
  {
   "cell_type": "code",
   "execution_count": 17,
   "id": "8af6bcdf",
   "metadata": {},
   "outputs": [
    {
     "name": "stdout",
     "output_type": "stream",
     "text": [
      "+--------+\n",
      "|    name|\n",
      "+--------+\n",
      "|어벤져스|\n",
      "|  슈퍼맨|\n",
      "|  배트맨|\n",
      "|겨울왕국|\n",
      "|아이언맨|\n",
      "+--------+\n",
      "\n"
     ]
    }
   ],
   "source": [
    "result.show()"
   ]
  },
  {
   "cell_type": "code",
   "execution_count": 21,
   "id": "fcc34a2e",
   "metadata": {},
   "outputs": [
    {
     "data": {
      "text/plain": [
       "DataFrame[name: string, year: bigint]"
      ]
     },
     "execution_count": 21,
     "metadata": {},
     "output_type": "execute_result"
    }
   ],
   "source": [
    "# 영화 이름, 개봉 연도 가져오기\n",
    "query = \"\"\"\n",
    "SELECT name, year\n",
    "FROM movies\n",
    "\"\"\"\n",
    "result = spark.sql(query)\n",
    "result"
   ]
  },
  {
   "cell_type": "code",
   "execution_count": 22,
   "id": "2bf5d19d",
   "metadata": {},
   "outputs": [
    {
     "name": "stdout",
     "output_type": "stream",
     "text": [
      "+--------+----+\n",
      "|    name|year|\n",
      "+--------+----+\n",
      "|어벤져스|2012|\n",
      "|  슈퍼맨|2013|\n",
      "|  배트맨|2008|\n",
      "|겨울왕국|2014|\n",
      "|아이언맨|2008|\n",
      "+--------+----+\n",
      "\n"
     ]
    }
   ],
   "source": [
    "result.show()"
   ]
  },
  {
   "cell_type": "code",
   "execution_count": 23,
   "id": "40155353",
   "metadata": {},
   "outputs": [],
   "source": [
    "# 2010년도 이후에 개봉한 영화의 모든 정보\n",
    "query = \"\"\"\n",
    "SELECT year\n",
    "FROM movies\n",
    "WHERE year > 2010\n",
    "\"\"\""
   ]
  },
  {
   "cell_type": "code",
   "execution_count": 24,
   "id": "10a582b9",
   "metadata": {},
   "outputs": [
    {
     "name": "stdout",
     "output_type": "stream",
     "text": [
      "+----+\n",
      "|year|\n",
      "+----+\n",
      "|2012|\n",
      "|2013|\n",
      "|2014|\n",
      "+----+\n",
      "\n"
     ]
    }
   ],
   "source": [
    "result = spark.sql(query)\n",
    "result.show()"
   ]
  },
  {
   "cell_type": "code",
   "execution_count": 25,
   "id": "5380b165",
   "metadata": {},
   "outputs": [],
   "source": [
    "# 2010년도 이후에 개봉한 마블 영화의 모든 정보\n",
    "query = \"\"\"\n",
    "SELECT id, name, company, year, month, day\n",
    "FROM movies\n",
    "WHERE year > 2010\n",
    "\"\"\""
   ]
  },
  {
   "cell_type": "code",
   "execution_count": 26,
   "id": "d6536a25",
   "metadata": {},
   "outputs": [
    {
     "name": "stdout",
     "output_type": "stream",
     "text": [
      "+---+--------+-------+----+-----+---+\n",
      "| id|    name|company|year|month|day|\n",
      "+---+--------+-------+----+-----+---+\n",
      "|  1|어벤져스|   마블|2012|    4| 26|\n",
      "|  2|  슈퍼맨|     DC|2013|    6| 13|\n",
      "|  4|겨울왕국| 디즈니|2014|    1| 16|\n",
      "+---+--------+-------+----+-----+---+\n",
      "\n"
     ]
    }
   ],
   "source": [
    "result = spark.sql(query)\n",
    "result.show()"
   ]
  },
  {
   "cell_type": "code",
   "execution_count": 29,
   "id": "62a565db",
   "metadata": {},
   "outputs": [],
   "source": [
    "# ~맨으로 끝나는 영화의 모든 정보\n",
    "query = \"\"\"\n",
    "SELECT *\n",
    "FROM movies\n",
    "WHERE name LIKE \"%맨\"\n",
    "\"\"\""
   ]
  },
  {
   "cell_type": "code",
   "execution_count": 30,
   "id": "e94da23d",
   "metadata": {},
   "outputs": [
    {
     "name": "stdout",
     "output_type": "stream",
     "text": [
      "+---+--------+-------+----+-----+---+\n",
      "| id|    name|company|year|month|day|\n",
      "+---+--------+-------+----+-----+---+\n",
      "|  2|  슈퍼맨|     DC|2013|    6| 13|\n",
      "|  3|  배트맨|     DC|2008|    8|  6|\n",
      "|  5|아이언맨|   마블|2008|    4| 30|\n",
      "+---+--------+-------+----+-----+---+\n",
      "\n"
     ]
    }
   ],
   "source": [
    "result = spark.sql(query)\n",
    "result.show()"
   ]
  },
  {
   "cell_type": "code",
   "execution_count": 31,
   "id": "be885826",
   "metadata": {},
   "outputs": [],
   "source": [
    "# id가 3번인 영화보다 늦게 개봉한 마블영화의 모든 정보(연도만 고려)\n",
    "query = \"\"\"\n",
    "SELECT *\n",
    "FROM movies\n",
    "WHERE company = \"마블\"\n",
    "    AND year > (SELECT year FROM movies WHERE id=3)\n",
    "\"\"\""
   ]
  },
  {
   "cell_type": "code",
   "execution_count": 32,
   "id": "cc555ded",
   "metadata": {},
   "outputs": [
    {
     "name": "stdout",
     "output_type": "stream",
     "text": [
      "+---+--------+-------+----+-----+---+\n",
      "| id|    name|company|year|month|day|\n",
      "+---+--------+-------+----+-----+---+\n",
      "|  1|어벤져스|   마블|2012|    4| 26|\n",
      "+---+--------+-------+----+-----+---+\n",
      "\n"
     ]
    }
   ],
   "source": [
    "result = spark.sql(query)\n",
    "result.show()"
   ]
  },
  {
   "cell_type": "markdown",
   "id": "c5e1fd62",
   "metadata": {},
   "source": [
    "# JOIN 구현"
   ]
  },
  {
   "cell_type": "code",
   "execution_count": 34,
   "id": "b586d7e5",
   "metadata": {},
   "outputs": [],
   "source": [
    "attendances = [\n",
    "    (1, 13934592., \"KR\"),\n",
    "    (2, 2182227.,\"KR\"),\n",
    "    (3, 4226242., \"KR\"),\n",
    "    (4, 10303058., \"KR\"),\n",
    "    (5, 4300365., \"KR\")\n",
    "]"
   ]
  },
  {
   "cell_type": "code",
   "execution_count": 36,
   "id": "b8dad11d",
   "metadata": {},
   "outputs": [],
   "source": [
    "# 자료형 타입 불러오기\n",
    "from pyspark.sql.types import StringType, FloatType, IntegerType\n",
    "\n",
    "# 구조를 만들기 위한 타입 불러오기(필수), 컬럼 순서 등\n",
    "from pyspark.sql.types import StructField, StructType"
   ]
  },
  {
   "cell_type": "code",
   "execution_count": 38,
   "id": "44fb8284",
   "metadata": {},
   "outputs": [],
   "source": [
    "att_schema = StructType([\n",
    "    StructField(\"id\", IntegerType(), True),\n",
    "    StructField(\"attendance\", FloatType(), True),\n",
    "    StructField(\"county\", StringType(), True)\n",
    "])"
   ]
  },
  {
   "cell_type": "code",
   "execution_count": 40,
   "id": "a1063151",
   "metadata": {},
   "outputs": [
    {
     "data": {
      "text/plain": [
       "DataFrame[id: int, attendance: float, county: string]"
      ]
     },
     "execution_count": 40,
     "metadata": {},
     "output_type": "execute_result"
    }
   ],
   "source": [
    "att_df = spark.createDataFrame(data=attendances, schema=att_schema)\n",
    "att_df"
   ]
  },
  {
   "cell_type": "code",
   "execution_count": 41,
   "id": "f6f434af",
   "metadata": {},
   "outputs": [
    {
     "name": "stdout",
     "output_type": "stream",
     "text": [
      "+---+-----------+------+\n",
      "| id| attendance|county|\n",
      "+---+-----------+------+\n",
      "|  1|1.3934592E7|    KR|\n",
      "|  2|  2182227.0|    KR|\n",
      "|  3|  4226242.0|    KR|\n",
      "|  4|1.0303058E7|    KR|\n",
      "|  5|  4300365.0|    KR|\n",
      "+---+-----------+------+\n",
      "\n"
     ]
    }
   ],
   "source": [
    "att_df.show()"
   ]
  },
  {
   "cell_type": "code",
   "execution_count": 42,
   "id": "b175c14d",
   "metadata": {},
   "outputs": [],
   "source": [
    "att_df.createOrReplaceTempView(\"att\")"
   ]
  },
  {
   "cell_type": "code",
   "execution_count": 43,
   "id": "3ca18b9a",
   "metadata": {},
   "outputs": [
    {
     "name": "stdout",
     "output_type": "stream",
     "text": [
      "+---+--------+-------+----+-----+---+---+-----------+------+\n",
      "| id|    name|company|year|month|day| id| attendance|county|\n",
      "+---+--------+-------+----+-----+---+---+-----------+------+\n",
      "|  1|어벤져스|   마블|2012|    4| 26|  1|1.3934592E7|    KR|\n",
      "|  2|  슈퍼맨|     DC|2013|    6| 13|  2|  2182227.0|    KR|\n",
      "|  3|  배트맨|     DC|2008|    8|  6|  3|  4226242.0|    KR|\n",
      "|  4|겨울왕국| 디즈니|2014|    1| 16|  4|1.0303058E7|    KR|\n",
      "|  5|아이언맨|   마블|2008|    4| 30|  5|  4300365.0|    KR|\n",
      "+---+--------+-------+----+-----+---+---+-----------+------+\n",
      "\n"
     ]
    }
   ],
   "source": [
    "# movies, att id 를 기반으로 JOIN -> 영화 id 오름차순 정렬\n",
    "query= \"\"\"\n",
    "SELECT *\n",
    "FROM movies\n",
    "JOIN att \n",
    "ON movies.id = att.id\n",
    "ORDER BY movies.id ASC\n",
    "\"\"\"\n",
    "spark.sql(query).show()"
   ]
  },
  {
   "cell_type": "code",
   "execution_count": 44,
   "id": "7f160c6c",
   "metadata": {},
   "outputs": [],
   "source": [
    "spark.stop()"
   ]
  }
 ],
 "metadata": {
  "kernelspec": {
   "display_name": "Python 3 (ipykernel)",
   "language": "python",
   "name": "python3"
  },
  "language_info": {
   "codemirror_mode": {
    "name": "ipython",
    "version": 3
   },
   "file_extension": ".py",
   "mimetype": "text/x-python",
   "name": "python",
   "nbconvert_exporter": "python",
   "pygments_lexer": "ipython3",
   "version": "3.8.18"
  }
 },
 "nbformat": 4,
 "nbformat_minor": 5
}
