{
 "cells": [
  {
   "cell_type": "code",
   "execution_count": 1,
   "id": "cbc227c1",
   "metadata": {},
   "outputs": [
    {
     "name": "stderr",
     "output_type": "stream",
     "text": [
      "Using Spark's default log4j profile: org/apache/spark/log4j-defaults.properties\n",
      "Setting default log level to \"WARN\".\n",
      "To adjust logging level use sc.setLogLevel(newLevel). For SparkR, use setLogLevel(newLevel).\n",
      "24/04/01 10:02:46 WARN NativeCodeLoader: Unable to load native-hadoop library for your platform... using builtin-java classes where applicable\n"
     ]
    },
    {
     "data": {
      "text/html": [
       "\n",
       "            <div>\n",
       "                <p><b>SparkSession - in-memory</b></p>\n",
       "                \n",
       "        <div>\n",
       "            <p><b>SparkContext</b></p>\n",
       "\n",
       "            <p><a href=\"http://0.0.0.0:4040\">Spark UI</a></p>\n",
       "\n",
       "            <dl>\n",
       "              <dt>Version</dt>\n",
       "                <dd><code>v3.2.4</code></dd>\n",
       "              <dt>Master</dt>\n",
       "                <dd><code>local[*]</code></dd>\n",
       "              <dt>AppName</dt>\n",
       "                <dd><code>taxi-fare-prediction</code></dd>\n",
       "            </dl>\n",
       "        </div>\n",
       "        \n",
       "            </div>\n",
       "        "
      ],
      "text/plain": [
       "<pyspark.sql.session.SparkSession at 0x7f7278142370>"
      ]
     },
     "execution_count": 1,
     "metadata": {},
     "output_type": "execute_result"
    }
   ],
   "source": [
    "from pyspark.sql import SparkSession\n",
    "\n",
    "spark = SparkSession.builder.appName(\"taxi-fare-prediction\").getOrCreate()\n",
    "spark"
   ]
  },
  {
   "cell_type": "code",
   "execution_count": 2,
   "id": "d8914a68",
   "metadata": {},
   "outputs": [
    {
     "name": "stderr",
     "output_type": "stream",
     "text": [
      "[Stage 1:===================================================>     (10 + 1) / 11]\r"
     ]
    },
    {
     "name": "stdout",
     "output_type": "stream",
     "text": [
      "root\n",
      " |-- VendorID: integer (nullable = true)\n",
      " |-- tpep_pickup_datetime: string (nullable = true)\n",
      " |-- tpep_dropoff_datetime: string (nullable = true)\n",
      " |-- passenger_count: integer (nullable = true)\n",
      " |-- trip_distance: double (nullable = true)\n",
      " |-- RatecodeID: integer (nullable = true)\n",
      " |-- store_and_fwd_flag: string (nullable = true)\n",
      " |-- PULocationID: integer (nullable = true)\n",
      " |-- DOLocationID: integer (nullable = true)\n",
      " |-- payment_type: integer (nullable = true)\n",
      " |-- fare_amount: double (nullable = true)\n",
      " |-- extra: double (nullable = true)\n",
      " |-- mta_tax: double (nullable = true)\n",
      " |-- tip_amount: double (nullable = true)\n",
      " |-- tolls_amount: double (nullable = true)\n",
      " |-- improvement_surcharge: double (nullable = true)\n",
      " |-- total_amount: double (nullable = true)\n",
      " |-- congestion_surcharge: double (nullable = true)\n",
      "\n"
     ]
    },
    {
     "name": "stderr",
     "output_type": "stream",
     "text": [
      "\r",
      "                                                                                \r"
     ]
    }
   ],
   "source": [
    "directory = \"/home/ubuntu/working/spark/data\"\n",
    "trip_files = \"/trips/*\"\n",
    "\n",
    "trips_df = spark.read.csv(f\"file:///{directory}/{trip_files}\", inferSchema=True, header=True)\n",
    "trips_df.printSchema()"
   ]
  },
  {
   "cell_type": "code",
   "execution_count": 3,
   "id": "7fe8f2e9",
   "metadata": {},
   "outputs": [],
   "source": [
    "# 데이터 정제\n",
    "trips_df.createOrReplaceTempView(\"trips\")\n",
    "query = \"\"\"\n",
    "SELECT\n",
    "    t.passenger_count,\n",
    "    PULocationID as pickup_location_id,\n",
    "    DOLocationID as dropoff_location_id,\n",
    "    t.trip_distance,\n",
    "    HOUR(tpep_pickup_datetime) as pickup_time,\n",
    "    DATE_FORMAT(TO_DATE(tpep_pickup_datetime), 'EEEE') as day_of_week,\n",
    "    \n",
    "    t.total_amount\n",
    "\n",
    "FROM trips t\n",
    "\n",
    "WHERE t.total_amount < 200\n",
    "  AND t.total_amount > 0\n",
    "  AND t.passenger_count < 5\n",
    "  AND TO_DATE(t.tpep_pickup_datetime) >= '2021-01-01'\n",
    "  AND TO_DATE(t.tpep_pickup_datetime) < '2021-08-01'\n",
    "  AND t.trip_distance < 10\n",
    "  AND t.trip_distance > 0\n",
    "\"\"\"\n",
    "\n",
    "data_df = spark.sql(query)"
   ]
  },
  {
   "cell_type": "code",
   "execution_count": 4,
   "id": "07ff6ae4",
   "metadata": {},
   "outputs": [
    {
     "name": "stdout",
     "output_type": "stream",
     "text": [
      "root\n",
      " |-- passenger_count: integer (nullable = true)\n",
      " |-- pickup_location_id: integer (nullable = true)\n",
      " |-- dropoff_location_id: integer (nullable = true)\n",
      " |-- trip_distance: double (nullable = true)\n",
      " |-- pickup_time: integer (nullable = true)\n",
      " |-- day_of_week: string (nullable = true)\n",
      " |-- total_amount: double (nullable = true)\n",
      "\n"
     ]
    }
   ],
   "source": [
    "data_df.printSchema()"
   ]
  },
  {
   "cell_type": "markdown",
   "id": "f071d579",
   "metadata": {},
   "source": [
    "# Train/ Test 분할"
   ]
  },
  {
   "cell_type": "code",
   "execution_count": 5,
   "id": "4a9b7b12",
   "metadata": {},
   "outputs": [],
   "source": [
    "train_sdf, test_sdf = data_df.randomSplit([0.8, 0.2], seed=42)"
   ]
  },
  {
   "cell_type": "markdown",
   "id": "b6b6be28",
   "metadata": {},
   "source": [
    "만약에 데이터의 양이 너무 많고, 그 데이터를 오랜 시간을 들여서 전처리를 다 완료 했다고 가정.\n",
    "- 여러 모델을 만들거나 실험을 할 때에도 위의 전처리 작업을 그대로 매번 수행\n",
    "- 추후에 다시 이 데이터를 활용한다면 시간이 많이 걸리고...\n",
    "- 그래서 처리가 완료된 데이터를 파일이나 데이터베이스에 저장해 놓고 나중에 불러오는게 더 빠르다\n",
    "    - 예 : 파케이(parquet) 형식 저장"
   ]
  },
  {
   "cell_type": "code",
   "execution_count": 7,
   "id": "4151d080",
   "metadata": {},
   "outputs": [
    {
     "name": "stderr",
     "output_type": "stream",
     "text": [
      "                                                                                \r"
     ]
    }
   ],
   "source": [
    "# 파케이 (parquet) 형식으로 저장\n",
    "save_dir = \"/home/ubuntu/working/spark/data/ml-data\"\n",
    "\n",
    "# Spark DataFrame write 메소드를 이용해 데이터를 파일 또는 데이터베이스에 저장 가능\n",
    "train_sdf.write.format(\"parquet\").save(f\"{save_dir}/train/\")\n",
    "test_sdf.write.format(\"parquet\").save(f\"{save_dir}/test/\")"
   ]
  },
  {
   "cell_type": "markdown",
   "id": "350dbdfa",
   "metadata": {},
   "source": [
    "# 파이프 라인 정의\n",
    "- 파이프라인 정의를 위한 stage 정의"
   ]
  },
  {
   "cell_type": "code",
   "execution_count": 8,
   "id": "ca54e940",
   "metadata": {},
   "outputs": [],
   "source": [
    "# 파이프라인에 넣을 과정 (stage) 을 모아 놓을 리스트\n",
    "stages = []"
   ]
  },
  {
   "cell_type": "markdown",
   "id": "44c1224a",
   "metadata": {},
   "source": [
    "## OneHotEncoding Stage\n",
    "- `pickup_location_id`\n",
    "- `dropoff_location_id`\n",
    "- `day_of_week`\n",
    "`pickup_location_id`, `dropoff_location_id`는 숫자 형식의 데이터\n",
    "- 숫자 형식의 데이터는 `OneHotEncoding`이 불가능\n",
    "- `StringIndexer` Transformer를 활용해 숫자형 데이터를 문자열로 취급하게 끔 할 수 있다"
   ]
  },
  {
   "cell_type": "code",
   "execution_count": 11,
   "id": "a390ea39",
   "metadata": {},
   "outputs": [
    {
     "data": {
      "text/plain": [
       "[StringIndexer_16f3cdd06daa,\n",
       " OneHotEncoder_d2ea85f1737e,\n",
       " StringIndexer_caa8c180ad43,\n",
       " OneHotEncoder_0e8b8e8838e8,\n",
       " StringIndexer_7ec2fc034c8a,\n",
       " OneHotEncoder_f3080cf24612]"
      ]
     },
     "execution_count": 11,
     "metadata": {},
     "output_type": "execute_result"
    }
   ],
   "source": [
    "from pyspark.ml.feature import OneHotEncoder, StringIndexer\n",
    "\n",
    "# OneHotEncoding을 수행할 컬럼\n",
    "cat_features = [\n",
    "    \"pickup_location_id\",\n",
    "    \"dropoff_location_id\",\n",
    "    \"day_of_week\"\n",
    "]\n",
    "\n",
    "for c in cat_features:\n",
    "    # 1. 데이터를 문자열 형식으로 바꿔준다\n",
    "    cat_indexer = StringIndexer(inputCol=c, outputCol=c+\"_idx\").setHandleInvalid(\"keep\")\n",
    "    \n",
    "    # 2. OneHotEncoding 수행\n",
    "    onehot_encoder = OneHotEncoder(\n",
    "        inputCols=[cat_indexer.getOutputCol()],\n",
    "        outputCols=[c+\"_onehot\"]\n",
    "    )\n",
    "    \n",
    "    stages +=[cat_indexer, onehot_encoder]\n",
    "\n",
    "stages"
   ]
  },
  {
   "cell_type": "markdown",
   "id": "988efb74",
   "metadata": {},
   "source": [
    "## Standard Scaling Stage\n",
    "- 숫자형 데이터들에 대한 표준화 수행\n",
    "- `passenger_count`, `trip_distance`, `pickup_time`"
   ]
  },
  {
   "cell_type": "code",
   "execution_count": 14,
   "id": "c362aa05",
   "metadata": {},
   "outputs": [
    {
     "data": {
      "text/plain": [
       "[StringIndexer_16f3cdd06daa,\n",
       " OneHotEncoder_d2ea85f1737e,\n",
       " StringIndexer_caa8c180ad43,\n",
       " OneHotEncoder_0e8b8e8838e8,\n",
       " StringIndexer_7ec2fc034c8a,\n",
       " OneHotEncoder_f3080cf24612,\n",
       " VectorAssembler_a2954c9a1719,\n",
       " StandardScaler_93d27e1e58d1,\n",
       " VectorAssembler_476b3b692854,\n",
       " StandardScaler_084e8a9d7e82,\n",
       " VectorAssembler_08030c672d0b,\n",
       " StandardScaler_6cfce94ef738]"
      ]
     },
     "execution_count": 14,
     "metadata": {},
     "output_type": "execute_result"
    }
   ],
   "source": [
    "# 각 컬럼의 데이터를 벡터화 시키고, StandardScaling 수행\n",
    "from pyspark.ml.feature import VectorAssembler, StandardScaler\n",
    "\n",
    "num_features = [\n",
    "    \"passenger_count\",\n",
    "    \"trip_distance\",\n",
    "    \"pickup_time\"\n",
    "]\n",
    "\n",
    "for n in num_features:\n",
    "    # 1. 벡터화 스테이지\n",
    "    num_assembler = VectorAssembler(inputCols=[n], outputCol=n+\"_vector\")\n",
    "    \n",
    "    # 2. StandardSclaer 스테이지\n",
    "    num_scaler = StandardScaler(inputCol=num_assembler.getOutputCol(), outputCol=n+\"_scaled\")\n",
    "    \n",
    "    stages += [num_assembler, num_scaler]\n",
    "\n",
    "stages"
   ]
  },
  {
   "cell_type": "markdown",
   "id": "7d8ac6d3",
   "metadata": {},
   "source": [
    "## Feature Assemble Stage\n",
    "- 컬럼 명 뒤에 `_onehot` 이 붙거나 `_scaled` 가 붙은 컬럼만 Feature Vector 만들기"
   ]
  },
  {
   "cell_type": "code",
   "execution_count": 16,
   "id": "dfe5f239",
   "metadata": {},
   "outputs": [
    {
     "data": {
      "text/plain": [
       "['pickup_location_id_onehot',\n",
       " 'dropoff_location_id_onehot',\n",
       " 'day_of_week_onehot',\n",
       " 'passenger_count_scaled',\n",
       " 'trip_distance_scaled',\n",
       " 'pickup_time_scaled']"
      ]
     },
     "execution_count": 16,
     "metadata": {},
     "output_type": "execute_result"
    }
   ],
   "source": [
    "assembler_inputs = [c+\"_onehot\" for c in cat_features] + [n+\"_scaled\" for n in num_features]\n",
    "assembler_inputs"
   ]
  },
  {
   "cell_type": "code",
   "execution_count": 17,
   "id": "40f0eb51",
   "metadata": {},
   "outputs": [
    {
     "data": {
      "text/plain": [
       "[StringIndexer_16f3cdd06daa,\n",
       " OneHotEncoder_d2ea85f1737e,\n",
       " StringIndexer_caa8c180ad43,\n",
       " OneHotEncoder_0e8b8e8838e8,\n",
       " StringIndexer_7ec2fc034c8a,\n",
       " OneHotEncoder_f3080cf24612,\n",
       " VectorAssembler_a2954c9a1719,\n",
       " StandardScaler_93d27e1e58d1,\n",
       " VectorAssembler_476b3b692854,\n",
       " StandardScaler_084e8a9d7e82,\n",
       " VectorAssembler_08030c672d0b,\n",
       " StandardScaler_6cfce94ef738,\n",
       " VectorAssembler_2ac505debf48]"
      ]
     },
     "execution_count": 17,
     "metadata": {},
     "output_type": "execute_result"
    }
   ],
   "source": [
    "feature_assembler = VectorAssembler(inputCols=assembler_inputs, outputCol=\"features\")\n",
    "\n",
    "stages.append(feature_assembler)\n",
    "stages"
   ]
  },
  {
   "cell_type": "markdown",
   "id": "32118bfe",
   "metadata": {},
   "source": [
    "## Pipeline 구성\n",
    "- 순서대로 구성된 stage를 한꺼번에 수행할 파이프라인 생성"
   ]
  },
  {
   "cell_type": "code",
   "execution_count": 18,
   "id": "a73dc476",
   "metadata": {},
   "outputs": [
    {
     "data": {
      "text/plain": [
       "Pipeline_bcbfd7660039"
      ]
     },
     "execution_count": 18,
     "metadata": {},
     "output_type": "execute_result"
    }
   ],
   "source": [
    "from pyspark.ml import Pipeline\n",
    "\n",
    "pipeline = Pipeline(stages=stages)\n",
    "pipeline"
   ]
  },
  {
   "cell_type": "markdown",
   "id": "aab09671",
   "metadata": {},
   "source": [
    "# 데이터를 파이프라인에 통과시키기"
   ]
  },
  {
   "cell_type": "code",
   "execution_count": 19,
   "id": "8ecceac8",
   "metadata": {},
   "outputs": [
    {
     "name": "stderr",
     "output_type": "stream",
     "text": [
      "Exception ignored in: <function JavaWrapper.__del__ at 0x7f72580aea60>          \n",
      "Traceback (most recent call last):\n",
      "  File \"/home/ubuntu/miniconda3/envs/spark-env/lib/python3.8/site-packages/pyspark/ml/wrapper.py\", line 39, in __del__\n",
      "    if SparkContext._active_spark_context and self._java_obj is not None:\n",
      "AttributeError: 'VectorAssembler' object has no attribute '_java_obj'\n",
      "                                                                                \r"
     ]
    }
   ],
   "source": [
    "# transformer의 fit : 변환을 하기 위한 수 또는 방법을 구하는 과정\n",
    "fitted_transformer = pipeline.fit(train_sdf)"
   ]
  },
  {
   "cell_type": "code",
   "execution_count": 20,
   "id": "cc7af4b5",
   "metadata": {},
   "outputs": [
    {
     "name": "stdout",
     "output_type": "stream",
     "text": [
      "root\n",
      " |-- passenger_count: integer (nullable = true)\n",
      " |-- pickup_location_id: integer (nullable = true)\n",
      " |-- dropoff_location_id: integer (nullable = true)\n",
      " |-- trip_distance: double (nullable = true)\n",
      " |-- pickup_time: integer (nullable = true)\n",
      " |-- day_of_week: string (nullable = true)\n",
      " |-- total_amount: double (nullable = true)\n",
      " |-- pickup_location_id_idx: double (nullable = false)\n",
      " |-- pickup_location_id_onehot: vector (nullable = true)\n",
      " |-- dropoff_location_id_idx: double (nullable = false)\n",
      " |-- dropoff_location_id_onehot: vector (nullable = true)\n",
      " |-- day_of_week_idx: double (nullable = false)\n",
      " |-- day_of_week_onehot: vector (nullable = true)\n",
      " |-- passenger_count_vector: vector (nullable = true)\n",
      " |-- passenger_count_scaled: vector (nullable = true)\n",
      " |-- trip_distance_vector: vector (nullable = true)\n",
      " |-- trip_distance_scaled: vector (nullable = true)\n",
      " |-- pickup_time_vector: vector (nullable = true)\n",
      " |-- pickup_time_scaled: vector (nullable = true)\n",
      " |-- features: vector (nullable = true)\n",
      "\n"
     ]
    }
   ],
   "source": [
    "# transform : 데이터 변환\n",
    "vec_train_sdf = fitted_transformer.transform(train_sdf)\n",
    "vec_train_sdf.printSchema()"
   ]
  },
  {
   "cell_type": "code",
   "execution_count": 21,
   "id": "e76fbe4b",
   "metadata": {},
   "outputs": [
    {
     "name": "stderr",
     "output_type": "stream",
     "text": [
      "\r",
      "[Stage 22:>                                                         (0 + 1) / 1]\r"
     ]
    },
    {
     "name": "stdout",
     "output_type": "stream",
     "text": [
      "+--------------------+------------+\n",
      "|            features|total_amount|\n",
      "+--------------------+------------+\n",
      "|(532,[62,311,526,...|         6.3|\n",
      "|(532,[62,280,525,...|         8.8|\n",
      "|(532,[62,280,527,...|         9.8|\n",
      "|(532,[62,279,525,...|       10.55|\n",
      "|(532,[62,298,522,...|        10.8|\n",
      "+--------------------+------------+\n",
      "only showing top 5 rows\n",
      "\n"
     ]
    },
    {
     "name": "stderr",
     "output_type": "stream",
     "text": [
      "\r",
      "[Stage 22:==========================================================(1 + 0) / 1]\r",
      "\r",
      "                                                                                \r"
     ]
    }
   ],
   "source": [
    "vec_train_sdf.select(\"features\", \"total_amount\").show(5)"
   ]
  },
  {
   "cell_type": "markdown",
   "id": "f9708740",
   "metadata": {},
   "source": [
    "# 모델 생성 및 훈련"
   ]
  },
  {
   "cell_type": "code",
   "execution_count": 22,
   "id": "ed3b4326",
   "metadata": {},
   "outputs": [],
   "source": [
    "from pyspark.ml.regression import LinearRegression\n",
    "\n",
    "lr = LinearRegression(\n",
    "    maxIter=50,\n",
    "    solver=\"normal\",\n",
    "    labelCol=\"total_amount\",\n",
    "    featuresCol=\"features\"\n",
    ")"
   ]
  },
  {
   "cell_type": "code",
   "execution_count": 23,
   "id": "5bf629b3",
   "metadata": {},
   "outputs": [
    {
     "name": "stderr",
     "output_type": "stream",
     "text": [
      "24/04/01 11:33:22 WARN Instrumentation: [526b2ffd] regParam is zero, which might cause numerical instability and overfitting.\n",
      "24/04/01 11:33:55 WARN InstanceBuilder$NativeBLAS: Failed to load implementation from:dev.ludovic.netlib.blas.JNIBLAS\n",
      "24/04/01 11:33:55 WARN InstanceBuilder$NativeBLAS: Failed to load implementation from:dev.ludovic.netlib.blas.ForeignLinkerBLAS\n",
      "24/04/01 11:36:01 WARN InstanceBuilder$NativeLAPACK: Failed to load implementation from:dev.ludovic.netlib.lapack.JNILAPACK\n",
      "24/04/01 11:36:01 WARN Instrumentation: [526b2ffd] Cholesky solver failed due to singular covariance matrix. Retrying with Quasi-Newton solver.\n",
      "24/04/01 11:36:01 WARN BLAS: Failed to load implementation from: com.github.fommil.netlib.NativeSystemBLAS\n",
      "24/04/01 11:36:01 WARN BLAS: Failed to load implementation from: com.github.fommil.netlib.NativeRefBLAS\n",
      "                                                                                \r"
     ]
    }
   ],
   "source": [
    "lr_model = lr.fit(vec_train_sdf)"
   ]
  },
  {
   "cell_type": "markdown",
   "id": "10351ff4",
   "metadata": {},
   "source": [
    "# 예측"
   ]
  },
  {
   "cell_type": "code",
   "execution_count": 25,
   "id": "c043e43f",
   "metadata": {},
   "outputs": [],
   "source": [
    "vec_test_sdf = fitted_transformer.transform(test_sdf)"
   ]
  },
  {
   "cell_type": "code",
   "execution_count": 26,
   "id": "1fe5f64e",
   "metadata": {},
   "outputs": [
    {
     "name": "stdout",
     "output_type": "stream",
     "text": [
      "root\n",
      " |-- passenger_count: integer (nullable = true)\n",
      " |-- pickup_location_id: integer (nullable = true)\n",
      " |-- dropoff_location_id: integer (nullable = true)\n",
      " |-- trip_distance: double (nullable = true)\n",
      " |-- pickup_time: integer (nullable = true)\n",
      " |-- day_of_week: string (nullable = true)\n",
      " |-- total_amount: double (nullable = true)\n",
      " |-- pickup_location_id_idx: double (nullable = false)\n",
      " |-- pickup_location_id_onehot: vector (nullable = true)\n",
      " |-- dropoff_location_id_idx: double (nullable = false)\n",
      " |-- dropoff_location_id_onehot: vector (nullable = true)\n",
      " |-- day_of_week_idx: double (nullable = false)\n",
      " |-- day_of_week_onehot: vector (nullable = true)\n",
      " |-- passenger_count_vector: vector (nullable = true)\n",
      " |-- passenger_count_scaled: vector (nullable = true)\n",
      " |-- trip_distance_vector: vector (nullable = true)\n",
      " |-- trip_distance_scaled: vector (nullable = true)\n",
      " |-- pickup_time_vector: vector (nullable = true)\n",
      " |-- pickup_time_scaled: vector (nullable = true)\n",
      " |-- features: vector (nullable = true)\n",
      "\n"
     ]
    }
   ],
   "source": [
    "vec_test_sdf.printSchema()"
   ]
  },
  {
   "cell_type": "code",
   "execution_count": 28,
   "id": "690119b5",
   "metadata": {},
   "outputs": [
    {
     "name": "stderr",
     "output_type": "stream",
     "text": [
      "\r",
      "[Stage 27:>                                                         (0 + 1) / 1]\r"
     ]
    },
    {
     "name": "stdout",
     "output_type": "stream",
     "text": [
      "+---------------+------------------+-------------------+-------------+-----------+-----------+------------+----------------------+-------------------------+-----------------------+--------------------------+---------------+------------------+----------------------+----------------------+--------------------+--------------------+------------------+--------------------+--------------------+------------------+\n",
      "|passenger_count|pickup_location_id|dropoff_location_id|trip_distance|pickup_time|day_of_week|total_amount|pickup_location_id_idx|pickup_location_id_onehot|dropoff_location_id_idx|dropoff_location_id_onehot|day_of_week_idx|day_of_week_onehot|passenger_count_vector|passenger_count_scaled|trip_distance_vector|trip_distance_scaled|pickup_time_vector|  pickup_time_scaled|            features|        prediction|\n",
      "+---------------+------------------+-------------------+-------------+-----------+-----------+------------+----------------------+-------------------------+-----------------------+--------------------------+---------------+------------------+----------------------+----------------------+--------------------+--------------------+------------------+--------------------+--------------------+------------------+\n",
      "|              0|                 4|                 79|          0.7|         23|   Saturday|       12.35|                  62.0|         (262,[62],[1.0])|                   18.0|          (260,[18],[1.0])|            4.0|     (7,[4],[1.0])|                 [0.0]|                 [0.0]|               [0.7]|[0.3960622427197008]|            [23.0]|  [4.53624377431206]|(532,[62,280,526,...|10.520957566446452|\n",
      "|              0|                 4|                137|          1.5|         17|     Friday|        11.8|                  62.0|         (262,[62],[1.0])|                   25.0|          (260,[25],[1.0])|            0.0|     (7,[0],[1.0])|                 [0.0]|                 [0.0]|               [1.5]|[0.8487048058279304]|            [17.0]|[3.3528758331871744]|(532,[62,287,522,...| 13.65652098094591|\n",
      "|              0|                 4|                148|          1.0|         19|     Friday|        12.3|                  62.0|         (262,[62],[1.0])|                   39.0|          (260,[39],[1.0])|            0.0|     (7,[0],[1.0])|                 [0.0]|                 [0.0]|               [1.0]|[0.5658032038852869]|            [19.0]|[3.7473318135621363]|(532,[62,301,522,...| 12.76767802677514|\n",
      "|              0|                 4|                234|          1.7|         18|   Saturday|        13.3|                  62.0|         (262,[62],[1.0])|                   11.0|          (260,[11],[1.0])|            4.0|     (7,[4],[1.0])|                 [0.0]|                 [0.0]|               [1.7]|[0.9618654466049877]|            [18.0]|[3.5501038233746556]|(532,[62,273,526,...|  13.8888089892157|\n",
      "|              0|                 7|                  7|          1.4|         14|     Friday|         8.3|                  63.0|         (262,[63],[1.0])|                   55.0|          (260,[55],[1.0])|            0.0|     (7,[0],[1.0])|                 [0.0]|                 [0.0]|               [1.4]|[0.7921244854394016]|            [14.0]| [2.761191862624732]|(532,[63,317,522,...|  9.67076737912389|\n",
      "|              0|                 7|                100|          4.6|         10|     Monday|        26.8|                  63.0|         (262,[63],[1.0])|                   30.0|          (260,[30],[1.0])|            5.0|     (7,[5],[1.0])|                 [0.0]|                 [0.0]|               [4.6]|[2.6026947378723198]|            [10.0]|[1.9722799018748085]|(532,[63,292,527,...|22.927184691166815|\n",
      "|              0|                 7|                179|          0.7|         11|  Wednesday|         5.3|                  63.0|         (262,[63],[1.0])|                   75.0|          (260,[75],[1.0])|            2.0|     (7,[2],[1.0])|                 [0.0]|                 [0.0]|               [0.7]|[0.3960622427197008]|            [11.0]|[2.1695078920622892]|(532,[63,337,524,...| 6.758567784586714|\n",
      "|              0|                 7|                223|          1.7|          9|    Tuesday|        11.8|                  63.0|         (262,[63],[1.0])|                   69.0|          (260,[69],[1.0])|            3.0|     (7,[3],[1.0])|                 [0.0]|                 [0.0]|               [1.7]|[0.9618654466049877]|             [9.0]|[1.7750519116873278]|(532,[63,331,525,...|10.683491846025056|\n",
      "|              0|                13|                 13|          0.1|          7|  Wednesday|        55.3|                  47.0|         (262,[47],[1.0])|                   44.0|          (260,[44],[1.0])|            2.0|     (7,[2],[1.0])|                 [0.0]|                 [0.0]|               [0.1]|[0.0565803203885287]|             [7.0]| [1.380595931312366]|(532,[47,306,524,...|6.8158905129782985|\n",
      "|              0|                13|                 13|          0.7|         16|  Wednesday|        10.3|                  47.0|         (262,[47],[1.0])|                   44.0|          (260,[44],[1.0])|            2.0|     (7,[2],[1.0])|                 [0.0]|                 [0.0]|               [0.7]|[0.3960622427197008]|            [16.0]|[3.1556478429996937]|(532,[47,306,524,...|  9.48794145133163|\n",
      "+---------------+------------------+-------------------+-------------+-----------+-----------+------------+----------------------+-------------------------+-----------------------+--------------------------+---------------+------------------+----------------------+----------------------+--------------------+--------------------+------------------+--------------------+--------------------+------------------+\n",
      "only showing top 10 rows\n",
      "\n"
     ]
    },
    {
     "name": "stderr",
     "output_type": "stream",
     "text": [
      "\r",
      "                                                                                \r"
     ]
    }
   ],
   "source": [
    "# vec_test_sdf 로 예측\n",
    "predictions = lr_model.transform(vec_test_sdf)\n",
    "predictions.show(10)"
   ]
  },
  {
   "cell_type": "code",
   "execution_count": 29,
   "id": "83a1de0e",
   "metadata": {},
   "outputs": [
    {
     "data": {
      "text/plain": [
       "DataFrame[passenger_count: int, pickup_location_id: int, dropoff_location_id: int, trip_distance: double, pickup_time: int, day_of_week: string, total_amount: double, pickup_location_id_idx: double, pickup_location_id_onehot: vector, dropoff_location_id_idx: double, dropoff_location_id_onehot: vector, day_of_week_idx: double, day_of_week_onehot: vector, passenger_count_vector: vector, passenger_count_scaled: vector, trip_distance_vector: vector, trip_distance_scaled: vector, pickup_time_vector: vector, pickup_time_scaled: vector, features: vector, prediction: double]"
      ]
     },
     "execution_count": 29,
     "metadata": {},
     "output_type": "execute_result"
    }
   ],
   "source": [
    "# 예측한 결과를 따로 확인할 때는 일반적으로 조회만 일어낙 때문에 캐시 처리를 해 주는 것도 좋다(반드시 할 필요는 X)\n",
    "predictions.cache()"
   ]
  },
  {
   "cell_type": "code",
   "execution_count": 30,
   "id": "0ebb318a",
   "metadata": {},
   "outputs": [
    {
     "name": "stderr",
     "output_type": "stream",
     "text": [
      "\r",
      "[Stage 28:>                                                         (0 + 1) / 1]\r"
     ]
    },
    {
     "name": "stdout",
     "output_type": "stream",
     "text": [
      "+-------------+-----------+------------+------------------+\n",
      "|trip_distance|day_of_week|total_amount|        prediction|\n",
      "+-------------+-----------+------------+------------------+\n",
      "|          0.7|   Saturday|       12.35|10.520957566446452|\n",
      "|          1.5|     Friday|        11.8| 13.65652098094591|\n",
      "|          1.0|     Friday|        12.3| 12.76767802677514|\n",
      "|          1.7|   Saturday|        13.3|  13.8888089892157|\n",
      "|          1.4|     Friday|         8.3|  9.67076737912389|\n",
      "|          4.6|     Monday|        26.8|22.927184691166815|\n",
      "|          0.7|  Wednesday|         5.3| 6.758567784586714|\n",
      "|          1.7|    Tuesday|        11.8|10.683491846025056|\n",
      "|          0.1|  Wednesday|        55.3|6.8158905129782985|\n",
      "|          0.7|  Wednesday|        10.3|  9.48794145133163|\n",
      "|          7.4|     Friday|        37.4| 33.81738044712699|\n",
      "|          3.9|    Tuesday|       21.95|21.187066662973017|\n",
      "|          4.1|     Monday|       22.55|21.755690286476216|\n",
      "|          4.6|   Saturday|        24.8|24.197658432375192|\n",
      "|          4.5|     Friday|       26.35| 24.08209010841602|\n",
      "|          1.3|  Wednesday|       14.15|10.615869679790933|\n",
      "|          4.4|   Thursday|       21.62| 23.84349115933483|\n",
      "|          7.9|   Saturday|       41.27| 36.22208141766147|\n",
      "|          6.8|    Tuesday|        31.8| 32.25152665870132|\n",
      "|          5.8|     Monday|       28.55|28.344297416587956|\n",
      "+-------------+-----------+------------+------------------+\n",
      "only showing top 20 rows\n",
      "\n"
     ]
    },
    {
     "name": "stderr",
     "output_type": "stream",
     "text": [
      "\r",
      "                                                                                \r"
     ]
    }
   ],
   "source": [
    "predictions.select(\"trip_distance\", \"day_of_week\", \"total_amount\", \"prediction\").show()"
   ]
  },
  {
   "cell_type": "code",
   "execution_count": 31,
   "id": "17263ef4",
   "metadata": {},
   "outputs": [
    {
     "data": {
      "text/plain": [
       "3.2685055544721795"
      ]
     },
     "execution_count": 31,
     "metadata": {},
     "output_type": "execute_result"
    }
   ],
   "source": [
    "lr_model.summary.rootMeanSquaredError"
   ]
  },
  {
   "cell_type": "code",
   "execution_count": 32,
   "id": "0be40ca4",
   "metadata": {},
   "outputs": [
    {
     "data": {
      "text/plain": [
       "0.794446430313654"
      ]
     },
     "execution_count": 32,
     "metadata": {},
     "output_type": "execute_result"
    }
   ],
   "source": [
    "lr_model.summary.r2"
   ]
  },
  {
   "cell_type": "code",
   "execution_count": 33,
   "id": "474e0173",
   "metadata": {},
   "outputs": [],
   "source": [
    "spark.stop()"
   ]
  }
 ],
 "metadata": {
  "kernelspec": {
   "display_name": "Python 3 (ipykernel)",
   "language": "python",
   "name": "python3"
  },
  "language_info": {
   "codemirror_mode": {
    "name": "ipython",
    "version": 3
   },
   "file_extension": ".py",
   "mimetype": "text/x-python",
   "name": "python",
   "nbconvert_exporter": "python",
   "pygments_lexer": "ipython3",
   "version": "3.8.18"
  }
 },
 "nbformat": 4,
 "nbformat_minor": 5
}
