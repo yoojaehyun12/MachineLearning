{
 "cells": [
  {
   "cell_type": "code",
   "execution_count": 1,
   "id": "c2ef4a7a",
   "metadata": {},
   "outputs": [
    {
     "name": "stderr",
     "output_type": "stream",
     "text": [
      "Using Spark's default log4j profile: org/apache/spark/log4j-defaults.properties\n",
      "Setting default log level to \"WARN\".\n",
      "To adjust logging level use sc.setLogLevel(newLevel). For SparkR, use setLogLevel(newLevel).\n",
      "24/03/29 14:50:30 WARN NativeCodeLoader: Unable to load native-hadoop library for your platform... using builtin-java classes where applicable\n"
     ]
    },
    {
     "data": {
      "text/html": [
       "\n",
       "            <div>\n",
       "                <p><b>SparkSession - in-memory</b></p>\n",
       "                \n",
       "        <div>\n",
       "            <p><b>SparkContext</b></p>\n",
       "\n",
       "            <p><a href=\"http://0.0.0.0:4040\">Spark UI</a></p>\n",
       "\n",
       "            <dl>\n",
       "              <dt>Version</dt>\n",
       "                <dd><code>v3.2.4</code></dd>\n",
       "              <dt>Master</dt>\n",
       "                <dd><code>local[*]</code></dd>\n",
       "              <dt>AppName</dt>\n",
       "                <dd><code>trip_count_sql</code></dd>\n",
       "            </dl>\n",
       "        </div>\n",
       "        \n",
       "            </div>\n",
       "        "
      ],
      "text/plain": [
       "<pyspark.sql.session.SparkSession at 0x7f1b181a19d0>"
      ]
     },
     "execution_count": 1,
     "metadata": {},
     "output_type": "execute_result"
    }
   ],
   "source": [
    "from pyspark.sql import SparkSession\n",
    "\n",
    "spark = SparkSession.builder.appName(\"trip_count_sql\").getOrCreate()\n",
    "spark"
   ]
  },
  {
   "cell_type": "code",
   "execution_count": 2,
   "id": "7ab889be",
   "metadata": {},
   "outputs": [
    {
     "name": "stdout",
     "output_type": "stream",
     "text": [
      "1800.csv\t\t    restaurant_reviews.csv  u.data\r\n",
      "Book\t\t\t    taxi+_zone_lookup.csv   xAPI-Edu-Data.csv\r\n",
      "fakefriends.csv\t\t    titanic_train.csv\r\n",
      "fhvhv_tripdata_2020-03.csv  trips\r\n"
     ]
    }
   ],
   "source": [
    "!ls data"
   ]
  },
  {
   "cell_type": "code",
   "execution_count": 3,
   "id": "9dbc7391",
   "metadata": {},
   "outputs": [
    {
     "name": "stdout",
     "output_type": "stream",
     "text": [
      "/home/ubuntu/working/spark\r\n"
     ]
    }
   ],
   "source": [
    "!pwd"
   ]
  },
  {
   "cell_type": "code",
   "execution_count": 4,
   "id": "46f6da21",
   "metadata": {},
   "outputs": [],
   "source": [
    "directory = \"/home/ubuntu/working/spark/data\"\n",
    "\n",
    "trip_files = \"trips/*\" # 택시 운행 기록 데이터\n",
    "zone_files = \"taxi+_zone_lookup.csv\" # 장소 관련 데이터(코드 데이터)"
   ]
  },
  {
   "cell_type": "code",
   "execution_count": 5,
   "id": "fae678b5",
   "metadata": {},
   "outputs": [
    {
     "name": "stderr",
     "output_type": "stream",
     "text": [
      "                                                                                \r"
     ]
    }
   ],
   "source": [
    "trips_df = spark.read.csv(f\"file://{directory}/{trip_files}\", inferSchema=True, header=True)\n",
    "zone_df = spark.read.csv(f\"file://{directory}/{zone_files}\", inferSchema=True, header=True)"
   ]
  },
  {
   "cell_type": "code",
   "execution_count": 6,
   "id": "fa4af756",
   "metadata": {},
   "outputs": [
    {
     "name": "stdout",
     "output_type": "stream",
     "text": [
      "root\n",
      " |-- VendorID: integer (nullable = true)\n",
      " |-- tpep_pickup_datetime: string (nullable = true)\n",
      " |-- tpep_dropoff_datetime: string (nullable = true)\n",
      " |-- passenger_count: integer (nullable = true)\n",
      " |-- trip_distance: double (nullable = true)\n",
      " |-- RatecodeID: integer (nullable = true)\n",
      " |-- store_and_fwd_flag: string (nullable = true)\n",
      " |-- PULocationID: integer (nullable = true)\n",
      " |-- DOLocationID: integer (nullable = true)\n",
      " |-- payment_type: integer (nullable = true)\n",
      " |-- fare_amount: double (nullable = true)\n",
      " |-- extra: double (nullable = true)\n",
      " |-- mta_tax: double (nullable = true)\n",
      " |-- tip_amount: double (nullable = true)\n",
      " |-- tolls_amount: double (nullable = true)\n",
      " |-- improvement_surcharge: double (nullable = true)\n",
      " |-- total_amount: double (nullable = true)\n",
      " |-- congestion_surcharge: double (nullable = true)\n",
      "\n",
      "root\n",
      " |-- LocationID: integer (nullable = true)\n",
      " |-- Borough: string (nullable = true)\n",
      " |-- Zone: string (nullable = true)\n",
      " |-- service_zone: string (nullable = true)\n",
      "\n"
     ]
    }
   ],
   "source": [
    "trips_df.printSchema()\n",
    "zone_df.printSchema()"
   ]
  },
  {
   "cell_type": "markdown",
   "id": "32224e25",
   "metadata": {},
   "source": [
    "- `data/trips` 디렉토리가 데이터 레이크의 역할한다.\n",
    "    - 지금은 로컬에 간단하게 구현을 했지만, 추후 HDFS 등으로 레이크를 구성할 수 있다."
   ]
  },
  {
   "cell_type": "markdown",
   "id": "b74e7d5f",
   "metadata": {},
   "source": [
    "# Data Lake -> Data Warehouse\n",
    "- 데이터 레이크에 흩어져 있는 데이터를 묶어 주는 역할을 일반적으로 수행\n",
    "- 연관성 있는 데이터들끼리 분석을 하기 위한 준비 데이터를 마련한다. ( JOIN )"
   ]
  },
  {
   "cell_type": "code",
   "execution_count": 7,
   "id": "448eb63d",
   "metadata": {},
   "outputs": [],
   "source": [
    "trips_df.createOrReplaceTempView(\"trips\")\n",
    "zone_df.createOrReplaceTempView(\"zone\")"
   ]
  },
  {
   "cell_type": "code",
   "execution_count": 8,
   "id": "48871cc3",
   "metadata": {},
   "outputs": [
    {
     "name": "stdout",
     "output_type": "stream",
     "text": [
      "+---------+-----------+------------+-----------+------------+---------------+-------------+-----------+----------+------------+------------+------------+--------------------+---------------+\n",
      "|vendor_id|pickup_date|dropoff_date|pickup_time|dropoff_time|passenger_count|trip_distance|fare_amount|tip_amount|tolls_amount|total_amount|payment_type|         pickup_zone|   dropoff_zone|\n",
      "+---------+-----------+------------+-----------+------------+---------------+-------------+-----------+----------+------------+------------+------------+--------------------+---------------+\n",
      "|        2| 2021-03-01|  2021-03-01|          0|           0|              1|          0.0|        3.0|       0.0|         0.0|         4.3|           2|                  NV|             NV|\n",
      "|        2| 2021-03-01|  2021-03-01|          0|           0|              1|          0.0|        2.5|       0.0|         0.0|         3.8|           2|      Manhattanville| Manhattanville|\n",
      "|        2| 2021-03-01|  2021-03-01|          0|           0|              1|          0.0|        3.5|       0.0|         0.0|         4.8|           2|      Manhattanville| Manhattanville|\n",
      "|        1| 2021-03-01|  2021-03-01|          0|           0|              0|         16.5|       51.0|     11.65|        6.12|       70.07|           1|   LaGuardia Airport|             NA|\n",
      "|        2| 2021-03-01|  2021-03-01|          0|           0|              1|         1.13|        5.5|      1.86|         0.0|       11.16|           1|        East Chelsea|             NV|\n",
      "|        2| 2021-03-01|  2021-03-01|          0|           0|              1|         2.68|       10.5|      4.29|         0.0|       18.59|           1|Upper West Side S...| Yorkville East|\n",
      "|        1| 2021-03-01|  2021-03-01|          0|           0|              1|         12.4|       40.0|       0.0|         0.0|        43.8|           1|Penn Station/Madi...|      Flatlands|\n",
      "|        1| 2021-03-01|  2021-03-01|          0|           1|              2|          9.7|       31.0|       0.0|         0.0|        32.3|           2|         JFK Airport|             NA|\n",
      "|        1| 2021-03-01|  2021-03-01|          0|           0|              1|          9.3|       26.5|      7.25|        6.12|       43.67|           1|   LaGuardia Airport|Lenox Hill West|\n",
      "|        2| 2021-03-01|  2021-03-01|          0|           0|              1|         9.58|       28.5|      7.68|        6.12|        46.1|           1|   LaGuardia Airport|   Clinton West|\n",
      "+---------+-----------+------------+-----------+------------+---------------+-------------+-----------+----------+------------+------------+------------+--------------------+---------------+\n",
      "only showing top 10 rows\n",
      "\n"
     ]
    }
   ],
   "source": [
    "# Warehouse 생성\n",
    "query = \"\"\"\n",
    "SELECT\n",
    "    t.VendorID as vendor_id,\n",
    "    TO_DATE(t.tpep_pickup_datetime) as pickup_date,\n",
    "    TO_DATE(t.tpep_dropoff_datetime) as dropoff_date,\n",
    "    HOUR(t.tpep_pickup_datetime) as pickup_time,\n",
    "    HOUR(t.tpep_dropoff_datetime) as dropoff_time,\n",
    "\n",
    "    t.passenger_count,\n",
    "    t.trip_distance,\n",
    "    t.fare_amount,\n",
    "    t.tip_amount,\n",
    "    t.tolls_amount,\n",
    "    t.total_amount,\n",
    "    t.payment_type,\n",
    "\n",
    "    pz.Zone as pickup_zone,\n",
    "    dz.Zone as dropoff_zone\n",
    "FROM trips t\n",
    "\n",
    "LEFT JOIN zone pz ON t.PULocationID = pz.locationID\n",
    "LEFT JOIN zone dz ON t.DOLocationID = dz.locationID\n",
    "\"\"\"\n",
    "\n",
    "# comb_df가 warehouse의 역할\n",
    "comb_df = spark.sql(query)\n",
    "comb_df.show(10)"
   ]
  },
  {
   "cell_type": "code",
   "execution_count": 9,
   "id": "a9d13489",
   "metadata": {},
   "outputs": [],
   "source": [
    "# Warehouse에 SQL을 사용하기 위해 TempView 등록\n",
    "comb_df.createOrReplaceTempView(\"comb\")"
   ]
  },
  {
   "cell_type": "markdown",
   "id": "90430ae7",
   "metadata": {},
   "source": [
    "# Data Warehouse -> Data Mart\n",
    "- 데이터 분석에 필요 없는 데이터를 정제\n",
    "- 비즈니스에 맞는 데이터만을 남기는 작업\n",
    "- ex) 2021년 택시 운행 기록에 대한 분석을 해야 하니, Mart에는 2021년 데이터만 남아있을 수 있도록"
   ]
  },
  {
   "cell_type": "code",
   "execution_count": 10,
   "id": "c4a69c27",
   "metadata": {},
   "outputs": [
    {
     "name": "stderr",
     "output_type": "stream",
     "text": [
      "[Stage 7:===================================================>     (10 + 1) / 11]\r"
     ]
    },
    {
     "name": "stdout",
     "output_type": "stream",
     "text": [
      "+-----------+-----------+\n",
      "|pickup_date|pickup_time|\n",
      "+-----------+-----------+\n",
      "| 2002-12-31|         23|\n",
      "| 2003-01-05|          7|\n",
      "| 2004-04-04|          4|\n",
      "| 2008-12-31|         23|\n",
      "| 2008-12-31|         23|\n",
      "| 2008-12-31|         23|\n",
      "| 2008-12-31|         23|\n",
      "| 2008-12-31|         23|\n",
      "| 2008-12-31|         23|\n",
      "| 2008-12-31|         23|\n",
      "| 2008-12-31|         23|\n",
      "| 2008-12-31|         23|\n",
      "| 2008-12-31|         22|\n",
      "| 2008-12-31|         23|\n",
      "| 2008-12-31|         23|\n",
      "| 2008-12-31|         23|\n",
      "| 2008-12-31|         23|\n",
      "| 2008-12-31|         23|\n",
      "| 2008-12-31|         23|\n",
      "| 2008-12-31|         23|\n",
      "+-----------+-----------+\n",
      "only showing top 20 rows\n",
      "\n"
     ]
    },
    {
     "name": "stderr",
     "output_type": "stream",
     "text": [
      "\r",
      "                                                                                \r"
     ]
    }
   ],
   "source": [
    "# 날짜와 시간 검사\n",
    "query = \"\"\"\n",
    "SELECT\n",
    "    pickup_date, pickup_time\n",
    "FROM comb\n",
    "ORDER BY pickup_date\n",
    "\"\"\"\n",
    "spark.sql(query).show()"
   ]
  },
  {
   "cell_type": "markdown",
   "id": "83c207e1",
   "metadata": {},
   "source": [
    "2021년 이전 데이터 들어 있는 것을 확인"
   ]
  },
  {
   "cell_type": "code",
   "execution_count": 11,
   "id": "b503af8c",
   "metadata": {},
   "outputs": [
    {
     "name": "stderr",
     "output_type": "stream",
     "text": [
      "[Stage 9:===================================================>     (10 + 1) / 11]\r"
     ]
    },
    {
     "name": "stdout",
     "output_type": "stream",
     "text": [
      "+--------+\n",
      "|count(1)|\n",
      "+--------+\n",
      "|     156|\n",
      "+--------+\n",
      "\n"
     ]
    },
    {
     "name": "stderr",
     "output_type": "stream",
     "text": [
      "\r",
      "                                                                                \r"
     ]
    }
   ],
   "source": [
    "# 2021년 이전 데이터는 몇 건이 있을까?\n",
    "query = \"\"\"\n",
    "SELECT \n",
    "    count(*)\n",
    "FROM comb\n",
    "WHERE pickup_date < \"2021-01-01\"\n",
    "\"\"\"\n",
    "spark.sql(query).show()"
   ]
  },
  {
   "cell_type": "code",
   "execution_count": 12,
   "id": "c91839b2",
   "metadata": {},
   "outputs": [
    {
     "name": "stderr",
     "output_type": "stream",
     "text": [
      "[Stage 13:==================================================>     (10 + 1) / 11]\r"
     ]
    },
    {
     "name": "stdout",
     "output_type": "stream",
     "text": [
      "+-------+-----------------+\n",
      "|summary|     total_amount|\n",
      "+-------+-----------------+\n",
      "|  count|         15000700|\n",
      "|   mean|18.75545205708744|\n",
      "| stddev|145.7442452805979|\n",
      "|    min|           -647.8|\n",
      "|    max|         398469.2|\n",
      "+-------+-----------------+\n",
      "\n"
     ]
    },
    {
     "name": "stderr",
     "output_type": "stream",
     "text": [
      "\r",
      "                                                                                \r"
     ]
    }
   ],
   "source": [
    "# 2. 요금 데이터에 대한 통계 정보 확인\n",
    "comb_df.select(\"total_amount\").describe().show()"
   ]
  },
  {
   "cell_type": "markdown",
   "id": "71ee8498",
   "metadata": {},
   "source": [
    "최소 값이 음수인 데이터가 있고, 최댓값이 4억원이 넘어가는 데이터도 있다..."
   ]
  },
  {
   "cell_type": "code",
   "execution_count": 13,
   "id": "e7d05e6a",
   "metadata": {},
   "outputs": [
    {
     "name": "stderr",
     "output_type": "stream",
     "text": [
      "[Stage 17:==================================================>     (10 + 1) / 11]\r"
     ]
    },
    {
     "name": "stdout",
     "output_type": "stream",
     "text": [
      "+-------+-----------------+\n",
      "|summary|    trip_distance|\n",
      "+-------+-----------------+\n",
      "|  count|         15000700|\n",
      "|   mean|6.628629402627818|\n",
      "| stddev|671.7293482115828|\n",
      "|    min|              0.0|\n",
      "|    max|        332541.19|\n",
      "+-------+-----------------+\n",
      "\n"
     ]
    },
    {
     "name": "stderr",
     "output_type": "stream",
     "text": [
      "\r",
      "                                                                                \r"
     ]
    }
   ],
   "source": [
    "# 3. 거리 데이터 확인\n",
    "comb_df.select(\"trip_distance\").describe().show()"
   ]
  },
  {
   "cell_type": "code",
   "execution_count": 14,
   "id": "08e18793",
   "metadata": {},
   "outputs": [
    {
     "name": "stderr",
     "output_type": "stream",
     "text": [
      "[Stage 21:==================================================>     (10 + 1) / 11]\r"
     ]
    },
    {
     "name": "stdout",
     "output_type": "stream",
     "text": [
      "+-------------------+-------+\n",
      "|              month|  trips|\n",
      "+-------------------+-------+\n",
      "|2029-05-01 00:00:00|      1|\n",
      "|2021-12-01 00:00:00|      5|\n",
      "|2021-11-01 00:00:00|      5|\n",
      "|2021-10-01 00:00:00|      3|\n",
      "|2021-09-01 00:00:00|      3|\n",
      "|2021-08-01 00:00:00|     36|\n",
      "|2021-07-01 00:00:00|2821430|\n",
      "|2021-06-01 00:00:00|2834204|\n",
      "|2021-05-01 00:00:00|2507075|\n",
      "|2021-04-01 00:00:00|2171215|\n",
      "|2021-03-01 00:00:00|1925130|\n",
      "|2021-02-01 00:00:00|1371688|\n",
      "|2021-01-01 00:00:00|1369749|\n",
      "|2020-12-01 00:00:00|     16|\n",
      "|2009-01-01 00:00:00|    111|\n",
      "|2008-12-01 00:00:00|     26|\n",
      "|2004-04-01 00:00:00|      1|\n",
      "|2003-01-01 00:00:00|      1|\n",
      "|2002-12-01 00:00:00|      1|\n",
      "+-------------------+-------+\n",
      "\n"
     ]
    },
    {
     "name": "stderr",
     "output_type": "stream",
     "text": [
      "\r",
      "                                                                                \r"
     ]
    }
   ],
   "source": [
    "# 4. 월 별 은행 수 확인\n",
    "query = \"\"\"\n",
    "SELECT\n",
    "    DATE_TRUNC(\"MM\", pickup_date) as month,\n",
    "    COUNT(*) AS trips\n",
    "FROM comb\n",
    "GROUP BY month\n",
    "ORDER BY month DESC\n",
    "\"\"\"\n",
    "\n",
    "spark.sql(query).show() "
   ]
  },
  {
   "cell_type": "code",
   "execution_count": 15,
   "id": "66afe8ce",
   "metadata": {},
   "outputs": [
    {
     "name": "stderr",
     "output_type": "stream",
     "text": [
      "[Stage 25:==================================================>     (10 + 1) / 11]\r"
     ]
    },
    {
     "name": "stdout",
     "output_type": "stream",
     "text": [
      "+-------+------------------+\n",
      "|summary|   passenger_count|\n",
      "+-------+------------------+\n",
      "|  count|          14166672|\n",
      "|   mean|1.4253783104458126|\n",
      "| stddev|  1.04432704905968|\n",
      "|    min|                 0|\n",
      "|    max|                 9|\n",
      "+-------+------------------+\n",
      "\n"
     ]
    },
    {
     "name": "stderr",
     "output_type": "stream",
     "text": [
      "\r",
      "                                                                                \r"
     ]
    }
   ],
   "source": [
    "# 5. 승객 수 확인\n",
    "import pyspark.sql.functions as F\n",
    "comb_df.select(F.col(\"passenger_count\")).describe().show()"
   ]
  },
  {
   "cell_type": "markdown",
   "id": "872681f2",
   "metadata": {},
   "source": [
    "살펴본 내용을 토대로 실제 분석할 데이터로 정제. Warehouse -> Mart"
   ]
  },
  {
   "cell_type": "code",
   "execution_count": 16,
   "id": "767f4e42",
   "metadata": {},
   "outputs": [],
   "source": [
    "# 데이터 정제\n",
    "query = \"\"\"\n",
    "SELECT *\n",
    "\n",
    "FROM comb c\n",
    "\n",
    "WHERE c.total_amount < 200\n",
    "  AND c.total_amount > 0\n",
    "  AND c.passenger_count < 5\n",
    "  AND c.pickup_date >= '2021-01-01'\n",
    "  AND c.pickup_date < '2021-08-01'\n",
    "  AND c.trip_distance < 10\n",
    "  AND c.trip_distance > 0\n",
    "\"\"\"\n",
    "\n",
    "cleaned_df = spark.sql(query)\n",
    "cleaned_df.createOrReplaceTempView(\"cleaned\")"
   ]
  },
  {
   "cell_type": "markdown",
   "id": "a555ab97",
   "metadata": {},
   "source": [
    "# 시각화\n",
    "- 스파크를 사용하는 분산처리 환경에서는 제플린을 활용해서 시각화\n",
    "- 스파크를 모두 사용하고 나서 판다스 기반의 사각화를 수행할 수도 있다. (Jupyter Notebook)\n"
   ]
  },
  {
   "cell_type": "code",
   "execution_count": 17,
   "id": "1105aec6",
   "metadata": {},
   "outputs": [
    {
     "name": "stdout",
     "output_type": "stream",
     "text": [
      "Requirement already satisfied: seaborn in /home/ubuntu/miniconda3/envs/spark-env/lib/python3.8/site-packages (0.13.2)\n",
      "Requirement already satisfied: numpy!=1.24.0,>=1.20 in /home/ubuntu/miniconda3/envs/spark-env/lib/python3.8/site-packages (from seaborn) (1.24.4)\n",
      "Requirement already satisfied: pandas>=1.2 in /home/ubuntu/miniconda3/envs/spark-env/lib/python3.8/site-packages (from seaborn) (1.5.3)\n",
      "Requirement already satisfied: matplotlib!=3.6.1,>=3.4 in /home/ubuntu/miniconda3/envs/spark-env/lib/python3.8/site-packages (from seaborn) (3.7.5)\n",
      "Requirement already satisfied: contourpy>=1.0.1 in /home/ubuntu/miniconda3/envs/spark-env/lib/python3.8/site-packages (from matplotlib!=3.6.1,>=3.4->seaborn) (1.1.1)\n",
      "Requirement already satisfied: cycler>=0.10 in /home/ubuntu/miniconda3/envs/spark-env/lib/python3.8/site-packages (from matplotlib!=3.6.1,>=3.4->seaborn) (0.12.1)\n",
      "Requirement already satisfied: fonttools>=4.22.0 in /home/ubuntu/miniconda3/envs/spark-env/lib/python3.8/site-packages (from matplotlib!=3.6.1,>=3.4->seaborn) (4.50.0)\n",
      "Requirement already satisfied: kiwisolver>=1.0.1 in /home/ubuntu/miniconda3/envs/spark-env/lib/python3.8/site-packages (from matplotlib!=3.6.1,>=3.4->seaborn) (1.4.5)\n",
      "Requirement already satisfied: packaging>=20.0 in /home/ubuntu/miniconda3/envs/spark-env/lib/python3.8/site-packages (from matplotlib!=3.6.1,>=3.4->seaborn) (24.0)\n",
      "Requirement already satisfied: pillow>=6.2.0 in /home/ubuntu/miniconda3/envs/spark-env/lib/python3.8/site-packages (from matplotlib!=3.6.1,>=3.4->seaborn) (10.2.0)\n",
      "Requirement already satisfied: pyparsing>=2.3.1 in /home/ubuntu/miniconda3/envs/spark-env/lib/python3.8/site-packages (from matplotlib!=3.6.1,>=3.4->seaborn) (3.1.2)\n",
      "Requirement already satisfied: python-dateutil>=2.7 in /home/ubuntu/miniconda3/envs/spark-env/lib/python3.8/site-packages (from matplotlib!=3.6.1,>=3.4->seaborn) (2.9.0.post0)\n",
      "Requirement already satisfied: importlib-resources>=3.2.0 in /home/ubuntu/miniconda3/envs/spark-env/lib/python3.8/site-packages (from matplotlib!=3.6.1,>=3.4->seaborn) (6.3.2)\n",
      "Requirement already satisfied: pytz>=2020.1 in /home/ubuntu/miniconda3/envs/spark-env/lib/python3.8/site-packages (from pandas>=1.2->seaborn) (2024.1)\n",
      "Requirement already satisfied: zipp>=3.1.0 in /home/ubuntu/miniconda3/envs/spark-env/lib/python3.8/site-packages (from importlib-resources>=3.2.0->matplotlib!=3.6.1,>=3.4->seaborn) (3.18.1)\n",
      "Requirement already satisfied: six>=1.5 in /home/ubuntu/miniconda3/envs/spark-env/lib/python3.8/site-packages (from python-dateutil>=2.7->matplotlib!=3.6.1,>=3.4->seaborn) (1.16.0)\n"
     ]
    }
   ],
   "source": [
    "!pip install seaborn"
   ]
  },
  {
   "cell_type": "code",
   "execution_count": 18,
   "id": "c76602b7",
   "metadata": {},
   "outputs": [],
   "source": [
    "import numpy as np\n",
    "import pandas as pd\n",
    "import seaborn as sns\n",
    "import matplotlib.pyplot as plt"
   ]
  },
  {
   "cell_type": "code",
   "execution_count": 19,
   "id": "1e25dcc8",
   "metadata": {},
   "outputs": [
    {
     "name": "stderr",
     "output_type": "stream",
     "text": [
      "                                                                                \r"
     ]
    },
    {
     "data": {
      "text/html": [
       "<div>\n",
       "<style scoped>\n",
       "    .dataframe tbody tr th:only-of-type {\n",
       "        vertical-align: middle;\n",
       "    }\n",
       "\n",
       "    .dataframe tbody tr th {\n",
       "        vertical-align: top;\n",
       "    }\n",
       "\n",
       "    .dataframe thead th {\n",
       "        text-align: right;\n",
       "    }\n",
       "</style>\n",
       "<table border=\"1\" class=\"dataframe\">\n",
       "  <thead>\n",
       "    <tr style=\"text-align: right;\">\n",
       "      <th></th>\n",
       "      <th>pickup_date</th>\n",
       "      <th>trips</th>\n",
       "    </tr>\n",
       "  </thead>\n",
       "  <tbody>\n",
       "    <tr>\n",
       "      <th>0</th>\n",
       "      <td>2021-03-22</td>\n",
       "      <td>50181</td>\n",
       "    </tr>\n",
       "    <tr>\n",
       "      <th>1</th>\n",
       "      <td>2021-03-07</td>\n",
       "      <td>32557</td>\n",
       "    </tr>\n",
       "    <tr>\n",
       "      <th>2</th>\n",
       "      <td>2021-03-21</td>\n",
       "      <td>37481</td>\n",
       "    </tr>\n",
       "    <tr>\n",
       "      <th>3</th>\n",
       "      <td>2021-05-27</td>\n",
       "      <td>78826</td>\n",
       "    </tr>\n",
       "    <tr>\n",
       "      <th>4</th>\n",
       "      <td>2021-03-14</td>\n",
       "      <td>36769</td>\n",
       "    </tr>\n",
       "    <tr>\n",
       "      <th>...</th>\n",
       "      <td>...</td>\n",
       "      <td>...</td>\n",
       "    </tr>\n",
       "    <tr>\n",
       "      <th>207</th>\n",
       "      <td>2021-03-30</td>\n",
       "      <td>56455</td>\n",
       "    </tr>\n",
       "    <tr>\n",
       "      <th>208</th>\n",
       "      <td>2021-03-27</td>\n",
       "      <td>57953</td>\n",
       "    </tr>\n",
       "    <tr>\n",
       "      <th>209</th>\n",
       "      <td>2021-03-29</td>\n",
       "      <td>48468</td>\n",
       "    </tr>\n",
       "    <tr>\n",
       "      <th>210</th>\n",
       "      <td>2021-04-27</td>\n",
       "      <td>65128</td>\n",
       "    </tr>\n",
       "    <tr>\n",
       "      <th>211</th>\n",
       "      <td>2021-03-28</td>\n",
       "      <td>33299</td>\n",
       "    </tr>\n",
       "  </tbody>\n",
       "</table>\n",
       "<p>212 rows × 2 columns</p>\n",
       "</div>"
      ],
      "text/plain": [
       "    pickup_date  trips\n",
       "0    2021-03-22  50181\n",
       "1    2021-03-07  32557\n",
       "2    2021-03-21  37481\n",
       "3    2021-05-27  78826\n",
       "4    2021-03-14  36769\n",
       "..          ...    ...\n",
       "207  2021-03-30  56455\n",
       "208  2021-03-27  57953\n",
       "209  2021-03-29  48468\n",
       "210  2021-04-27  65128\n",
       "211  2021-03-28  33299\n",
       "\n",
       "[212 rows x 2 columns]"
      ]
     },
     "execution_count": 19,
     "metadata": {},
     "output_type": "execute_result"
    }
   ],
   "source": [
    "# pickup_date 별 은행 수 확인\n",
    "query = \"\"\"\n",
    "SELECT \n",
    "    pickup_date,\n",
    "    COUNT(pickup_date) as trips\n",
    "FROM cleaned\n",
    "GROUP BY pickup_date\n",
    "\"\"\"\n",
    "pd_df = spark.sql(query).toPandas()\n",
    "pd_df"
   ]
  },
  {
   "cell_type": "code",
   "execution_count": 20,
   "id": "b4daa8e5",
   "metadata": {},
   "outputs": [
    {
     "data": {
      "image/png": "[encoded data removed]",
      "text/plain": [
       "<Figure size 2000x800 with 1 Axes>"
      ]
     },
     "metadata": {},
     "output_type": "display_data"
    }
   ],
   "source": [
    "plt.subplots(figsize=(20, 8))\n",
    "\n",
    "sns.lineplot(\n",
    "    x=\"pickup_date\",\n",
    "    y=\"trips\",\n",
    "    data=pd_df\n",
    ")\n",
    "plt.show()"
   ]
  },
  {
   "cell_type": "code",
   "execution_count": 23,
   "id": "9941ac88",
   "metadata": {
    "scrolled": true
   },
   "outputs": [
    {
     "name": "stderr",
     "output_type": "stream",
     "text": [
      "/home/ubuntu/miniconda3/envs/spark-env/lib/python3.8/site-packages/pyspark/sql/pandas/conversion.py:194: FutureWarning: Passing unit-less datetime64 dtype to .astype is deprecated and will raise in a future version. Pass 'datetime64[ns]' instead\n",
      "  series = series.astype(t, copy=False)\n"
     ]
    },
    {
     "data": {
      "text/html": [
       "<div>\n",
       "<style scoped>\n",
       "    .dataframe tbody tr th:only-of-type {\n",
       "        vertical-align: middle;\n",
       "    }\n",
       "\n",
       "    .dataframe tbody tr th {\n",
       "        vertical-align: top;\n",
       "    }\n",
       "\n",
       "    .dataframe thead th {\n",
       "        text-align: right;\n",
       "    }\n",
       "</style>\n",
       "<table border=\"1\" class=\"dataframe\">\n",
       "  <thead>\n",
       "    <tr style=\"text-align: right;\">\n",
       "      <th></th>\n",
       "      <th>month</th>\n",
       "      <th>day_of_week</th>\n",
       "      <th>trips</th>\n",
       "    </tr>\n",
       "  </thead>\n",
       "  <tbody>\n",
       "    <tr>\n",
       "      <th>0</th>\n",
       "      <td>2021-03-01</td>\n",
       "      <td>Friday</td>\n",
       "      <td>246564</td>\n",
       "    </tr>\n",
       "    <tr>\n",
       "      <th>1</th>\n",
       "      <td>2021-03-01</td>\n",
       "      <td>Sunday</td>\n",
       "      <td>140106</td>\n",
       "    </tr>\n",
       "    <tr>\n",
       "      <th>2</th>\n",
       "      <td>2021-03-01</td>\n",
       "      <td>Saturday</td>\n",
       "      <td>211133</td>\n",
       "    </tr>\n",
       "    <tr>\n",
       "      <th>3</th>\n",
       "      <td>2021-05-01</td>\n",
       "      <td>Wednesday</td>\n",
       "      <td>307469</td>\n",
       "    </tr>\n",
       "    <tr>\n",
       "      <th>4</th>\n",
       "      <td>2021-03-01</td>\n",
       "      <td>Monday</td>\n",
       "      <td>243002</td>\n",
       "    </tr>\n",
       "    <tr>\n",
       "      <th>5</th>\n",
       "      <td>2021-02-01</td>\n",
       "      <td>Sunday</td>\n",
       "      <td>118305</td>\n",
       "    </tr>\n",
       "    <tr>\n",
       "      <th>6</th>\n",
       "      <td>2021-04-01</td>\n",
       "      <td>Wednesday</td>\n",
       "      <td>267963</td>\n",
       "    </tr>\n",
       "    <tr>\n",
       "      <th>7</th>\n",
       "      <td>2021-03-01</td>\n",
       "      <td>Thursday</td>\n",
       "      <td>235457</td>\n",
       "    </tr>\n",
       "    <tr>\n",
       "      <th>8</th>\n",
       "      <td>2021-03-01</td>\n",
       "      <td>Tuesday</td>\n",
       "      <td>270928</td>\n",
       "    </tr>\n",
       "    <tr>\n",
       "      <th>9</th>\n",
       "      <td>2021-03-01</td>\n",
       "      <td>Wednesday</td>\n",
       "      <td>285498</td>\n",
       "    </tr>\n",
       "    <tr>\n",
       "      <th>10</th>\n",
       "      <td>2021-05-01</td>\n",
       "      <td>Thursday</td>\n",
       "      <td>304473</td>\n",
       "    </tr>\n",
       "    <tr>\n",
       "      <th>11</th>\n",
       "      <td>2021-04-01</td>\n",
       "      <td>Saturday</td>\n",
       "      <td>244360</td>\n",
       "    </tr>\n",
       "    <tr>\n",
       "      <th>12</th>\n",
       "      <td>2021-04-01</td>\n",
       "      <td>Monday</td>\n",
       "      <td>225624</td>\n",
       "    </tr>\n",
       "    <tr>\n",
       "      <th>13</th>\n",
       "      <td>2021-04-01</td>\n",
       "      <td>Thursday</td>\n",
       "      <td>337777</td>\n",
       "    </tr>\n",
       "    <tr>\n",
       "      <th>14</th>\n",
       "      <td>2021-04-01</td>\n",
       "      <td>Tuesday</td>\n",
       "      <td>253612</td>\n",
       "    </tr>\n",
       "    <tr>\n",
       "      <th>15</th>\n",
       "      <td>2021-04-01</td>\n",
       "      <td>Friday</td>\n",
       "      <td>347382</td>\n",
       "    </tr>\n",
       "    <tr>\n",
       "      <th>16</th>\n",
       "      <td>2021-04-01</td>\n",
       "      <td>Sunday</td>\n",
       "      <td>163686</td>\n",
       "    </tr>\n",
       "    <tr>\n",
       "      <th>17</th>\n",
       "      <td>2021-06-01</td>\n",
       "      <td>Wednesday</td>\n",
       "      <td>428298</td>\n",
       "    </tr>\n",
       "    <tr>\n",
       "      <th>18</th>\n",
       "      <td>2021-05-01</td>\n",
       "      <td>Tuesday</td>\n",
       "      <td>289266</td>\n",
       "    </tr>\n",
       "    <tr>\n",
       "      <th>19</th>\n",
       "      <td>2021-05-01</td>\n",
       "      <td>Monday</td>\n",
       "      <td>302305</td>\n",
       "    </tr>\n",
       "    <tr>\n",
       "      <th>20</th>\n",
       "      <td>2021-05-01</td>\n",
       "      <td>Friday</td>\n",
       "      <td>314011</td>\n",
       "    </tr>\n",
       "    <tr>\n",
       "      <th>21</th>\n",
       "      <td>2021-05-01</td>\n",
       "      <td>Saturday</td>\n",
       "      <td>350765</td>\n",
       "    </tr>\n",
       "    <tr>\n",
       "      <th>22</th>\n",
       "      <td>2021-05-01</td>\n",
       "      <td>Sunday</td>\n",
       "      <td>263051</td>\n",
       "    </tr>\n",
       "    <tr>\n",
       "      <th>23</th>\n",
       "      <td>2021-07-01</td>\n",
       "      <td>Thursday</td>\n",
       "      <td>420440</td>\n",
       "    </tr>\n",
       "    <tr>\n",
       "      <th>24</th>\n",
       "      <td>2021-06-01</td>\n",
       "      <td>Tuesday</td>\n",
       "      <td>410292</td>\n",
       "    </tr>\n",
       "    <tr>\n",
       "      <th>25</th>\n",
       "      <td>2021-06-01</td>\n",
       "      <td>Thursday</td>\n",
       "      <td>349448</td>\n",
       "    </tr>\n",
       "    <tr>\n",
       "      <th>26</th>\n",
       "      <td>2021-06-01</td>\n",
       "      <td>Monday</td>\n",
       "      <td>301824</td>\n",
       "    </tr>\n",
       "    <tr>\n",
       "      <th>27</th>\n",
       "      <td>2021-06-01</td>\n",
       "      <td>Friday</td>\n",
       "      <td>338319</td>\n",
       "    </tr>\n",
       "    <tr>\n",
       "      <th>28</th>\n",
       "      <td>2021-06-01</td>\n",
       "      <td>Sunday</td>\n",
       "      <td>253470</td>\n",
       "    </tr>\n",
       "    <tr>\n",
       "      <th>29</th>\n",
       "      <td>2021-07-01</td>\n",
       "      <td>Monday</td>\n",
       "      <td>270336</td>\n",
       "    </tr>\n",
       "    <tr>\n",
       "      <th>30</th>\n",
       "      <td>2021-06-01</td>\n",
       "      <td>Saturday</td>\n",
       "      <td>331432</td>\n",
       "    </tr>\n",
       "    <tr>\n",
       "      <th>31</th>\n",
       "      <td>2021-07-01</td>\n",
       "      <td>Sunday</td>\n",
       "      <td>234897</td>\n",
       "    </tr>\n",
       "    <tr>\n",
       "      <th>32</th>\n",
       "      <td>2021-07-01</td>\n",
       "      <td>Saturday</td>\n",
       "      <td>374739</td>\n",
       "    </tr>\n",
       "    <tr>\n",
       "      <th>33</th>\n",
       "      <td>2021-07-01</td>\n",
       "      <td>Friday</td>\n",
       "      <td>403811</td>\n",
       "    </tr>\n",
       "    <tr>\n",
       "      <th>34</th>\n",
       "      <td>2021-07-01</td>\n",
       "      <td>Tuesday</td>\n",
       "      <td>319010</td>\n",
       "    </tr>\n",
       "    <tr>\n",
       "      <th>35</th>\n",
       "      <td>2021-07-01</td>\n",
       "      <td>Wednesday</td>\n",
       "      <td>338082</td>\n",
       "    </tr>\n",
       "    <tr>\n",
       "      <th>36</th>\n",
       "      <td>2021-02-01</td>\n",
       "      <td>Thursday</td>\n",
       "      <td>183598</td>\n",
       "    </tr>\n",
       "    <tr>\n",
       "      <th>37</th>\n",
       "      <td>2021-01-01</td>\n",
       "      <td>Sunday</td>\n",
       "      <td>123252</td>\n",
       "    </tr>\n",
       "    <tr>\n",
       "      <th>38</th>\n",
       "      <td>2021-02-01</td>\n",
       "      <td>Saturday</td>\n",
       "      <td>169968</td>\n",
       "    </tr>\n",
       "    <tr>\n",
       "      <th>39</th>\n",
       "      <td>2021-02-01</td>\n",
       "      <td>Friday</td>\n",
       "      <td>202440</td>\n",
       "    </tr>\n",
       "    <tr>\n",
       "      <th>40</th>\n",
       "      <td>2021-02-01</td>\n",
       "      <td>Monday</td>\n",
       "      <td>124624</td>\n",
       "    </tr>\n",
       "    <tr>\n",
       "      <th>41</th>\n",
       "      <td>2021-02-01</td>\n",
       "      <td>Wednesday</td>\n",
       "      <td>196704</td>\n",
       "    </tr>\n",
       "    <tr>\n",
       "      <th>42</th>\n",
       "      <td>2021-02-01</td>\n",
       "      <td>Tuesday</td>\n",
       "      <td>158943</td>\n",
       "    </tr>\n",
       "    <tr>\n",
       "      <th>43</th>\n",
       "      <td>2021-01-01</td>\n",
       "      <td>Monday</td>\n",
       "      <td>145332</td>\n",
       "    </tr>\n",
       "    <tr>\n",
       "      <th>44</th>\n",
       "      <td>2021-01-01</td>\n",
       "      <td>Tuesday</td>\n",
       "      <td>163523</td>\n",
       "    </tr>\n",
       "    <tr>\n",
       "      <th>45</th>\n",
       "      <td>2021-01-01</td>\n",
       "      <td>Saturday</td>\n",
       "      <td>163406</td>\n",
       "    </tr>\n",
       "    <tr>\n",
       "      <th>46</th>\n",
       "      <td>2021-01-01</td>\n",
       "      <td>Wednesday</td>\n",
       "      <td>171053</td>\n",
       "    </tr>\n",
       "    <tr>\n",
       "      <th>47</th>\n",
       "      <td>2021-01-01</td>\n",
       "      <td>Friday</td>\n",
       "      <td>198314</td>\n",
       "    </tr>\n",
       "    <tr>\n",
       "      <th>48</th>\n",
       "      <td>2021-01-01</td>\n",
       "      <td>Thursday</td>\n",
       "      <td>179192</td>\n",
       "    </tr>\n",
       "  </tbody>\n",
       "</table>\n",
       "</div>"
      ],
      "text/plain": [
       "        month day_of_week   trips\n",
       "0  2021-03-01      Friday  246564\n",
       "1  2021-03-01      Sunday  140106\n",
       "2  2021-03-01    Saturday  211133\n",
       "3  2021-05-01   Wednesday  307469\n",
       "4  2021-03-01      Monday  243002\n",
       "5  2021-02-01      Sunday  118305\n",
       "6  2021-04-01   Wednesday  267963\n",
       "7  2021-03-01    Thursday  235457\n",
       "8  2021-03-01     Tuesday  270928\n",
       "9  2021-03-01   Wednesday  285498\n",
       "10 2021-05-01    Thursday  304473\n",
       "11 2021-04-01    Saturday  244360\n",
       "12 2021-04-01      Monday  225624\n",
       "13 2021-04-01    Thursday  337777\n",
       "14 2021-04-01     Tuesday  253612\n",
       "15 2021-04-01      Friday  347382\n",
       "16 2021-04-01      Sunday  163686\n",
       "17 2021-06-01   Wednesday  428298\n",
       "18 2021-05-01     Tuesday  289266\n",
       "19 2021-05-01      Monday  302305\n",
       "20 2021-05-01      Friday  314011\n",
       "21 2021-05-01    Saturday  350765\n",
       "22 2021-05-01      Sunday  263051\n",
       "23 2021-07-01    Thursday  420440\n",
       "24 2021-06-01     Tuesday  410292\n",
       "25 2021-06-01    Thursday  349448\n",
       "26 2021-06-01      Monday  301824\n",
       "27 2021-06-01      Friday  338319\n",
       "28 2021-06-01      Sunday  253470\n",
       "29 2021-07-01      Monday  270336\n",
       "30 2021-06-01    Saturday  331432\n",
       "31 2021-07-01      Sunday  234897\n",
       "32 2021-07-01    Saturday  374739\n",
       "33 2021-07-01      Friday  403811\n",
       "34 2021-07-01     Tuesday  319010\n",
       "35 2021-07-01   Wednesday  338082\n",
       "36 2021-02-01    Thursday  183598\n",
       "37 2021-01-01      Sunday  123252\n",
       "38 2021-02-01    Saturday  169968\n",
       "39 2021-02-01      Friday  202440\n",
       "40 2021-02-01      Monday  124624\n",
       "41 2021-02-01   Wednesday  196704\n",
       "42 2021-02-01     Tuesday  158943\n",
       "43 2021-01-01      Monday  145332\n",
       "44 2021-01-01     Tuesday  163523\n",
       "45 2021-01-01    Saturday  163406\n",
       "46 2021-01-01   Wednesday  171053\n",
       "47 2021-01-01      Friday  198314\n",
       "48 2021-01-01    Thursday  179192"
      ]
     },
     "execution_count": 23,
     "metadata": {},
     "output_type": "execute_result"
    }
   ],
   "source": [
    "# 요일별 은행 횟수 확인\n",
    "query = \"\"\"\n",
    "SELECT\n",
    "    DATE_TRUNC(\"MM\", pickup_date) as month,\n",
    "    DATE_FORMAT(pickup_date, 'EEEE') as day_of_week,\n",
    "    COUNT(*) as trips\n",
    "FROM cleaned\n",
    "GROUP BY month, day_of_week\n",
    "\"\"\"\n",
    "\n",
    "pd_df2 = spark.sql(query).toPandas()\n",
    "pd_df2"
   ]
  },
  {
   "cell_type": "code",
   "execution_count": null,
   "id": "94274aaf",
   "metadata": {
    "scrolled": true
   },
   "outputs": [],
   "source": [
    "plt.subplots(figsize=(20, 8))\n",
    "\n",
    "sns.lineplot(\n",
    "    x=\"month\",\n",
    "    y=\"trips\",\n",
    "    hue=\"day_of_week\",\n",
    "    data=pd_df2\n",
    ")\n",
    "plt.show()"
   ]
  },
  {
   "cell_type": "markdown",
   "id": "65eaab4e",
   "metadata": {},
   "source": [
    "pd_df2를 활용하기\n",
    "- 요일별 중간값 구하기\n",
    "- 중간값 구한 다음 요일로 정렬\n",
    "    - 일-월-화-수-목-금-토 정렬\n",
    "- 정렬된 내용을 토대로 Bar 그래프로 나타내기"
   ]
  },
  {
   "cell_type": "code",
   "execution_count": null,
   "id": "9ba9daa0",
   "metadata": {},
   "outputs": [],
   "source": [
    "# 요일별 중간값 구하기\n",
    "median_data = pd_df2.groupby(\"day_of_week\")[\"trips\"].median().to_frame()\n",
    "median_data = median_data.reset_index()\n",
    "median_data"
   ]
  },
  {
   "cell_type": "code",
   "execution_count": 24,
   "id": "6c71c12a",
   "metadata": {},
   "outputs": [],
   "source": [
    "# 요일 정렬(일월화수목금토)\n",
    "median_data['sort_dow'] = median_data[\"day_of_week\"].replace({\n",
    "    \"Sunday\": 0,\n",
    "    \"Monday\": 1,\n",
    "    \"Tuesday\": 2,\n",
    "    \"Wednesday\": 3,\n",
    "    \"Thursday\": 4,\n",
    "    \"Friday\": 5,\n",
    "    \"Saturday\": 6, \n",
    "})\n",
    "median_data"
   ]
  },
  {
   "cell_type": "code",
   "execution_count": null,
   "id": "c77c1c20",
   "metadata": {},
   "outputs": [],
   "source": [
    "median_data_sorted = median_data.sort_values(by='sort_dow')\n",
    "median_data_sorted"
   ]
  },
  {
   "cell_type": "code",
   "execution_count": null,
   "id": "24c4c327",
   "metadata": {},
   "outputs": [],
   "source": [
    "plt.figure(figsize=(12, 5))\n",
    "sns.barplot(\n",
    "    x='day_of_week',\n",
    "    y='trips',\n",
    "    data=median_data_sorted\n",
    ")\n",
    "plt.show()"
   ]
  },
  {
   "cell_type": "code",
   "execution_count": 2,
   "id": "105c3213",
   "metadata": {},
   "outputs": [
    {
     "ename": "NameError",
     "evalue": "name 'spark' is not defined",
     "output_type": "error",
     "traceback": [
      "\u001b[0;31m---------------------------------------------------------------------------\u001b[0m",
      "\u001b[0;31mNameError\u001b[0m                                 Traceback (most recent call last)",
      "Cell \u001b[0;32mIn[2], line 1\u001b[0m\n\u001b[0;32m----> 1\u001b[0m \u001b[43mspark\u001b[49m\u001b[38;5;241m.\u001b[39mstop()\n",
      "\u001b[0;31mNameError\u001b[0m: name 'spark' is not defined"
     ]
    }
   ],
   "source": [
    "spark.stop()"
   ]
  },
  {
   "cell_type": "code",
   "execution_count": null,
   "id": "bed766cf",
   "metadata": {},
   "outputs": [],
   "source": []
  },
  {
   "cell_type": "code",
   "execution_count": null,
   "id": "58456c2e",
   "metadata": {},
   "outputs": [],
   "source": []
  }
 ],
 "metadata": {
  "kernelspec": {
   "display_name": "Python 3 (ipykernel)",
   "language": "python",
   "name": "python3"
  },
  "language_info": {
   "codemirror_mode": {
    "name": "ipython",
    "version": 3
   },
   "file_extension": ".py",
   "mimetype": "text/x-python",
   "name": "python",
   "nbconvert_exporter": "python",
   "pygments_lexer": "ipython3",
   "version": "3.8.18"
  }
 },
 "nbformat": 4,
 "nbformat_minor": 5
}
