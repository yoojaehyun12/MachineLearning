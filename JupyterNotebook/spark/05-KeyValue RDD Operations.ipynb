{
 "cells": [
  {
   "cell_type": "code",
   "execution_count": 2,
   "id": "fbc07aa6",
   "metadata": {},
   "outputs": [
    {
     "name": "stderr",
     "output_type": "stream",
     "text": [
      "Using Spark's default log4j profile: org/apache/spark/log4j-defaults.properties\n",
      "Setting default log level to \"WARN\".\n",
      "To adjust logging level use sc.setLogLevel(newLevel). For SparkR, use setLogLevel(newLevel).\n",
      "24/03/27 14:44:43 WARN NativeCodeLoader: Unable to load native-hadoop library for your platform... using builtin-java classes where applicable\n"
     ]
    },
    {
     "data": {
      "text/html": [
       "\n",
       "        <div>\n",
       "            <p><b>SparkContext</b></p>\n",
       "\n",
       "            <p><a href=\"http://0.0.0.0:4040\">Spark UI</a></p>\n",
       "\n",
       "            <dl>\n",
       "              <dt>Version</dt>\n",
       "                <dd><code>v3.2.4</code></dd>\n",
       "              <dt>Master</dt>\n",
       "                <dd><code>local</code></dd>\n",
       "              <dt>AppName</dt>\n",
       "                <dd><code>Key_Value_RDD_OP</code></dd>\n",
       "            </dl>\n",
       "        </div>\n",
       "        "
      ],
      "text/plain": [
       "<SparkContext master=local appName=Key_Value_RDD_OP>"
      ]
     },
     "execution_count": 2,
     "metadata": {},
     "output_type": "execute_result"
    }
   ],
   "source": [
    "from pyspark import SparkConf, SparkContext\n",
    "\n",
    "conf = SparkConf().setMaster(\"local\").setAppName(\"Key_Value_RDD_OP\")\n",
    "sc = SparkContext(conf=conf)\n",
    "sc"
   ]
  },
  {
   "cell_type": "markdown",
   "id": "e2858ac3",
   "metadata": {},
   "source": [
    "# groupByKey\n",
    "* `k_v_RDD.groupByKey(numPartitions=None, partitionFunc=<function portable_hash>)`\n",
    "* 주어지는 key를 기준으로 Group을 만들어 줍니다.\n",
    "* Transformations 함수 입니다."
   ]
  },
  {
   "cell_type": "code",
   "execution_count": 3,
   "id": "a458d4c5",
   "metadata": {},
   "outputs": [
    {
     "data": {
      "text/plain": [
       "ParallelCollectionRDD[0] at readRDDFromFile at PythonRDD.scala:274"
      ]
     },
     "execution_count": 3,
     "metadata": {},
     "output_type": "execute_result"
    }
   ],
   "source": [
    "rdd = sc.parallelize([\n",
    "    (\"짜장면\", 15),\n",
    "    (\"짬뽕\", 10),\n",
    "    (\"짜장면\", 5)\n",
    "])\n",
    "\n",
    "rdd"
   ]
  },
  {
   "cell_type": "code",
   "execution_count": 4,
   "id": "6da54c4e",
   "metadata": {},
   "outputs": [
    {
     "data": {
      "text/plain": [
       "PythonRDD[5] at RDD at PythonRDD.scala:53"
      ]
     },
     "execution_count": 4,
     "metadata": {},
     "output_type": "execute_result"
    }
   ],
   "source": [
    "rdd.groupByKey()"
   ]
  },
  {
   "cell_type": "code",
   "execution_count": 5,
   "id": "f29fb31e",
   "metadata": {},
   "outputs": [
    {
     "name": "stderr",
     "output_type": "stream",
     "text": [
      "                                                                                \r"
     ]
    },
    {
     "data": {
      "text/plain": [
       "[('짜장면', <pyspark.resultiterable.ResultIterable at 0x7f57fc2268b0>),\n",
       " ('짬뽕', <pyspark.resultiterable.ResultIterable at 0x7f57f466e130>)]"
      ]
     },
     "execution_count": 5,
     "metadata": {},
     "output_type": "execute_result"
    }
   ],
   "source": [
    "rdd.groupByKey().collect()"
   ]
  },
  {
   "cell_type": "code",
   "execution_count": 8,
   "id": "a30e9235",
   "metadata": {},
   "outputs": [
    {
     "data": {
      "text/plain": [
       "[('짜장면', [15, 5]), ('짬뽕', [10])]"
      ]
     },
     "execution_count": 8,
     "metadata": {},
     "output_type": "execute_result"
    }
   ],
   "source": [
    "rdd.groupByKey().mapValues(list).collect()"
   ]
  },
  {
   "cell_type": "code",
   "execution_count": 13,
   "id": "71548bb3",
   "metadata": {},
   "outputs": [
    {
     "data": {
      "text/plain": [
       "[('짜장면', 2), ('짬뽕', 1)]"
      ]
     },
     "execution_count": 13,
     "metadata": {},
     "output_type": "execute_result"
    }
   ],
   "source": [
    "rdd.groupByKey().mapValues(len).collect()"
   ]
  },
  {
   "cell_type": "markdown",
   "id": "54944e8d",
   "metadata": {},
   "source": [
    "# reduceByKey\n",
    "- `KeyValueRDD.reduceByKey(<task>, numPartitions=None, partitionFunc=<function portable_hash>)`\n",
    "- 주어지는 `key`를 기준으로 `Group`을 만들고 합쳐(`task`대로)줍니다.\n",
    "- Transformations 함수 입니다."
   ]
  },
  {
   "cell_type": "code",
   "execution_count": 15,
   "id": "68104ab0",
   "metadata": {},
   "outputs": [
    {
     "data": {
      "text/plain": [
       "[('짜장면', 20), ('짬뽕', 10)]"
      ]
     },
     "execution_count": 15,
     "metadata": {},
     "output_type": "execute_result"
    }
   ],
   "source": [
    "rdd.reduceByKey(lambda x, y : x + y).collect()"
   ]
  },
  {
   "cell_type": "markdown",
   "id": "2eae7d2d",
   "metadata": {},
   "source": [
    "# mapValues\n",
    "- `KeyValueRDD.mapValues(<task>)`\n",
    "- 함수를 `Value`에만 적용합니다.\n",
    "    - 파티션과 키는 그 위치에 그대로 있습니다.\n",
    "- `Transformations`"
   ]
  },
  {
   "cell_type": "code",
   "execution_count": 16,
   "id": "097755ec",
   "metadata": {},
   "outputs": [],
   "source": [
    "rdd = sc.parallelize([\n",
    "    (\"하의\", [\"청바지\", \"반바지\", \"치마\"]),\n",
    "    (\"상의\", [\"니트\", \"반팔\", \"긴팔\", \"나시\"])\n",
    "])"
   ]
  },
  {
   "cell_type": "code",
   "execution_count": 17,
   "id": "745c36f5",
   "metadata": {},
   "outputs": [
    {
     "data": {
      "text/plain": [
       "[('하의', 3), ('상의', 4)]"
      ]
     },
     "execution_count": 17,
     "metadata": {},
     "output_type": "execute_result"
    }
   ],
   "source": [
    "rdd.mapValues(len).collect()"
   ]
  },
  {
   "cell_type": "markdown",
   "id": "76703945",
   "metadata": {},
   "source": [
    "# Join\n",
    "- `Inner Join` : 서로간에 존재하는 키만 합쳐준다.\n",
    "- `Outer Join` : 기준이 되는 한 쪽에는 데이터가 있고, 다른 쪽에는 데이터가 없는 경우\n",
    "    - 설정한 기준에 따라서 기준에 맞는 데이터가 항상 남아있는다.\n",
    "    - `leftOuterJoin` : 왼쪽에 있는 rdd가 기준이 된다.( 함수를 호출 하는 쪽 )\n",
    "    - `rightOuterJoin` : 오른쪽에 있는 rdd가 기준이 된다. ( 함수에 매개변수로 들어가는 쪽 )"
   ]
  },
  {
   "cell_type": "code",
   "execution_count": 18,
   "id": "77719ce9",
   "metadata": {},
   "outputs": [],
   "source": [
    "rdd1 = sc.parallelize([\n",
    "    (\"foo\", 1),\n",
    "    (\"goo\", 2),\n",
    "    (\"hoo\", 3)\n",
    "])\n",
    "\n",
    "rdd2 = sc.parallelize([\n",
    "    (\"foo\", 1),\n",
    "    (\"goo\", 2),\n",
    "    (\"goo\", 10),\n",
    "    (\"moo\", 6)\n",
    "])"
   ]
  },
  {
   "cell_type": "code",
   "execution_count": 19,
   "id": "f31bfb4c",
   "metadata": {},
   "outputs": [
    {
     "data": {
      "text/plain": [
       "[('foo', (1, 1)), ('goo', (2, 2)), ('goo', (2, 10))]"
      ]
     },
     "execution_count": 19,
     "metadata": {},
     "output_type": "execute_result"
    }
   ],
   "source": [
    "rdd1.join(rdd2).collect()"
   ]
  },
  {
   "cell_type": "code",
   "execution_count": 20,
   "id": "fbda21df",
   "metadata": {},
   "outputs": [
    {
     "data": {
      "text/plain": [
       "[('foo', (1, 1)), ('goo', (2, 2)), ('goo', (2, 10)), ('hoo', (3, None))]"
      ]
     },
     "execution_count": 20,
     "metadata": {},
     "output_type": "execute_result"
    }
   ],
   "source": [
    "rdd1.leftOuterJoin(rdd2).collect()"
   ]
  },
  {
   "cell_type": "code",
   "execution_count": 21,
   "id": "80cd007f",
   "metadata": {},
   "outputs": [
    {
     "data": {
      "text/plain": [
       "[('foo', (1, 1)), ('moo', (None, 6)), ('goo', (2, 2)), ('goo', (2, 10))]"
      ]
     },
     "execution_count": 21,
     "metadata": {},
     "output_type": "execute_result"
    }
   ],
   "source": [
    "rdd1.rightOuterJoin(rdd2).collect()"
   ]
  },
  {
   "cell_type": "code",
   "execution_count": 22,
   "id": "08a005fe",
   "metadata": {},
   "outputs": [],
   "source": [
    "sc.stop()"
   ]
  },
  {
   "cell_type": "code",
   "execution_count": null,
   "id": "10fa8e49",
   "metadata": {},
   "outputs": [],
   "source": []
  }
 ],
 "metadata": {
  "kernelspec": {
   "display_name": "Python 3 (ipykernel)",
   "language": "python",
   "name": "python3"
  },
  "language_info": {
   "codemirror_mode": {
    "name": "ipython",
    "version": 3
   },
   "file_extension": ".py",
   "mimetype": "text/x-python",
   "name": "python",
   "nbconvert_exporter": "python",
   "pygments_lexer": "ipython3",
   "version": "3.8.18"
  }
 },
 "nbformat": 4,
 "nbformat_minor": 5
}
