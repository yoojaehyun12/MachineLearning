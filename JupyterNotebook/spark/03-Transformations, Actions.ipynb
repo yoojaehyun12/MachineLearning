{
 "cells": [
  {
   "cell_type": "code",
   "execution_count": 1,
   "id": "2ddea380",
   "metadata": {},
   "outputs": [
    {
     "name": "stderr",
     "output_type": "stream",
     "text": [
      "Using Spark's default log4j profile: org/apache/spark/log4j-defaults.properties\n",
      "Setting default log level to \"WARN\".\n",
      "To adjust logging level use sc.setLogLevel(newLevel). For SparkR, use setLogLevel(newLevel).\n",
      "24/03/27 11:47:13 WARN NativeCodeLoader: Unable to load native-hadoop library for your platform... using builtin-java classes where applicable\n"
     ]
    },
    {
     "data": {
      "text/html": [
       "\n",
       "        <div>\n",
       "            <p><b>SparkContext</b></p>\n",
       "\n",
       "            <p><a href=\"http://0.0.0.0:4040\">Spark UI</a></p>\n",
       "\n",
       "            <dl>\n",
       "              <dt>Version</dt>\n",
       "                <dd><code>v3.2.4</code></dd>\n",
       "              <dt>Master</dt>\n",
       "                <dd><code>local</code></dd>\n",
       "              <dt>AppName</dt>\n",
       "                <dd><code>transformations_actions</code></dd>\n",
       "            </dl>\n",
       "        </div>\n",
       "        "
      ],
      "text/plain": [
       "<SparkContext master=local appName=transformations_actions>"
      ]
     },
     "execution_count": 1,
     "metadata": {},
     "output_type": "execute_result"
    }
   ],
   "source": [
    "from pyspark import SparkConf, SparkContext\n",
    "\n",
    "conf = SparkConf().setMaster(\"local\").setAppName(\"transformations_actions\")\n",
    "\n",
    "sc = SparkContext(conf=conf)\n",
    "sc"
   ]
  },
  {
   "cell_type": "markdown",
   "id": "a6a77af3",
   "metadata": {},
   "source": [
    "# RDD 생성\n",
    "파이썬의 리스트를 사용해서 RDD 생성 - `parallelize`"
   ]
  },
  {
   "cell_type": "code",
   "execution_count": 2,
   "id": "80738fda",
   "metadata": {},
   "outputs": [
    {
     "name": "stderr",
     "output_type": "stream",
     "text": [
      "                                                                                \r"
     ]
    },
    {
     "data": {
      "text/plain": [
       "['짜장면',\n",
       " '짬뽕',\n",
       " '마라탕',\n",
       " '떡볶이',\n",
       " '쌀국수',\n",
       " '짬뽕',\n",
       " '짜장면',\n",
       " '짜장면',\n",
       " '짬뽕',\n",
       " '마라탕',\n",
       " '라면',\n",
       " '라면',\n",
       " '우동',\n",
       " '쌀국수']"
      ]
     },
     "execution_count": 2,
     "metadata": {},
     "output_type": "execute_result"
    }
   ],
   "source": [
    "foods = sc.parallelize([\n",
    "    \"짜장면\", \"짬뽕\", \"마라탕\",\n",
    "    \"떡볶이\", \"쌀국수\",\"짬뽕\",\n",
    "    \"짜장면\", \"짜장면\", \"짬뽕\",\n",
    "    \"마라탕\", \"라면\", \"라면\",\n",
    "    \"우동\", \"쌀국수\"\n",
    "])\n",
    "foods.collect()"
   ]
  },
  {
   "cell_type": "markdown",
   "id": "85200ef8",
   "metadata": {},
   "source": [
    "# Actions\n",
    "- 미뤄왔던 Transformations 작업을 모두 실행하고, 그 결과를 반환하는 작업\n",
    "- RDD 생성이 아닌, 실제 데이터를 출력하는 역할을 한다."
   ]
  },
  {
   "cell_type": "code",
   "execution_count": 3,
   "id": "9a930d29",
   "metadata": {},
   "outputs": [
    {
     "name": "stderr",
     "output_type": "stream",
     "text": [
      "                                                                                \r"
     ]
    },
    {
     "data": {
      "text/plain": [
       "defaultdict(int,\n",
       "            {'짜장면': 3,\n",
       "             '짬뽕': 3,\n",
       "             '마라탕': 2,\n",
       "             '떡볶이': 1,\n",
       "             '쌀국수': 2,\n",
       "             '라면': 2,\n",
       "             '우동': 1})"
      ]
     },
     "execution_count": 3,
     "metadata": {},
     "output_type": "execute_result"
    }
   ],
   "source": [
    "# 각 원소 별 개수 세기\n",
    "foods.countByValue()"
   ]
  },
  {
   "cell_type": "code",
   "execution_count": 4,
   "id": "9cea7e21",
   "metadata": {},
   "outputs": [
    {
     "data": {
      "text/plain": [
       "['짜장면', '짬뽕', '마라탕', '떡볶이', '쌀국수']"
      ]
     },
     "execution_count": 4,
     "metadata": {},
     "output_type": "execute_result"
    }
   ],
   "source": [
    "# 상위 n개 데이터 가져오기\n",
    "foods.take(5)"
   ]
  },
  {
   "cell_type": "code",
   "execution_count": 5,
   "id": "2e64d09f",
   "metadata": {},
   "outputs": [
    {
     "data": {
      "text/plain": [
       "['짜장면',\n",
       " '짬뽕',\n",
       " '마라탕',\n",
       " '떡볶이',\n",
       " '쌀국수',\n",
       " '짬뽕',\n",
       " '짜장면',\n",
       " '짜장면',\n",
       " '짬뽕',\n",
       " '마라탕',\n",
       " '라면',\n",
       " '라면',\n",
       " '우동',\n",
       " '쌀국수']"
      ]
     },
     "execution_count": 5,
     "metadata": {},
     "output_type": "execute_result"
    }
   ],
   "source": [
    "# 전체 데이터 가져오기\n",
    "foods.collect()"
   ]
  },
  {
   "cell_type": "code",
   "execution_count": 6,
   "id": "2587cd23",
   "metadata": {},
   "outputs": [
    {
     "data": {
      "text/plain": [
       "14"
      ]
     },
     "execution_count": 6,
     "metadata": {},
     "output_type": "execute_result"
    }
   ],
   "source": [
    "# RDD 내의 데이터 개수\n",
    "foods.count()"
   ]
  },
  {
   "cell_type": "markdown",
   "id": "4dc4f2a2",
   "metadata": {},
   "source": [
    "# Narrow Transformations\n",
    "- 1:1 변환을 의미한다.\n",
    "- 하나의 열을 조작하기 위해서 다른 열이나 파티션의 데이터를 사용하지 않는다."
   ]
  },
  {
   "cell_type": "code",
   "execution_count": 7,
   "id": "01054bc7",
   "metadata": {},
   "outputs": [
    {
     "data": {
      "text/plain": [
       "ParallelCollectionRDD[4] at readRDDFromFile at PythonRDD.scala:274"
      ]
     },
     "execution_count": 7,
     "metadata": {},
     "output_type": "execute_result"
    }
   ],
   "source": [
    "# map(<task>)\n",
    "#  RDD 내의 데이터를 하나씩 꺼내서 `<task>`가 적용된 새로운 RDD가 만들어진다.\n",
    "simple_rdd = sc.parallelize([1, 2, 3])\n",
    "simple_rdd"
   ]
  },
  {
   "cell_type": "code",
   "execution_count": 8,
   "id": "adfc2f39",
   "metadata": {},
   "outputs": [
    {
     "data": {
      "text/plain": [
       "PythonRDD[5] at RDD at PythonRDD.scala:53"
      ]
     },
     "execution_count": 8,
     "metadata": {},
     "output_type": "execute_result"
    }
   ],
   "source": [
    "# task 함수에는 반드시 \"return\" 이 있어야 한다!!!!\n",
    "simple_rdd2 = simple_rdd.map(lambda x : x * 2)\n",
    "simple_rdd2"
   ]
  },
  {
   "cell_type": "code",
   "execution_count": 9,
   "id": "593f8d8f",
   "metadata": {},
   "outputs": [
    {
     "data": {
      "text/plain": [
       "[2, 4, 6]"
      ]
     },
     "execution_count": 9,
     "metadata": {},
     "output_type": "execute_result"
    }
   ],
   "source": [
    "simple_rdd2.collect()"
   ]
  },
  {
   "cell_type": "code",
   "execution_count": 10,
   "id": "e9f5e650",
   "metadata": {},
   "outputs": [],
   "source": [
    "# flatMap(<task>)\n",
    "#  - map 함수와 매우 흡사하나, flatMap함수는 map의 모든 결과를 1차원 배열 형식으로 평평하게(flat) 나타낸다.\n",
    "movies = [\n",
    "    \"그린 북\",\n",
    "    \"매트릭스\",\n",
    "    \"토이 스토리\",\n",
    "    \"캐스트 어웨이\",\n",
    "    \"포드 V 페라리\",\n",
    "    \"보헤미안 랩소디\",\n",
    "    \"빽 투 더 퓨처\",\n",
    "    \"반지의 제왕\",\n",
    "    \"죽은 시인의 사회\"\n",
    "]"
   ]
  },
  {
   "cell_type": "code",
   "execution_count": 11,
   "id": "b1459295",
   "metadata": {},
   "outputs": [
    {
     "data": {
      "text/plain": [
       "['그린 북',\n",
       " '매트릭스',\n",
       " '토이 스토리',\n",
       " '캐스트 어웨이',\n",
       " '포드 V 페라리',\n",
       " '보헤미안 랩소디',\n",
       " '빽 투 더 퓨처',\n",
       " '반지의 제왕',\n",
       " '죽은 시인의 사회']"
      ]
     },
     "execution_count": 11,
     "metadata": {},
     "output_type": "execute_result"
    }
   ],
   "source": [
    "moviesRdd = sc.parallelize(movies)\n",
    "moviesRdd.collect()"
   ]
  },
  {
   "cell_type": "code",
   "execution_count": 12,
   "id": "9f19f809",
   "metadata": {},
   "outputs": [
    {
     "data": {
      "text/plain": [
       "[['그린', '북'],\n",
       " ['매트릭스'],\n",
       " ['토이', '스토리'],\n",
       " ['캐스트', '어웨이'],\n",
       " ['포드', 'V', '페라리'],\n",
       " ['보헤미안', '랩소디'],\n",
       " ['빽', '투', '더', '퓨처'],\n",
       " ['반지의', '제왕'],\n",
       " ['죽은', '시인의', '사회']]"
      ]
     },
     "execution_count": 12,
     "metadata": {},
     "output_type": "execute_result"
    }
   ],
   "source": [
    "# 공백문자 기준으로 split() task 적용\n",
    "mapMovies = moviesRdd.map(lambda x : x.split())\n",
    "mapMovies.collect()"
   ]
  },
  {
   "cell_type": "code",
   "execution_count": 13,
   "id": "6b6c1e67",
   "metadata": {},
   "outputs": [
    {
     "data": {
      "text/plain": [
       "['그린',\n",
       " '북',\n",
       " '매트릭스',\n",
       " '토이',\n",
       " '스토리',\n",
       " '캐스트',\n",
       " '어웨이',\n",
       " '포드',\n",
       " 'V',\n",
       " '페라리',\n",
       " '보헤미안',\n",
       " '랩소디',\n",
       " '빽',\n",
       " '투',\n",
       " '더',\n",
       " '퓨처',\n",
       " '반지의',\n",
       " '제왕',\n",
       " '죽은',\n",
       " '시인의',\n",
       " '사회']"
      ]
     },
     "execution_count": 13,
     "metadata": {},
     "output_type": "execute_result"
    }
   ],
   "source": [
    "flatMapMovies = moviesRdd.flatMap(lambda x : x.split())\n",
    "flatMapMovies.collect()"
   ]
  },
  {
   "cell_type": "code",
   "execution_count": 14,
   "id": "13706fe2",
   "metadata": {},
   "outputs": [
    {
     "data": {
      "text/plain": [
       "['그린',\n",
       " '북',\n",
       " '토이',\n",
       " '스토리',\n",
       " '캐스트',\n",
       " '어웨이',\n",
       " '포드',\n",
       " 'V',\n",
       " '페라리',\n",
       " '보헤미안',\n",
       " '랩소디',\n",
       " '빽',\n",
       " '투',\n",
       " '더',\n",
       " '퓨처',\n",
       " '반지의',\n",
       " '제왕',\n",
       " '죽은',\n",
       " '시인의',\n",
       " '사회']"
      ]
     },
     "execution_count": 14,
     "metadata": {},
     "output_type": "execute_result"
    }
   ],
   "source": [
    "# filter(<task>)\n",
    "#  - `task`의 결과가 True인 데이터만 추출\n",
    "filtered_movies = flatMapMovies.filter(lambda x : x != '매트릭스')\n",
    "filtered_movies.collect()"
   ]
  },
  {
   "cell_type": "markdown",
   "id": "1f4dab15",
   "metadata": {},
   "source": [
    "# Wide Transformations\n",
    "\n",
    "- 데이터의 파티션 또는 노드가 바뀔 수 있는 변환\n",
    "- 셔플링이 일어날 수 있기 때문에 느리다."
   ]
  },
  {
   "cell_type": "code",
   "execution_count": 15,
   "id": "36e4c640",
   "metadata": {},
   "outputs": [
    {
     "data": {
      "text/plain": [
       "['짜장면',\n",
       " '짬뽕',\n",
       " '마라탕',\n",
       " '떡볶이',\n",
       " '쌀국수',\n",
       " '짬뽕',\n",
       " '짜장면',\n",
       " '짜장면',\n",
       " '짬뽕',\n",
       " '마라탕',\n",
       " '라면',\n",
       " '라면',\n",
       " '우동',\n",
       " '쌀국수',\n",
       " '짬뽕밥',\n",
       " '짬짜면',\n",
       " '볶음밥',\n",
       " '볶짬면']"
      ]
     },
     "execution_count": 15,
     "metadata": {},
     "output_type": "execute_result"
    }
   ],
   "source": [
    "foods = sc.parallelize([\n",
    "    \"짜장면\", \"짬뽕\", \"마라탕\",\n",
    "    \"떡볶이\", \"쌀국수\",\"짬뽕\",\n",
    "    \"짜장면\", \"짜장면\", \"짬뽕\",\n",
    "    \"마라탕\", \"라면\", \"라면\",\n",
    "    \"우동\", \"쌀국수\", \"짬뽕밥\", \"짬짜면\", \"볶음밥\", \"볶짬면\"\n",
    "])\n",
    "foods.collect()"
   ]
  },
  {
   "cell_type": "code",
   "execution_count": 16,
   "id": "efda89bc",
   "metadata": {},
   "outputs": [
    {
     "name": "stderr",
     "output_type": "stream",
     "text": [
      "                                                                                \r"
     ]
    },
    {
     "data": {
      "text/plain": [
       "[('짜', <pyspark.resultiterable.ResultIterable at 0x7f5288ebaf40>),\n",
       " ('짬', <pyspark.resultiterable.ResultIterable at 0x7f5288eaab50>),\n",
       " ('마', <pyspark.resultiterable.ResultIterable at 0x7f5288eaa730>),\n",
       " ('떡', <pyspark.resultiterable.ResultIterable at 0x7f5289745940>),\n",
       " ('쌀', <pyspark.resultiterable.ResultIterable at 0x7f5289745400>),\n",
       " ('라', <pyspark.resultiterable.ResultIterable at 0x7f5288f232e0>),\n",
       " ('우', <pyspark.resultiterable.ResultIterable at 0x7f5288f234c0>),\n",
       " ('볶', <pyspark.resultiterable.ResultIterable at 0x7f5288f238e0>)]"
      ]
     },
     "execution_count": 16,
     "metadata": {},
     "output_type": "execute_result"
    }
   ],
   "source": [
    "# groupBy(<task>)\n",
    "#  groupBy의 task는 데이터를 묶어줄 수 있는 기준을 설정\n",
    "\n",
    "# 그룹핑의 기준을 각 원소의 첫 글자로 설정\n",
    "foodsGroup = foods.groupBy(lambda x : x[0])\n",
    "foodsGroup.collect()\n",
    "# 액션을 취햇기 때문에 더 이상 RDD 가 아니다 파이썬으로 생각해야됨!"
   ]
  },
  {
   "cell_type": "code",
   "execution_count": 17,
   "id": "a77c86ff",
   "metadata": {},
   "outputs": [
    {
     "name": "stdout",
     "output_type": "stream",
     "text": [
      "짜 ['짜장면', '짜장면', '짜장면']\n",
      "짬 ['짬뽕', '짬뽕', '짬뽕', '짬뽕밥', '짬짜면']\n",
      "마 ['마라탕', '마라탕']\n",
      "떡 ['떡볶이']\n",
      "쌀 ['쌀국수', '쌀국수']\n",
      "라 ['라면', '라면']\n",
      "우 ['우동']\n",
      "볶 ['볶음밥', '볶짬면']\n"
     ]
    }
   ],
   "source": [
    "for k , v in foodsGroup.collect():\n",
    "    print(k, list(v))"
   ]
  },
  {
   "cell_type": "code",
   "execution_count": 18,
   "id": "5ea2c86e",
   "metadata": {},
   "outputs": [],
   "source": [
    "sc. stop()"
   ]
  },
  {
   "cell_type": "code",
   "execution_count": null,
   "id": "13e45d2c",
   "metadata": {},
   "outputs": [],
   "source": []
  },
  {
   "cell_type": "code",
   "execution_count": null,
   "id": "05a28a9a",
   "metadata": {},
   "outputs": [],
   "source": []
  },
  {
   "cell_type": "code",
   "execution_count": null,
   "id": "3c917d72",
   "metadata": {},
   "outputs": [],
   "source": []
  }
 ],
 "metadata": {
  "kernelspec": {
   "display_name": "Python 3 (ipykernel)",
   "language": "python",
   "name": "python3"
  },
  "language_info": {
   "codemirror_mode": {
    "name": "ipython",
    "version": 3
   },
   "file_extension": ".py",
   "mimetype": "text/x-python",
   "name": "python",
   "nbconvert_exporter": "python",
   "pygments_lexer": "ipython3",
   "version": "3.8.18"
  }
 },
 "nbformat": 4,
 "nbformat_minor": 5
}
