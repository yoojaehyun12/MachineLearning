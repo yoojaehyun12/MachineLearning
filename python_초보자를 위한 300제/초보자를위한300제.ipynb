{
 "cells": [
  {
   "cell_type": "code",
   "execution_count": 1,
   "id": "6491a9d0-96ea-43d8-b0d8-061d3e695327",
   "metadata": {},
   "outputs": [
    {
     "name": "stdout",
     "output_type": "stream",
     "text": [
      "Hello world\n"
     ]
    }
   ],
   "source": [
    "# 001 print 기초\n",
    "\n",
    "print('Hello world')"
   ]
  },
  {
   "cell_type": "code",
   "execution_count": 2,
   "id": "5a0e29cd-aa22-4294-aee8-6e9d4aea8af4",
   "metadata": {},
   "outputs": [
    {
     "name": "stdout",
     "output_type": "stream",
     "text": [
      "Mary's cosmetics\n"
     ]
    }
   ],
   "source": [
    "# 002 \n",
    "\n",
    "print(\"Mary's cosmetics\")"
   ]
  },
  {
   "cell_type": "code",
   "execution_count": 7,
   "id": "2b27a941-aff7-4415-8702-5df6e40e46e7",
   "metadata": {},
   "outputs": [
    {
     "name": "stdout",
     "output_type": "stream",
     "text": [
      "신씨가 소리질렀다. \"도둑이야\"\n"
     ]
    }
   ],
   "source": [
    "# 003\n",
    "\n",
    "print('신씨가 소리질렀다. \"도둑이야\"')"
   ]
  },
  {
   "cell_type": "code",
   "execution_count": 9,
   "id": "6e68782e-e938-4d7a-a66a-ab90491ca47b",
   "metadata": {},
   "outputs": [
    {
     "name": "stdout",
     "output_type": "stream",
     "text": [
      "C:\\Windows\n"
     ]
    }
   ],
   "source": [
    "# 004\n",
    "\n",
    "print('C:\\Windows')"
   ]
  },
  {
   "cell_type": "code",
   "execution_count": 12,
   "id": "29131783-825b-4fd0-8eb6-7f27d8217520",
   "metadata": {},
   "outputs": [
    {
     "name": "stdout",
     "output_type": "stream",
     "text": [
      "안녕하세요.\n",
      "만나서\t\t반갑습니다.\n"
     ]
    }
   ],
   "source": [
    "# 005\n",
    "\n",
    "print(\"안녕하세요.\\n만나서\\t\\t반갑습니다.\")\n",
    "# \\n : 줄 바꿈\n",
    "# \\t : 탭"
   ]
  },
  {
   "cell_type": "code",
   "execution_count": 17,
   "id": "0aace498-88a8-41a7-bd3a-98672e3d0068",
   "metadata": {},
   "outputs": [
    {
     "name": "stdout",
     "output_type": "stream",
     "text": [
      "오늘은 일요일\n"
     ]
    }
   ],
   "source": [
    "# 006\n",
    "\n",
    "print(\"오늘은\", \"일요일\")\n",
    "# 오늘은 일요일"
   ]
  },
  {
   "cell_type": "code",
   "execution_count": 26,
   "id": "493a4e71-6d7c-45b8-bd72-c3f46997b864",
   "metadata": {},
   "outputs": [
    {
     "name": "stdout",
     "output_type": "stream",
     "text": [
      "naver;kakao;sk;samsung\n"
     ]
    }
   ],
   "source": [
    "# 007\n",
    "\n",
    "print(\"naver\", \"kakao\", \"sk\", \"samsung\", sep=\";\")"
   ]
  },
  {
   "cell_type": "code",
   "execution_count": 27,
   "id": "d2dfd64b-a8e4-4838-993b-8d8419585a57",
   "metadata": {},
   "outputs": [
    {
     "name": "stdout",
     "output_type": "stream",
     "text": [
      "naver/kakao/sk/samsung\n"
     ]
    }
   ],
   "source": [
    "# 008\n",
    "\n",
    "print(\"naver\", \"kakao\", \"sk\", \"samsung\", sep=\"/\")"
   ]
  },
  {
   "cell_type": "code",
   "execution_count": 41,
   "id": "81ab6d92-30c5-476c-b8b0-1a5edb6e3107",
   "metadata": {},
   "outputs": [
    {
     "name": "stdout",
     "output_type": "stream",
     "text": [
      "firstsecond\n"
     ]
    }
   ],
   "source": [
    "# 009\n",
    "\n",
    "print(\"first\", end=\"\"); print(\"second\")"
   ]
  },
  {
   "cell_type": "code",
   "execution_count": 43,
   "id": "1d8d0eb7-61d6-4003-9fb5-a820a01637c0",
   "metadata": {},
   "outputs": [
    {
     "name": "stdout",
     "output_type": "stream",
     "text": [
      "1.6666666666666667\n"
     ]
    }
   ],
   "source": [
    "# 010\n",
    "\n",
    "print(5/3)"
   ]
  },
  {
   "cell_type": "code",
   "execution_count": 50,
   "id": "a0823a1a-7493-4257-83e0-86d5f223e248",
   "metadata": {},
   "outputs": [
    {
     "name": "stdout",
     "output_type": "stream",
     "text": [
      "500000원\n"
     ]
    }
   ],
   "source": [
    "# 011\n",
    "\n",
    "samsung_elec = 50000\n",
    "total = 10 * samsung_elec\n",
    "print(total, end=\"\"); print('원')"
   ]
  },
  {
   "cell_type": "code",
   "execution_count": 56,
   "id": "d911ea7d-fd0a-4167-a16f-974fb1b8d5c7",
   "metadata": {},
   "outputs": [
    {
     "name": "stdout",
     "output_type": "stream",
     "text": [
      "2980000000000 <class 'int'>\n",
      "50000 <class 'int'>\n",
      "15.79 <class 'float'>\n"
     ]
    }
   ],
   "source": [
    "# 012\n",
    "\n",
    "total = 2980000000000\n",
    "current = 50000\n",
    "per = 15.79\n",
    "\n",
    "print(total, type(total))\n",
    "print(current, type(current))\n",
    "print(per, type(per))"
   ]
  },
  {
   "cell_type": "code",
   "execution_count": 66,
   "id": "aa289015-5bfa-4e42-975b-52e7388e4dd9",
   "metadata": {},
   "outputs": [
    {
     "name": "stdout",
     "output_type": "stream",
     "text": [
      "hello! python\n"
     ]
    }
   ],
   "source": [
    "# 013\n",
    "\n",
    "s = \"hello\"\n",
    "t = \"python\"\n",
    "\n",
    "print(s+\"!\", t)"
   ]
  },
  {
   "cell_type": "code",
   "execution_count": 67,
   "id": "d4832dda-7c43-4d3d-83f3-374c4721510f",
   "metadata": {},
   "outputs": [
    {
     "data": {
      "text/plain": [
       "8"
      ]
     },
     "execution_count": 67,
     "metadata": {},
     "output_type": "execute_result"
    }
   ],
   "source": [
    "# 014\n",
    "\n",
    "2 + 2 * 3 \n",
    "\n",
    "# 8"
   ]
  },
  {
   "cell_type": "code",
   "execution_count": 68,
   "id": "5dc6a88d-54a4-4aa0-a044-6ade2a0de337",
   "metadata": {},
   "outputs": [
    {
     "name": "stdout",
     "output_type": "stream",
     "text": [
      "<class 'str'>\n"
     ]
    }
   ],
   "source": [
    "# 015\n",
    "\n",
    "a = \"132\"\n",
    "print(type(a))"
   ]
  },
  {
   "cell_type": "code",
   "execution_count": 72,
   "id": "e7bd4ba5-daa3-456b-9623-cdc378c7d0fe",
   "metadata": {},
   "outputs": [
    {
     "name": "stdout",
     "output_type": "stream",
     "text": [
      "720\n"
     ]
    }
   ],
   "source": [
    "# 016\n",
    "\n",
    "num_str = \"720\"\n",
    "\n",
    "print(int(num_str))"
   ]
  },
  {
   "cell_type": "code",
   "execution_count": 78,
   "id": "ebb7df96-13a1-496f-87be-270aeec7ec7d",
   "metadata": {},
   "outputs": [
    {
     "name": "stdout",
     "output_type": "stream",
     "text": [
      "100 <class 'str'>\n"
     ]
    }
   ],
   "source": [
    "# 017\n",
    "\n",
    "num = 100\n",
    "result = str(num)\n",
    "print(result, type(result))"
   ]
  },
  {
   "cell_type": "code",
   "execution_count": 6,
   "id": "94c1f248-f6da-4823-9929-0d3eee2a68a0",
   "metadata": {},
   "outputs": [
    {
     "name": "stdout",
     "output_type": "stream",
     "text": [
      "15.79 <class 'float'>\n"
     ]
    }
   ],
   "source": [
    "# 018\n",
    "\n",
    "old_str = \"15.79\"\n",
    "new_str = float(old_str)\n",
    "\n",
    "print(new_str, type(new_str))"
   ]
  },
  {
   "cell_type": "code",
   "execution_count": null,
   "id": "a4f71980-983a-4db1-99e0-6019d955cf21",
   "metadata": {},
   "outputs": [],
   "source": [
    "# 019\n",
    "\n",
    "year = \"2020\"\n",
    "print(int(year)-3)\n",
    "print(int(year)-2)\n",
    "print(int(year)-1)"
   ]
  },
  {
   "cell_type": "code",
   "execution_count": 16,
   "id": "dc4a74b5-3907-4f63-8576-b2f256351215",
   "metadata": {},
   "outputs": [
    {
     "name": "stdout",
     "output_type": "stream",
     "text": [
      "1749024\n"
     ]
    }
   ],
   "source": [
    "# 020\n",
    "\n",
    "total = 48584 * 36\n",
    "\n",
    "print(total)"
   ]
  },
  {
   "cell_type": "code",
   "execution_count": 19,
   "id": "44e8e5f9-dacc-4dfb-88e6-8190c510f74a",
   "metadata": {},
   "outputs": [
    {
     "name": "stdout",
     "output_type": "stream",
     "text": [
      "p t\n"
     ]
    }
   ],
   "source": [
    "# 021\n",
    "\n",
    "letters = 'python'\n",
    "\n",
    "print(letters[0], letters[2])"
   ]
  },
  {
   "cell_type": "code",
   "execution_count": 24,
   "id": "f38b8da1-61c4-4cfb-b542-559bf20f2626",
   "metadata": {},
   "outputs": [
    {
     "data": {
      "text/plain": [
       "'2210'"
      ]
     },
     "execution_count": 24,
     "metadata": {},
     "output_type": "execute_result"
    }
   ],
   "source": [
    "# 022\n",
    "\n",
    "license_plate = \"24가 2210\"\n",
    "\n",
    "license_plate[-4:]"
   ]
  },
  {
   "cell_type": "code",
   "execution_count": 30,
   "id": "13cc95f3-530c-4dac-887f-b95bb2177d16",
   "metadata": {},
   "outputs": [
    {
     "name": "stdout",
     "output_type": "stream",
     "text": [
      "홀홀홀\n"
     ]
    }
   ],
   "source": [
    "# 023\n",
    "\n",
    "string = \"홀짝홀짝홀짝\"\n",
    "\n",
    "print(string[::2])"
   ]
  },
  {
   "cell_type": "code",
   "execution_count": 34,
   "id": "096e5f49-b1b6-438e-aa9e-9cb4e13743bc",
   "metadata": {},
   "outputs": [
    {
     "name": "stdout",
     "output_type": "stream",
     "text": [
      "NOHTYP\n"
     ]
    }
   ],
   "source": [
    "# 024\n",
    "string = \"PYTHON\"\n",
    "\n",
    "print(string[::-1])"
   ]
  },
  {
   "cell_type": "code",
   "execution_count": 46,
   "id": "41beba26-d0aa-4b95-94c4-0a30ff041714",
   "metadata": {},
   "outputs": [
    {
     "name": "stdout",
     "output_type": "stream",
     "text": [
      "01011112222\n"
     ]
    }
   ],
   "source": [
    "# 025\n",
    "\n",
    "phone_number = \"010-1111-2222\"\n",
    "phone_number1 = phone_number.replace('-', '')\n",
    "print(phone_number1)"
   ]
  },
  {
   "cell_type": "code",
   "execution_count": 49,
   "id": "5cf62639-8e4c-4183-98e1-fe419d655147",
   "metadata": {},
   "outputs": [
    {
     "name": "stdout",
     "output_type": "stream",
     "text": [
      "01011112222\n"
     ]
    }
   ],
   "source": [
    "# 026\n",
    "\n",
    "phone_number = \"010-1111-2222\"\n",
    "ph_num = phone_number.replace('-', '')\n",
    "print(ph_num)"
   ]
  },
  {
   "cell_type": "code",
   "execution_count": 63,
   "id": "58a4b568-4b3f-43ef-9ef1-6e9bc36a7b71",
   "metadata": {},
   "outputs": [
    {
     "name": "stdout",
     "output_type": "stream",
     "text": [
      "kr\n"
     ]
    }
   ],
   "source": [
    "# 027\n",
    "\n",
    "# url = \"http://sharebook.kr\"\n",
    "# print(url[-2:])\n",
    "\n",
    "url = \"http://sharebook.kr\"\n",
    "url_split = url.split('.')\n",
    "print(url_split[-1])\n"
   ]
  },
  {
   "cell_type": "code",
   "execution_count": 65,
   "id": "92319098-8647-49c9-a525-adc1c460f1f6",
   "metadata": {},
   "outputs": [
    {
     "ename": "TypeError",
     "evalue": "'str' object does not support item assignment",
     "output_type": "error",
     "traceback": [
      "\u001b[1;31m---------------------------------------------------------------------------\u001b[0m",
      "\u001b[1;31mTypeError\u001b[0m                                 Traceback (most recent call last)",
      "Cell \u001b[1;32mIn[65], line 4\u001b[0m\n\u001b[0;32m      1\u001b[0m \u001b[38;5;66;03m# 028\u001b[39;00m\n\u001b[0;32m      3\u001b[0m lang \u001b[38;5;241m=\u001b[39m \u001b[38;5;124m'\u001b[39m\u001b[38;5;124mpython\u001b[39m\u001b[38;5;124m'\u001b[39m\n\u001b[1;32m----> 4\u001b[0m \u001b[43mlang\u001b[49m\u001b[43m[\u001b[49m\u001b[38;5;241;43m0\u001b[39;49m\u001b[43m]\u001b[49m \u001b[38;5;241m=\u001b[39m \u001b[38;5;124m'\u001b[39m\u001b[38;5;124mP\u001b[39m\u001b[38;5;124m'\u001b[39m\n\u001b[0;32m      5\u001b[0m \u001b[38;5;28mprint\u001b[39m(lang)\n\u001b[0;32m      6\u001b[0m \u001b[38;5;66;03m# 문자열은 immutable, 할당메서드(=) 지원하지않음!!\u001b[39;00m\n",
      "\u001b[1;31mTypeError\u001b[0m: 'str' object does not support item assignment"
     ]
    }
   ],
   "source": [
    "# 028\n",
    "\n",
    "lang = 'python'\n",
    "lang[0] = 'P'\n",
    "print(lang)\n",
    "# 문자열은 immutable, 할당메서드(=) 지원하지않음!!"
   ]
  },
  {
   "cell_type": "code",
   "execution_count": 76,
   "id": "2d7f2f2f-bf21-4715-9b7b-34c804eaf61b",
   "metadata": {},
   "outputs": [
    {
     "name": "stdout",
     "output_type": "stream",
     "text": [
      "Abcdfe2A354A32A\n"
     ]
    }
   ],
   "source": [
    "# 029\n",
    "\n",
    "string = 'abcdfe2a354a32a'\n",
    "string = string.replace('a', 'A')\n",
    "print(string)"
   ]
  },
  {
   "cell_type": "code",
   "execution_count": 83,
   "id": "0508b70c-6fe8-4383-a697-89be7516adbc",
   "metadata": {},
   "outputs": [
    {
     "name": "stdout",
     "output_type": "stream",
     "text": [
      "abcd\n"
     ]
    }
   ],
   "source": [
    "# 030\n",
    "string = 'abcd'\n",
    "string.replace('b', 'B')\n",
    "print(string)"
   ]
  },
  {
   "cell_type": "code",
   "execution_count": 89,
   "id": "9f928021-8a92-4cf2-8c76-802f2a66360c",
   "metadata": {},
   "outputs": [
    {
     "name": "stdout",
     "output_type": "stream",
     "text": [
      "34\n"
     ]
    }
   ],
   "source": [
    "# 031\n",
    "\n",
    "a = \"3\"\n",
    "b = \"4\"\n",
    "print(a + b)\n",
    "\n",
    "# 34"
   ]
  },
  {
   "cell_type": "code",
   "execution_count": 91,
   "id": "d70e6fe3-e35f-497a-911e-fb497098f34b",
   "metadata": {},
   "outputs": [
    {
     "name": "stdout",
     "output_type": "stream",
     "text": [
      "HiHiHi\n"
     ]
    }
   ],
   "source": [
    "# 032\n",
    "\n",
    "print(\"Hi\" * 3)\n",
    "# HiHiHI"
   ]
  },
  {
   "cell_type": "code",
   "execution_count": 92,
   "id": "0237ab83-3bb0-44b1-99a7-b55f9d775667",
   "metadata": {},
   "outputs": [
    {
     "name": "stdout",
     "output_type": "stream",
     "text": [
      "--------------------------------------------------------------------------------\n"
     ]
    }
   ],
   "source": [
    "# 033\n",
    "\n",
    "print('-'*80)"
   ]
  },
  {
   "cell_type": "code",
   "execution_count": 102,
   "id": "f310466e-6d03-48cc-93ba-c4b4f9dcdcb4",
   "metadata": {},
   "outputs": [
    {
     "name": "stdout",
     "output_type": "stream",
     "text": [
      "python java python java python java python java \n"
     ]
    }
   ],
   "source": [
    "# 034\n",
    "\n",
    "t1 = 'python'\n",
    "t2 = 'java'\n",
    "t3 = t1 + ' ' + t2 + ' '\n",
    "\n",
    "print(t3*4)"
   ]
  },
  {
   "cell_type": "code",
   "execution_count": 114,
   "id": "198b7bcc-4787-4a93-8e02-b452889dff7b",
   "metadata": {},
   "outputs": [
    {
     "name": "stdout",
     "output_type": "stream",
     "text": [
      "이름: 김민수 나이: 10\n",
      "이름: 이철희 나이: 13\n"
     ]
    }
   ],
   "source": [
    "# 035 % formatting 사용\n",
    "\n",
    "name1 = \"김민수\" \n",
    "age1 = 10\n",
    "name2 = \"이철희\"\n",
    "age2 = 13\n",
    "print(\"이름: %s 나이: %d\" % (name1, age1))\n",
    "print(\"이름: %s 나이: %d\" % (name2, age2))"
   ]
  },
  {
   "cell_type": "code",
   "execution_count": 124,
   "id": "3087a45d-5ff4-43b9-a766-f526347f0adb",
   "metadata": {},
   "outputs": [
    {
     "name": "stdout",
     "output_type": "stream",
     "text": [
      "이름:김민수 나이:10\n",
      "이름:이철희 나이:13\n"
     ]
    }
   ],
   "source": [
    "# 036 format( ) 메서드를 사용\n",
    "\n",
    "name1 = \"김민수\" \n",
    "age1 = 10\n",
    "name2 = \"이철희\"\n",
    "age2 = 13\n",
    "print(\"이름:{} 나이:{}\".format(name1, age1))\n",
    "print(\"이름:{} 나이:{}\".format(name2, age2))"
   ]
  },
  {
   "cell_type": "code",
   "execution_count": 128,
   "id": "4b8d671e-6325-4634-82eb-8da46f3d08cc",
   "metadata": {},
   "outputs": [
    {
     "name": "stdout",
     "output_type": "stream",
     "text": [
      "이름:김민수 나이:10\n",
      "이름:이철희 나이:13\n"
     ]
    }
   ],
   "source": [
    "# 037 f-string을 사용\n",
    "\n",
    "name1 = \"김민수\" \n",
    "age1 = 10\n",
    "name2 = \"이철희\"\n",
    "age2 = 13\n",
    "print(f'이름:{name1} 나이:{age1}')\n",
    "print(f'이름:{name2} 나이:{age2}')"
   ]
  },
  {
   "cell_type": "code",
   "execution_count": 137,
   "id": "5f50d858-71e5-47ee-a487-6187f03fd422",
   "metadata": {},
   "outputs": [
    {
     "name": "stdout",
     "output_type": "stream",
     "text": [
      "5969782550 <class 'int'>\n"
     ]
    }
   ],
   "source": [
    "# 038 컴마 제거하기\n",
    "\n",
    "zoosic = \"5,969,782,550\"\n",
    "zoosic = zoosic.replace(',', '')\n",
    "int_zoosic = int(zoosic)\n",
    "print(int_zoosic, type(int_zoosic))"
   ]
  },
  {
   "cell_type": "code",
   "execution_count": 139,
   "id": "6192a52e-aabb-449b-93c8-6921c19c9859",
   "metadata": {},
   "outputs": [
    {
     "name": "stdout",
     "output_type": "stream",
     "text": [
      "2020/03\n"
     ]
    }
   ],
   "source": [
    "# 039 문자열 슬라이싱\n",
    "\n",
    "분기 = \"2020/03(E) (IFRS연결)\"\n",
    "print(분기[:7])"
   ]
  },
  {
   "cell_type": "code",
   "execution_count": 144,
   "id": "35ebb2f5-dac6-4972-9b5d-6741bb8d7be3",
   "metadata": {},
   "outputs": [
    {
     "name": "stdout",
     "output_type": "stream",
     "text": [
      "삼성전자\n"
     ]
    }
   ],
   "source": [
    "# 040 strip 메서드\n",
    "\n",
    "data = \"   삼성전자    \"\n",
    "data1 = data.strip()\n",
    "print(data1)"
   ]
  },
  {
   "cell_type": "code",
   "execution_count": 145,
   "id": "b363577a-e5f0-4800-a5f2-b329a29da55e",
   "metadata": {},
   "outputs": [
    {
     "data": {
      "text/plain": [
       "'BTC_KRW'"
      ]
     },
     "execution_count": 145,
     "metadata": {},
     "output_type": "execute_result"
    }
   ],
   "source": [
    "# 041 upper 메서드\n",
    "\n",
    "ticker = \"btc_krw\"\n",
    "ticker.upper()"
   ]
  },
  {
   "cell_type": "code",
   "execution_count": 146,
   "id": "8d8df6a9-ef20-4590-a1f7-5c5ad51c2774",
   "metadata": {},
   "outputs": [
    {
     "name": "stdout",
     "output_type": "stream",
     "text": [
      "btc_krw\n"
     ]
    }
   ],
   "source": [
    "# 042 lower 메서드\n",
    "\n",
    "ticker = \"BTC_KRW\"\n",
    "ticker1 = ticker.lower()\n",
    "print(ticker1)"
   ]
  },
  {
   "cell_type": "code",
   "execution_count": 148,
   "id": "30119e07-c59d-4b03-ad0f-9055bf2da02c",
   "metadata": {},
   "outputs": [
    {
     "name": "stdout",
     "output_type": "stream",
     "text": [
      "Hello\n"
     ]
    }
   ],
   "source": [
    "# 043 capitalize 메서드\n",
    "\n",
    "word = 'hello'\n",
    "word1 = word.capitalize()\n",
    "print(word1)"
   ]
  },
  {
   "cell_type": "code",
   "execution_count": 152,
   "id": "1c245aac-881e-4382-9429-e9087001cf0d",
   "metadata": {},
   "outputs": [
    {
     "data": {
      "text/plain": [
       "True"
      ]
     },
     "execution_count": 152,
     "metadata": {},
     "output_type": "execute_result"
    }
   ],
   "source": [
    "# 044 endswith 메서드\n",
    "\n",
    "file_name = \"보고서.xlsx\"\n",
    "file_name.endswith(\"xlsx\")"
   ]
  },
  {
   "cell_type": "code",
   "execution_count": 155,
   "id": "ecb5a169-465b-4751-93da-a10c515441df",
   "metadata": {},
   "outputs": [
    {
     "data": {
      "text/plain": [
       "False"
      ]
     },
     "execution_count": 155,
     "metadata": {},
     "output_type": "execute_result"
    }
   ],
   "source": [
    "# 045 endswith 메서드\n",
    "\n",
    "file_name = \"보고서.xlsx\"\n",
    "file_name.endswith(\"xls\")"
   ]
  },
  {
   "cell_type": "code",
   "execution_count": 156,
   "id": "6cf78327-afd9-498a-8028-711e404f2b9e",
   "metadata": {},
   "outputs": [
    {
     "data": {
      "text/plain": [
       "True"
      ]
     },
     "execution_count": 156,
     "metadata": {},
     "output_type": "execute_result"
    }
   ],
   "source": [
    "# 046 startswith 메서드\n",
    "file_name = \"2020_보고서.xlsx\"\n",
    "file_name.startswith(\"2020_보고서\")\n"
   ]
  },
  {
   "cell_type": "code",
   "execution_count": 159,
   "id": "b62a7e4b-6ab6-4162-9e63-65fefd18c3de",
   "metadata": {},
   "outputs": [
    {
     "data": {
      "text/plain": [
       "['hello', 'world']"
      ]
     },
     "execution_count": 159,
     "metadata": {},
     "output_type": "execute_result"
    }
   ],
   "source": [
    "# 047 split 메서드\n",
    "\n",
    "# a = \"hello world\"\n",
    "# a1 = a.split()\n",
    "# print(a1)\n",
    "\n",
    "a = \"hello world\"\n",
    "a.split()"
   ]
  },
  {
   "cell_type": "code",
   "execution_count": 160,
   "id": "cee6e852-493e-408d-8ef3-86ddafe7dbd9",
   "metadata": {},
   "outputs": [
    {
     "data": {
      "text/plain": [
       "['btc', 'krw']"
      ]
     },
     "execution_count": 160,
     "metadata": {},
     "output_type": "execute_result"
    }
   ],
   "source": [
    "# 048 split 메서드\n",
    "\n",
    "ticker = \"btc_krw\"\n",
    "ticker.split('_')"
   ]
  },
  {
   "cell_type": "code",
   "execution_count": 167,
   "id": "0cf84ab2-1b77-490d-bb28-1cc9d08ade85",
   "metadata": {},
   "outputs": [
    {
     "name": "stdout",
     "output_type": "stream",
     "text": [
      "['2020', '05', '01']\n"
     ]
    }
   ],
   "source": [
    "# 049 split 메서드\n",
    "\n",
    "date = \"2020-05-01\"\n",
    "\n",
    "month = date.split('-')\n",
    "print(month)"
   ]
  },
  {
   "cell_type": "code",
   "execution_count": 175,
   "id": "c36c8412-f241-4565-87e3-3b4de25a97b2",
   "metadata": {},
   "outputs": [
    {
     "name": "stdout",
     "output_type": "stream",
     "text": [
      "039490\n"
     ]
    }
   ],
   "source": [
    "# 050 rstrip 메서드\n",
    "\n",
    "data = \"039490     \"\n",
    "\n",
    "data = data.rstrip()\n",
    "print(data)"
   ]
  },
  {
   "cell_type": "code",
   "execution_count": 181,
   "id": "276d83fc-51aa-4f24-8e10-c5f04c7265fd",
   "metadata": {},
   "outputs": [],
   "source": [
    "# 051 리스트 생성\n",
    "\n",
    "movie_rank = ['닥터 스트레인지', '스플릿', '럭키']"
   ]
  },
  {
   "cell_type": "code",
   "execution_count": 183,
   "id": "46a98dee-7ce9-4de1-a3b8-68b7aa39a08d",
   "metadata": {},
   "outputs": [
    {
     "name": "stdout",
     "output_type": "stream",
     "text": [
      "['닥터 스트레인지', '스플릿', '럭키', '배트맨']\n"
     ]
    }
   ],
   "source": [
    "# 052 리스트에 원소 추가\n",
    "\n",
    "movie_rank = ['닥터 스트레인지', '스플릿', '럭키']\n",
    "movie_rank.append('배트맨')\n",
    "print(movie_rank)"
   ]
  },
  {
   "cell_type": "code",
   "execution_count": 189,
   "id": "fb0270fe-1a2d-49bf-9d68-b2160d1407b1",
   "metadata": {},
   "outputs": [
    {
     "name": "stdout",
     "output_type": "stream",
     "text": [
      "['닥터 스트레인지', '슈퍼맨', '스플릿', '럭키', '배트맨']\n"
     ]
    }
   ],
   "source": [
    "# 053\n",
    "\n",
    "movie_rank = ['닥터 스트레인지', '스플릿', '럭키', '배트맨']\n",
    "movie_rank.insert(1, '슈퍼맨')\n",
    "print(movie_rank)\n"
   ]
  },
  {
   "cell_type": "code",
   "execution_count": 198,
   "id": "295c4f25-d527-4604-91ca-47409b6162d1",
   "metadata": {},
   "outputs": [
    {
     "name": "stdout",
     "output_type": "stream",
     "text": [
      "['닥터 스트레인지', '슈퍼맨', '스플릿', '배트맨']\n"
     ]
    }
   ],
   "source": [
    "# 054\n",
    "\n",
    "movie_rank = ['닥터 스트레인지', '슈퍼맨', '스플릿', '럭키', '배트맨']\n",
    "movie_rank.remove('럭키')\n",
    "print(movie_rank)\n",
    "\n",
    "# del movie_rank[3]\n",
    "# print(movie_rank)"
   ]
  },
  {
   "cell_type": "code",
   "execution_count": 201,
   "id": "8a0d9227-76a5-4fb6-b6e7-71d1d1a5d956",
   "metadata": {},
   "outputs": [
    {
     "name": "stdout",
     "output_type": "stream",
     "text": [
      "['닥터 스트레인지', '슈퍼맨']\n"
     ]
    }
   ],
   "source": [
    "# 055\n",
    "movie_rank = ['닥터 스트레인지', '슈퍼맨', '스플릿', '배트맨']\n",
    "del movie_rank[-2:]\n",
    "print(movie_rank)"
   ]
  },
  {
   "cell_type": "code",
   "execution_count": 204,
   "id": "b6767757-e160-489e-abd6-9c57b2cf1c49",
   "metadata": {},
   "outputs": [
    {
     "name": "stdout",
     "output_type": "stream",
     "text": [
      "['C', 'C++', 'JAVA', 'Python', 'Go', 'C#']\n"
     ]
    }
   ],
   "source": [
    "# 056\n",
    "lang1 = [\"C\", \"C++\", \"JAVA\"]\n",
    "lang2 = [\"Python\", \"Go\", \"C#\"]\n",
    "langs = lang1 + lang2\n",
    "print(langs)"
   ]
  },
  {
   "cell_type": "code",
   "execution_count": 207,
   "id": "45a35199-3d31-4940-9202-50811c1c41aa",
   "metadata": {},
   "outputs": [
    {
     "name": "stdout",
     "output_type": "stream",
     "text": [
      "max:  7\n",
      "min:  1\n"
     ]
    }
   ],
   "source": [
    "# 057\n",
    "nums = [1, 2, 3, 4, 5, 6, 7]\n",
    "print('max: ', max(nums))\n",
    "print('min: ', min(nums))"
   ]
  },
  {
   "cell_type": "code",
   "execution_count": 208,
   "id": "7fc69be3-f50f-434a-9da3-4a327b84b942",
   "metadata": {},
   "outputs": [
    {
     "name": "stdout",
     "output_type": "stream",
     "text": [
      "15\n"
     ]
    }
   ],
   "source": [
    "# 058\n",
    "\n",
    "nums = [1, 2, 3, 4, 5]\n",
    "print(sum(nums))"
   ]
  },
  {
   "cell_type": "code",
   "execution_count": 216,
   "id": "481665fd-d6c4-4078-bc60-a4641ec6f56c",
   "metadata": {},
   "outputs": [
    {
     "name": "stdout",
     "output_type": "stream",
     "text": [
      "12\n"
     ]
    }
   ],
   "source": [
    "# 059\n",
    "\n",
    "cook = [\"피자\", \"김밥\", \"만두\", \"양념치킨\", \"족발\", \"피자\", \"김치만두\", \"쫄면\", \"소시지\", \"라면\", \"팥빙수\", \"김치전\"]\n",
    "\n",
    "print(len(cook))"
   ]
  },
  {
   "cell_type": "code",
   "execution_count": 218,
   "id": "3b591dff-9c00-4523-9565-8aeb00ff1956",
   "metadata": {},
   "outputs": [
    {
     "name": "stdout",
     "output_type": "stream",
     "text": [
      "3.0\n"
     ]
    }
   ],
   "source": [
    "# 060\n",
    "\n",
    "nums = [1, 2, 3, 4, 5]\n",
    "\n",
    "average = sum(nums) / len(nums)\n",
    "print(average)\n"
   ]
  },
  {
   "cell_type": "code",
   "execution_count": 222,
   "id": "85257e6e-4e9e-4ecd-aa4b-a984dad7dce9",
   "metadata": {},
   "outputs": [
    {
     "data": {
      "text/plain": [
       "[100, 130, 140, 150, 160, 170]"
      ]
     },
     "execution_count": 222,
     "metadata": {},
     "output_type": "execute_result"
    }
   ],
   "source": [
    "# 061\n",
    "\n",
    "price = ['20180728', 100, 130, 140, 150, 160, 170]\n",
    "price[1:]"
   ]
  },
  {
   "cell_type": "code",
   "execution_count": 223,
   "id": "46d575a1-863c-4b82-8cf8-3a065953d628",
   "metadata": {},
   "outputs": [
    {
     "name": "stdout",
     "output_type": "stream",
     "text": [
      "[1, 3, 5, 7, 9]\n"
     ]
    }
   ],
   "source": [
    "# 062\n",
    "\n",
    "nums = [1, 2, 3, 4, 5, 6, 7, 8, 9, 10]\n",
    "print(nums[::2])"
   ]
  },
  {
   "cell_type": "code",
   "execution_count": 225,
   "id": "eaa270c7-9b98-406f-aa92-32844af294c9",
   "metadata": {},
   "outputs": [
    {
     "name": "stdout",
     "output_type": "stream",
     "text": [
      "[2, 4, 6, 8, 10]\n"
     ]
    }
   ],
   "source": [
    "# 063\n",
    "\n",
    "nums = [1, 2, 3, 4, 5, 6, 7, 8, 9, 10]\n",
    "print(nums[1::2])"
   ]
  },
  {
   "cell_type": "code",
   "execution_count": 226,
   "id": "8ddf6941-36c0-403f-a94b-2771a1939dbd",
   "metadata": {},
   "outputs": [
    {
     "name": "stdout",
     "output_type": "stream",
     "text": [
      "[5, 4, 3, 2, 1]\n"
     ]
    }
   ],
   "source": [
    "# 064\n",
    "\n",
    "nums = [1, 2, 3, 4, 5]\n",
    "print(nums[::-1])"
   ]
  },
  {
   "cell_type": "code",
   "execution_count": 228,
   "id": "5cdfef41-1848-4449-a108-fb6f8cdac2aa",
   "metadata": {},
   "outputs": [
    {
     "name": "stdout",
     "output_type": "stream",
     "text": [
      "삼성전자 Naver\n"
     ]
    }
   ],
   "source": [
    "# 065\n",
    "\n",
    "interest = ['삼성전자', 'LG전자', 'Naver']\n",
    "print(interest[0], interest[2])"
   ]
  },
  {
   "cell_type": "code",
   "execution_count": 233,
   "id": "5a48362c-f8d3-48a6-9145-8da547b88bcb",
   "metadata": {},
   "outputs": [
    {
     "name": "stdout",
     "output_type": "stream",
     "text": [
      "삼성전자 LG전자 Naver SK하이닉스 미래에셋대우\n"
     ]
    }
   ],
   "source": [
    "# 066 join 메서드\n",
    "\n",
    "interest = ['삼성전자', 'LG전자', 'Naver', 'SK하이닉스', '미래에셋대우']\n",
    "print(' '.join(interest))"
   ]
  },
  {
   "cell_type": "code",
   "execution_count": 234,
   "id": "08f7ca20-f830-421e-b3bb-5b939fc0e388",
   "metadata": {},
   "outputs": [
    {
     "name": "stdout",
     "output_type": "stream",
     "text": [
      "삼성전자/LG전자/Naver/SK하이닉스/미래에셋대우\n"
     ]
    }
   ],
   "source": [
    "# 067\n",
    "\n",
    "interest = ['삼성전자', 'LG전자', 'Naver', 'SK하이닉스', '미래에셋대우']\n",
    "print('/'.join(interest))"
   ]
  },
  {
   "cell_type": "code",
   "execution_count": 235,
   "id": "252135c6-1964-4be1-b717-493d41b52968",
   "metadata": {},
   "outputs": [
    {
     "name": "stdout",
     "output_type": "stream",
     "text": [
      "삼성전자\n",
      "LG전자\n",
      "Naver\n",
      "SK하이닉스\n",
      "미래에셋대우\n"
     ]
    }
   ],
   "source": [
    "# 068\n",
    "\n",
    "interest = ['삼성전자', 'LG전자', 'Naver', 'SK하이닉스', '미래에셋대우']\n",
    "print('\\n'.join(interest))"
   ]
  },
  {
   "cell_type": "code",
   "execution_count": 237,
   "id": "13adbbeb-16df-4dbc-9f4b-fecc118a278d",
   "metadata": {},
   "outputs": [
    {
     "name": "stdout",
     "output_type": "stream",
     "text": [
      "['삼성전자', 'LG전자', 'Naver']\n"
     ]
    }
   ],
   "source": [
    "# 069\n",
    "\n",
    "string = \"삼성전자/LG전자/Naver\"\n",
    "result = string.split('/')\n",
    "print(result)"
   ]
  },
  {
   "cell_type": "code",
   "execution_count": 249,
   "id": "dd967d2b-78dd-4ce9-a213-5722246d0603",
   "metadata": {},
   "outputs": [
    {
     "name": "stdout",
     "output_type": "stream",
     "text": [
      "[1, 2, 3, 4, 5, 9, 10]\n"
     ]
    }
   ],
   "source": [
    "# 070\n",
    "\n",
    "data = [2, 4, 3, 1, 5, 10, 9]\n",
    "data.sort()\n",
    "print(data)"
   ]
  },
  {
   "cell_type": "code",
   "execution_count": 254,
   "id": "50713642-9d30-4c8d-b599-ed0bbb46dfbe",
   "metadata": {},
   "outputs": [],
   "source": [
    "# 071\n",
    "\n",
    "my_variable = ()"
   ]
  },
  {
   "cell_type": "code",
   "execution_count": 257,
   "id": "e0962dbf-bdcc-4902-a6d0-de3d494d4c35",
   "metadata": {},
   "outputs": [
    {
     "name": "stdout",
     "output_type": "stream",
     "text": [
      "<class 'tuple'>\n"
     ]
    }
   ],
   "source": [
    "# 072\n",
    "\n",
    "movie_rank = ('닥터 스트레인지', '스플릿', '럭키')\n",
    "print(type(movie_rank))"
   ]
  },
  {
   "cell_type": "code",
   "execution_count": 267,
   "id": "dd51690d-cfc9-42e7-ba50-3acc4c36e06b",
   "metadata": {},
   "outputs": [
    {
     "name": "stdout",
     "output_type": "stream",
     "text": [
      "(1,) <class 'tuple'>\n"
     ]
    }
   ],
   "source": [
    "# 073\n",
    "\n",
    "my_tuple = (1, )\n",
    "print(my_tuple, type(my_tuple))"
   ]
  },
  {
   "cell_type": "code",
   "execution_count": 271,
   "id": "d4c56fe2-a4f5-4892-aa1d-8305ead2b083",
   "metadata": {},
   "outputs": [],
   "source": [
    "# 074\n",
    "\n",
    "# 왜냐하면 tuple은 immutable(변경불가능한숫자)기 때문이다"
   ]
  },
  {
   "cell_type": "code",
   "execution_count": 275,
   "id": "9ea01515-2f78-4dde-b5ff-b956784cd0f7",
   "metadata": {},
   "outputs": [
    {
     "data": {
      "text/plain": [
       "tuple"
      ]
     },
     "execution_count": 275,
     "metadata": {},
     "output_type": "execute_result"
    }
   ],
   "source": [
    "# 075\n",
    "\n",
    "t = 1, 2, 3, 4\n",
    "type(t)"
   ]
  },
  {
   "cell_type": "code",
   "execution_count": 277,
   "id": "54c7add0-9653-4681-b3ad-2720550bc2e2",
   "metadata": {},
   "outputs": [
    {
     "name": "stdout",
     "output_type": "stream",
     "text": [
      "('A', 'b', 'c') <class 'tuple'>\n"
     ]
    }
   ],
   "source": [
    "# 076\n",
    "\n",
    "t = ('a', 'b', 'c')\n",
    "t = ('A', 'b', 'c')\n",
    "print(t, type(t))"
   ]
  },
  {
   "cell_type": "code",
   "execution_count": 285,
   "id": "a6565e9e-78c7-4e14-a093-568e1465f932",
   "metadata": {},
   "outputs": [
    {
     "name": "stdout",
     "output_type": "stream",
     "text": [
      "[('삼성전자', 'LG전자', 'SK Hynix')] <class 'list'>\n",
      "['삼성전자', 'LG전자', 'SK Hynix'] <class 'list'>\n"
     ]
    }
   ],
   "source": [
    "# 077\n",
    "\n",
    "interest = ('삼성전자', 'LG전자', 'SK Hynix')\n",
    "\n",
    "new_list = [interest]\n",
    "print(new_list, type(new_list))\n",
    "\n",
    "data = list(interest)\n",
    "print(data, type(data))"
   ]
  },
  {
   "cell_type": "code",
   "execution_count": 293,
   "id": "6ba9bf1d-2233-4d6f-ac30-9d22b7ab8440",
   "metadata": {},
   "outputs": [
    {
     "name": "stdout",
     "output_type": "stream",
     "text": [
      "('삼성전자', 'LG전자', 'SK Hynix') <class 'tuple'>\n"
     ]
    }
   ],
   "source": [
    "# 078\n",
    "\n",
    "interest = ['삼성전자', 'LG전자', 'SK Hynix']\n",
    "\n",
    "my_tuple = tuple(interest)\n",
    "print(my_tuple, type(my_tuple))"
   ]
  },
  {
   "cell_type": "code",
   "execution_count": 295,
   "id": "eeac6510-8be7-4eb2-ad7d-d63ddb4d917f",
   "metadata": {},
   "outputs": [
    {
     "name": "stdout",
     "output_type": "stream",
     "text": [
      "apple banana cake\n"
     ]
    }
   ],
   "source": [
    "# 079\n",
    "\n",
    "temp = ('apple', 'banana', 'cake')\n",
    "a, b, c = temp\n",
    "print(a, b, c)\n",
    "\n",
    "# apple banana cake"
   ]
  },
  {
   "cell_type": "code",
   "execution_count": 305,
   "id": "f07108a7-6cb4-40e3-942b-cbc0f7b2df42",
   "metadata": {},
   "outputs": [
    {
     "name": "stdout",
     "output_type": "stream",
     "text": [
      "(2, 4, 6, 8, 10, 12, 14, 16, 18, 20, 22, 24, 26, 28, 30, 32, 34, 36, 38, 40, 42, 44, 46, 48, 50, 52, 54, 56, 58, 60, 62, 64, 66, 68, 70, 72, 74, 76, 78, 80, 82, 84, 86, 88, 90, 92, 94, 96, 98)\n"
     ]
    }
   ],
   "source": [
    "# 080\n",
    "\n",
    "even_num = range(2, 100, 2)\n",
    "print(tuple(even_num))"
   ]
  },
  {
   "cell_type": "code",
   "execution_count": 308,
   "id": "5595cc5c-42f2-462f-a026-fd5e1c3dea4c",
   "metadata": {},
   "outputs": [
    {
     "name": "stdout",
     "output_type": "stream",
     "text": [
      "[8.8, 8.9, 8.7, 9.2, 9.3, 9.7, 9.9, 9.5]\n"
     ]
    }
   ],
   "source": [
    "# 081\n",
    "\n",
    "scores = [8.8, 8.9, 8.7, 9.2, 9.3, 9.7, 9.9, 9.5, 7.8, 9.4]\n",
    "\n",
    "valid_score = scores[:8]\n",
    "\n",
    "print(valid_score)"
   ]
  },
  {
   "cell_type": "code",
   "execution_count": 321,
   "id": "7d9aa597-7307-4c64-8051-0d33f31aabb3",
   "metadata": {},
   "outputs": [
    {
     "name": "stdout",
     "output_type": "stream",
     "text": [
      "[8.7, 9.2, 9.3, 9.7, 9.9, 9.5, 7.8, 9.4]\n"
     ]
    }
   ],
   "source": [
    "# 082\n",
    "\n",
    "scores = [8.8, 8.9, 8.7, 9.2, 9.3, 9.7, 9.9, 9.5, 7.8, 9.4]\n",
    "\n",
    "valid_score = scores[2:11]\n",
    "print(valid_score)\n",
    "\n",
    "# a, b, *valid_score = scores\n",
    "# print(valid_score)"
   ]
  },
  {
   "cell_type": "code",
   "execution_count": 323,
   "id": "6c86eede-5c8c-45d2-b393-46a6bf0f4ded",
   "metadata": {},
   "outputs": [
    {
     "name": "stdout",
     "output_type": "stream",
     "text": [
      "[8.9, 8.7, 9.2, 9.3, 9.7, 9.9, 9.5, 7.8]\n"
     ]
    }
   ],
   "source": [
    "# 083\n",
    "\n",
    "scores = [8.8, 8.9, 8.7, 9.2, 9.3, 9.7, 9.9, 9.5, 7.8, 9.4]\n",
    "\n",
    "a, *valid_score, b = scores\n",
    "print(valid_score)"
   ]
  },
  {
   "cell_type": "code",
   "execution_count": 325,
   "id": "a5cac4fd-01e0-4c8e-9e05-8e402f128dfe",
   "metadata": {},
   "outputs": [
    {
     "data": {
      "text/plain": [
       "dict"
      ]
     },
     "execution_count": 325,
     "metadata": {},
     "output_type": "execute_result"
    }
   ],
   "source": [
    "# 084\n",
    "\n",
    "ice = {'merona' : 1000, 'pollapo' : 1200, 'bbangbbale' : 1800}\n",
    "type(ice)"
   ]
  },
  {
   "cell_type": "code",
   "execution_count": 328,
   "id": "a440a99f-e28a-4a4c-bb6f-7cb7d186cab7",
   "metadata": {},
   "outputs": [
    {
     "name": "stdout",
     "output_type": "stream",
     "text": [
      "{'merona': 1000, 'pollapo': 1200, 'bbangbbale': 1800, '죠스바': 1200, '월드콘': 1500}\n"
     ]
    }
   ],
   "source": [
    "# 086\n",
    "\n",
    "ice = {'merona' : 1000, 'pollapo' : 1200, 'bbangbbale' : 1800}\n",
    "ice['죠스바'] = 1200\n",
    "ice['월드콘'] = 1500\n",
    "\n",
    "print(ice)\n"
   ]
  },
  {
   "cell_type": "code",
   "execution_count": 332,
   "id": "9cad90ff-4e81-4dfc-900d-1a2331aec2e7",
   "metadata": {},
   "outputs": [
    {
     "name": "stdout",
     "output_type": "stream",
     "text": [
      "메로나 가격: 1000\n"
     ]
    }
   ],
   "source": [
    "# 087\n",
    "\n",
    "ice = {'메로나': 1000,\n",
    "       '폴로포': 1200,\n",
    "       '빵빠레': 1800,\n",
    "       '죠스바': 1200,\n",
    "       '월드콘': 1500}\n",
    "\n",
    "print('메로나 가격:', ice['메로나'])"
   ]
  },
  {
   "cell_type": "code",
   "execution_count": 333,
   "id": "3889bb2c-a9ba-4640-9a23-0b2f1d81147f",
   "metadata": {},
   "outputs": [
    {
     "name": "stdout",
     "output_type": "stream",
     "text": [
      "{'메로나': 1300, '폴로포': 1200, '빵빠레': 1800, '죠스바': 1200, '월드콘': 1500}\n"
     ]
    }
   ],
   "source": [
    "# 088\n",
    "\n",
    "ice = {'메로나': 1000,\n",
    "       '폴로포': 1200,\n",
    "       '빵빠레': 1800,\n",
    "       '죠스바': 1200,\n",
    "       '월드콘': 1500}\n",
    "\n",
    "ice['메로나'] = 1300\n",
    "\n",
    "print(ice)"
   ]
  },
  {
   "cell_type": "code",
   "execution_count": 339,
   "id": "7bcf0847-1c4a-431b-93a4-4128480c316a",
   "metadata": {},
   "outputs": [
    {
     "name": "stdout",
     "output_type": "stream",
     "text": [
      "{'폴로포': 1200, '빵빠레': 1800, '죠스바': 1200, '월드콘': 1500}\n"
     ]
    }
   ],
   "source": [
    "# 089\n",
    "\n",
    "ice = {'메로나': 1000,\n",
    "       '폴로포': 1200,\n",
    "       '빵빠레': 1800,\n",
    "       '죠스바': 1200,\n",
    "       '월드콘': 1500}\n",
    "\n",
    "del ice['메로나']\n",
    "print(ice)"
   ]
  },
  {
   "cell_type": "code",
   "execution_count": 340,
   "id": "7a83b7e4-9624-4f84-9b49-e640d3886a28",
   "metadata": {},
   "outputs": [
    {
     "ename": "SyntaxError",
     "evalue": "invalid syntax (1264541762.py, line 3)",
     "output_type": "error",
     "traceback": [
      "\u001b[1;36m  Cell \u001b[1;32mIn[340], line 3\u001b[1;36m\u001b[0m\n\u001b[1;33m    >> icecream = {'폴라포': 1200, '빵빠레': 1800, '월드콘': 1500, '메로나': 1000}\u001b[0m\n\u001b[1;37m    ^\u001b[0m\n\u001b[1;31mSyntaxError\u001b[0m\u001b[1;31m:\u001b[0m invalid syntax\n"
     ]
    }
   ],
   "source": [
    "# 090\n",
    "\n",
    ">> icecream = {'폴라포': 1200, '빵빠레': 1800, '월드콘': 1500, '메로나': 1000}\n",
    ">> icecream['누가바']\n",
    "Traceback (most recent call last):\n",
    "  File \"<pyshell#69>\", line 1, in <module>\n",
    "    icecream['누가바']\n",
    "KeyError: '누가바'\n",
    "\n",
    "# 에러 난 이유 :  키 값에 누가바라는 아이스크림이 존재하지 않아서"
   ]
  },
  {
   "cell_type": "code",
   "execution_count": 343,
   "id": "2fbca5b6-a3f5-4567-af2a-1c014323782e",
   "metadata": {},
   "outputs": [
    {
     "name": "stdout",
     "output_type": "stream",
     "text": [
      "{'메로나': [300, 20], '비비빅': [400, 3], '죠스바': [250, 100]}\n"
     ]
    }
   ],
   "source": [
    "# 091 딕셔너리 생성\n",
    "\n",
    "inventory = {'메로나' : [300, 20], '비비빅' : [400, 3], '죠스바' : [250, 100]}\n",
    "print(inventory)"
   ]
  },
  {
   "cell_type": "code",
   "execution_count": 352,
   "id": "af01d267-7079-40e6-a2ab-ef32008fdba3",
   "metadata": {},
   "outputs": [
    {
     "name": "stdout",
     "output_type": "stream",
     "text": [
      "300 원\n"
     ]
    }
   ],
   "source": [
    "# 092 \n",
    "inventory = {\"메로나\": [300, 20],\n",
    "              \"비비빅\": [400, 3],\n",
    "              \"죠스바\": [250, 100]}\n",
    "\n",
    "print(inventory[\"메로나\"][0], \"원\")"
   ]
  },
  {
   "cell_type": "code",
   "execution_count": 5,
   "id": "a62ba79b-3d56-478d-adf4-48b259593fa8",
   "metadata": {},
   "outputs": [
    {
     "name": "stdout",
     "output_type": "stream",
     "text": [
      "20 개\n"
     ]
    }
   ],
   "source": [
    "# 093 \n",
    "inventory = {\"메로나\": [300, 20],\n",
    "              \"비비빅\": [400, 3],\n",
    "              \"죠스바\": [250, 100]}\n",
    "\n",
    "print(inventory['메로나'][1], '개')"
   ]
  },
  {
   "cell_type": "code",
   "execution_count": 8,
   "id": "c3da229f-9fb0-465c-b791-5c70dc1f3d34",
   "metadata": {},
   "outputs": [
    {
     "name": "stdout",
     "output_type": "stream",
     "text": [
      "{'메로나': [300, 20], '비비빅': [400, 3], '죠스바': [250, 100], '월드콘': [500, 7]}\n"
     ]
    }
   ],
   "source": [
    "# 094\n",
    "\n",
    "inventory = {\"메로나\": [300, 20],\n",
    "              \"비비빅\": [400, 3],\n",
    "              \"죠스바\": [250, 100]}\n",
    "\n",
    "inventory[\"월드콘\"] = [500, 7]\n",
    "print(inventory)"
   ]
  },
  {
   "cell_type": "code",
   "execution_count": 9,
   "id": "8549bc70-06cd-4fe1-a03c-584c9a9e7fe1",
   "metadata": {},
   "outputs": [
    {
     "data": {
      "text/plain": [
       "dict_keys(['탱크보이', '폴라포', '빵빠레', '월드콘', '메로나'])"
      ]
     },
     "execution_count": 9,
     "metadata": {},
     "output_type": "execute_result"
    }
   ],
   "source": [
    "# 095\n",
    "\n",
    "icecream = {'탱크보이': 1200, '폴라포': 1200, '빵빠레': 1800, '월드콘': 1500, '메로나': 1000}\n",
    "icecream.keys()"
   ]
  },
  {
   "cell_type": "code",
   "execution_count": 11,
   "id": "0f4f208d-930c-4376-8fea-84317e927669",
   "metadata": {},
   "outputs": [
    {
     "data": {
      "text/plain": [
       "dict_values([1200, 1200, 1800, 1500, 1000])"
      ]
     },
     "execution_count": 11,
     "metadata": {},
     "output_type": "execute_result"
    }
   ],
   "source": [
    "# 096\n",
    "\n",
    "icecream = {'탱크보이': 1200, '폴라포': 1200, '빵빠레': 1800, '월드콘': 1500, '메로나': 1000}\n",
    "icecream.values()"
   ]
  },
  {
   "cell_type": "code",
   "execution_count": 12,
   "id": "4d5beaee-ff99-4d6c-9aa1-e08e4b750c67",
   "metadata": {},
   "outputs": [
    {
     "name": "stdout",
     "output_type": "stream",
     "text": [
      "6700\n"
     ]
    }
   ],
   "source": [
    "# 097\n",
    "\n",
    "icecream = {'탱크보이': 1200, '폴라포': 1200, '빵빠레': 1800, '월드콘': 1500, '메로나': 1000}\n",
    "total = icecream.values()\n",
    "\n",
    "print(sum(total))"
   ]
  },
  {
   "cell_type": "code",
   "execution_count": 17,
   "id": "d8a4b275-06e9-476d-a16f-64a443e59528",
   "metadata": {},
   "outputs": [
    {
     "name": "stdout",
     "output_type": "stream",
     "text": [
      "{'탱크보이': 1200, '폴라포': 1200, '빵빠레': 1800, '월드콘': 1500, '메로나': 1000, '팥빙수': 2700, '아맛나': 1000}\n"
     ]
    }
   ],
   "source": [
    "# 098\n",
    "\n",
    "icecream = {'탱크보이': 1200, '폴라포': 1200, '빵빠레': 1800, '월드콘': 1500, '메로나': 1000}\n",
    "new_product = {'팥빙수':2700, '아맛나':1000}\n",
    "\n",
    "icecream.update(new_product)\n",
    "print(icecream)"
   ]
  },
  {
   "cell_type": "code",
   "execution_count": 23,
   "id": "eeb752d6-79b5-45dd-a3f6-098d6c443237",
   "metadata": {},
   "outputs": [
    {
     "name": "stdout",
     "output_type": "stream",
     "text": [
      "{'apple': 300, 'pear': 250, 'peach': 400}\n"
     ]
    }
   ],
   "source": [
    "# 099\n",
    "\n",
    "keys = (\"apple\", \"pear\", \"peach\")\n",
    "vals = (300, 250, 400)\n",
    "\n",
    "result = dict(zip(keys, vals))\n",
    "print(result)"
   ]
  },
  {
   "cell_type": "code",
   "execution_count": 24,
   "id": "ec2a4bbc-7c26-48a3-b71b-cfbf243dc08b",
   "metadata": {},
   "outputs": [
    {
     "name": "stdout",
     "output_type": "stream",
     "text": [
      "{'09/05': 10500, '09/06': 10300, '09/07': 10100, '09/08': 10800, '09/09': 11000}\n"
     ]
    }
   ],
   "source": [
    "# 100\n",
    "\n",
    "date = ['09/05', '09/06', '09/07', '09/08', '09/09']\n",
    "close_price = [10500, 10300, 10100, 10800, 11000]\n",
    "\n",
    "close_table = dict(zip(date, close_price))\n",
    "print(close_table)"
   ]
  },
  {
   "cell_type": "code",
   "execution_count": 26,
   "id": "89f59217-f8f9-49e9-86d7-69ffeab3eb3e",
   "metadata": {},
   "outputs": [],
   "source": [
    "# 101\n",
    "\n",
    "# 파이썬에서 True 혹은 False를 갖는 데이터 타입은 무엇인가?\n",
    "# bool 타입"
   ]
  },
  {
   "cell_type": "code",
   "execution_count": 27,
   "id": "4a1a32d5-9658-4d1a-8a9c-df097d600b2f",
   "metadata": {},
   "outputs": [
    {
     "name": "stdout",
     "output_type": "stream",
     "text": [
      "False\n"
     ]
    }
   ],
   "source": [
    "# 102\n",
    "\n",
    "print(3 == 5)\n",
    "# false"
   ]
  },
  {
   "cell_type": "code",
   "execution_count": 28,
   "id": "85377d50-6663-431d-927e-db6dfb4bdba5",
   "metadata": {},
   "outputs": [
    {
     "name": "stdout",
     "output_type": "stream",
     "text": [
      "True\n"
     ]
    }
   ],
   "source": [
    "# 103\n",
    "\n",
    "print(3 < 5)\n",
    "# true"
   ]
  },
  {
   "cell_type": "code",
   "execution_count": 30,
   "id": "9a78ba54-5f16-4c15-8d2c-8c04926f5def",
   "metadata": {},
   "outputs": [
    {
     "name": "stdout",
     "output_type": "stream",
     "text": [
      "True\n"
     ]
    }
   ],
   "source": [
    "# 104\n",
    "x = 4\n",
    "print(1 < x < 5)\n",
    "# true"
   ]
  },
  {
   "cell_type": "code",
   "execution_count": 35,
   "id": "88c6f542-5c2e-4f1e-a789-42280953ee8b",
   "metadata": {},
   "outputs": [
    {
     "name": "stdout",
     "output_type": "stream",
     "text": [
      "False\n"
     ]
    }
   ],
   "source": [
    "# 105\n",
    "\n",
    "print ((3 == 4) and (4 != 3))\n"
   ]
  },
  {
   "cell_type": "code",
   "execution_count": 39,
   "id": "283f4ded-673f-4c8c-b111-b6c08d839785",
   "metadata": {},
   "outputs": [
    {
     "name": "stdout",
     "output_type": "stream",
     "text": [
      "True\n"
     ]
    }
   ],
   "source": [
    "# 106\n",
    "\n",
    "print(3 => 4)\n",
    "# <,> 이걸 먼저 쓰고 = 이 나와야됨 그래서 <=. >= 이렇게 써야함! 이건 지원하지않는 연산자다"
   ]
  },
  {
   "cell_type": "code",
   "execution_count": 43,
   "id": "2892b6d6-76fa-4063-be92-1b4dcfefccd4",
   "metadata": {},
   "outputs": [],
   "source": [
    "# 107\n",
    "\n",
    "if 4 < 3:\n",
    "    print(\"Hello World\")\n",
    "# 답이 없어\n"
   ]
  },
  {
   "cell_type": "code",
   "execution_count": 44,
   "id": "50c54873-b48f-4641-bda2-035673b65967",
   "metadata": {},
   "outputs": [
    {
     "name": "stdout",
     "output_type": "stream",
     "text": [
      "Hi, there.\n"
     ]
    }
   ],
   "source": [
    "# 108\n",
    "\n",
    "if 4 < 3:\n",
    "    print(\"Hello World.\")\n",
    "else:\n",
    "    print(\"Hi, there.\")\n",
    "\n",
    "# else 문 출력\n"
   ]
  },
  {
   "cell_type": "code",
   "execution_count": 46,
   "id": "d028ef2c-8fb7-49bf-b85c-83643522d6de",
   "metadata": {},
   "outputs": [
    {
     "name": "stdout",
     "output_type": "stream",
     "text": [
      "1\n",
      "2\n",
      "4\n"
     ]
    }
   ],
   "source": [
    "# 109\n",
    "\n",
    "if True :\n",
    "    print (\"1\")\n",
    "    print (\"2\")\n",
    "else :\n",
    "    print(\"3\")\n",
    "print(\"4\")\n",
    "\n",
    "# 1 2 4"
   ]
  },
  {
   "cell_type": "code",
   "execution_count": 47,
   "id": "bf0ac838-da07-43cf-9092-58fb7e68eaf6",
   "metadata": {},
   "outputs": [
    {
     "name": "stdout",
     "output_type": "stream",
     "text": [
      "3\n",
      "5\n"
     ]
    }
   ],
   "source": [
    "# 110\n",
    "\n",
    "if True :\n",
    "    if False:\n",
    "        print(\"1\")\n",
    "        print(\"2\")\n",
    "    else:\n",
    "        print(\"3\")\n",
    "else :\n",
    "    print(\"4\")\n",
    "print(\"5\")\n",
    "\n",
    "# 3 5\n"
   ]
  },
  {
   "cell_type": "code",
   "execution_count": 1,
   "id": "4a351758-e6b5-46f2-87d5-9063c958220c",
   "metadata": {},
   "outputs": [
    {
     "name": "stdin",
     "output_type": "stream",
     "text": [
      "입력: ddddddd\n"
     ]
    },
    {
     "name": "stdout",
     "output_type": "stream",
     "text": [
      "dddddddddddddd\n"
     ]
    }
   ],
   "source": [
    "# 111\n",
    "\n",
    "user = input(\"입력:\")\n",
    "print(user * 2)"
   ]
  },
  {
   "cell_type": "code",
   "execution_count": 8,
   "id": "f021665c-2efd-4ebe-bbd5-6b1528e0549a",
   "metadata": {},
   "outputs": [
    {
     "name": "stdin",
     "output_type": "stream",
     "text": [
      "숫자를 입력하세요 30\n"
     ]
    },
    {
     "name": "stdout",
     "output_type": "stream",
     "text": [
      "40\n"
     ]
    }
   ],
   "source": [
    "# 112\n",
    "\n",
    "number = input('숫자를 입력하세요')\n",
    "print(int(number)+10)"
   ]
  },
  {
   "cell_type": "code",
   "execution_count": 15,
   "id": "192eaf6c-662c-4064-9c22-6ce436f9793a",
   "metadata": {},
   "outputs": [
    {
     "name": "stdin",
     "output_type": "stream",
     "text": [
      "숫자를 입력하세요 1515\n"
     ]
    },
    {
     "data": {
      "text/plain": [
       "'홀수'"
      ]
     },
     "execution_count": 15,
     "metadata": {},
     "output_type": "execute_result"
    }
   ],
   "source": [
    "# 113\n",
    "\n",
    "number = input('숫자를 입력하세요')\n",
    "# if int(number) % 2 == 0:\n",
    "#     print('짝수')\n",
    "# else:\n",
    "#     print('홀수')\n",
    "\n",
    "'짝수' if int(number) % 2 == 0 else '홀수'"
   ]
  },
  {
   "cell_type": "code",
   "execution_count": 19,
   "id": "a8a91ac5-f7eb-4981-8a7c-623668a27027",
   "metadata": {},
   "outputs": [
    {
     "name": "stdin",
     "output_type": "stream",
     "text": [
      "숫자를 입력하세요 15\n"
     ]
    },
    {
     "data": {
      "text/plain": [
       "35"
      ]
     },
     "execution_count": 19,
     "metadata": {},
     "output_type": "execute_result"
    }
   ],
   "source": [
    "# 114\n",
    "\n",
    "number = input('숫자를 입력하세요')\n",
    "# if int(number) + 20 > 255:\n",
    "#     print(255)\n",
    "# else:\n",
    "#     print(int(number))\n",
    "\n",
    "# number = int(number) + 20\n",
    "# if number > 255:\n",
    "#     print(255)\n",
    "# else:\n",
    "#     print(number)\n",
    "\n",
    "number = int(number) + 20\n",
    "'255' if number > 255 else number\n"
   ]
  },
  {
   "cell_type": "code",
   "execution_count": 25,
   "id": "3856f826-7cbd-4efa-919d-d0e42f0d16a8",
   "metadata": {},
   "outputs": [
    {
     "name": "stdin",
     "output_type": "stream",
     "text": [
      "숫자를 입력하세요 200\n"
     ]
    },
    {
     "name": "stdout",
     "output_type": "stream",
     "text": [
      "180\n"
     ]
    }
   ],
   "source": [
    "# 115\n",
    "\n",
    "number = input('숫자를 입력하세요')\n",
    "number = int(number) - 20\n",
    "\n",
    "if number < 0:\n",
    "    print(0)\n",
    "elif number > 255:\n",
    "    print(255)\n",
    "else:\n",
    "    print(number)"
   ]
  },
  {
   "cell_type": "code",
   "execution_count": 27,
   "id": "d88b8a9e-7357-4e5e-8f28-ff5e2d66ce7d",
   "metadata": {},
   "outputs": [
    {
     "name": "stdin",
     "output_type": "stream",
     "text": [
      "현재시간: 05:45\n"
     ]
    },
    {
     "name": "stdout",
     "output_type": "stream",
     "text": [
      "정각이 아닙니다\n"
     ]
    }
   ],
   "source": [
    "# 116\n",
    "\n",
    "time = input('현재시간:')\n",
    "\n",
    "if time [-2:] == '00':\n",
    "    print('정각 입니다.')\n",
    "else:\n",
    "    print('정각이 아닙니다')"
   ]
  },
  {
   "cell_type": "code",
   "execution_count": 4,
   "id": "7851dbb3-62bf-4078-8944-95c37813c8b5",
   "metadata": {},
   "outputs": [
    {
     "name": "stdin",
     "output_type": "stream",
     "text": [
      "과일을 적어주세요 홍시\n"
     ]
    },
    {
     "name": "stdout",
     "output_type": "stream",
     "text": [
      "정답입니다.\n"
     ]
    }
   ],
   "source": [
    "# 117\n",
    "\n",
    "fruits = input('과일을 적어주세요')\n",
    "fruit = [\"사과\", \"포도\", \"홍시\"]\n",
    "\n",
    "if fruits in fruit:\n",
    "    \n",
    "    print('정답입니다.')\n",
    "else:\n",
    "    print('오답입니다.')"
   ]
  },
  {
   "cell_type": "code",
   "execution_count": 6,
   "id": "9c6bf934-74c1-4f96-a2ed-ff3cde18c119",
   "metadata": {},
   "outputs": [
    {
     "name": "stdin",
     "output_type": "stream",
     "text": [
      "투자 종목 적어주세요 youtube\n"
     ]
    },
    {
     "name": "stdout",
     "output_type": "stream",
     "text": [
      "투자 경고 종목이 아닙니다.\n"
     ]
    }
   ],
   "source": [
    "# 118\n",
    "\n",
    "warn_investment_list = [\"Microsoft\", \"Google\", \"Naver\", \"Kakao\", \"SAMSUNG\", \"LG\"]\n",
    "\n",
    "answer = input('투자 종목 적어주세요')\n",
    "if answer in warn_investment_list:\n",
    "    print('투자 경고 종목입니다.')\n",
    "else:\n",
    "    print('투자 경고 종목이 아닙니다.')"
   ]
  },
  {
   "cell_type": "code",
   "execution_count": 12,
   "id": "659d313e-fb8b-4e3b-83e9-627ffe80c9f4",
   "metadata": {},
   "outputs": [
    {
     "name": "stdin",
     "output_type": "stream",
     "text": [
      "제가좋아하는계절은:  가을\n"
     ]
    },
    {
     "name": "stdout",
     "output_type": "stream",
     "text": [
      "정답입니다.\n"
     ]
    }
   ],
   "source": [
    "# 119\n",
    "\n",
    "fruit = {\"봄\" : \"딸기\", \"여름\" : \"토마토\", \"가을\" : \"사과\"}\n",
    "\n",
    "계절 = input('제가좋아하는계절은: ')\n",
    "if 계절 in fruit:\n",
    "    print('정답입니다.')\n",
    "else:\n",
    "    print('오답입니다')\n"
   ]
  },
  {
   "cell_type": "code",
   "execution_count": 19,
   "id": "95cff36b-ddb6-4eae-8b7c-6189f806bf44",
   "metadata": {},
   "outputs": [
    {
     "name": "stdin",
     "output_type": "stream",
     "text": [
      "좋아하는과일은? 딸기\n"
     ]
    },
    {
     "name": "stdout",
     "output_type": "stream",
     "text": [
      "정답입니다.\n"
     ]
    }
   ],
   "source": [
    "# 120\n",
    "\n",
    "fruit = {\"봄\" : \"딸기\", \"여름\" : \"토마토\", \"가을\" : \"사과\"}\n",
    "\n",
    "user = input('좋아하는과일은?')\n",
    "\n",
    "if user in fruit.values():\n",
    "    print('정답입니다.')\n",
    "else:\n",
    "    print('오답입니다.')"
   ]
  },
  {
   "cell_type": "code",
   "execution_count": 27,
   "id": "030457c4-a673-49eb-a548-9f0dedf0308a",
   "metadata": {},
   "outputs": [
    {
     "name": "stdin",
     "output_type": "stream",
     "text": [
      "문자를 입력해주세요 B\n"
     ]
    },
    {
     "name": "stdout",
     "output_type": "stream",
     "text": [
      "b\n"
     ]
    }
   ],
   "source": [
    "# 121\n",
    "\n",
    "word = input('문자를 입력해주세요')\n",
    "\n",
    "if word.islower():\n",
    "    print(word.upper())\n",
    "else:\n",
    "    print(word.lower())"
   ]
  },
  {
   "cell_type": "code",
   "execution_count": 35,
   "id": "df1fc283-c25f-4f83-9508-023654f058fb",
   "metadata": {},
   "outputs": [
    {
     "name": "stdin",
     "output_type": "stream",
     "text": [
      "점수를 입력해주세요 100\n"
     ]
    },
    {
     "name": "stdout",
     "output_type": "stream",
     "text": [
      "A\n"
     ]
    }
   ],
   "source": [
    "# 122\n",
    "\n",
    "score = int(input('점수를 입력해주세요'))\n",
    "\n",
    "if score > 80:\n",
    "    print('A')\n",
    "elif score > 60:\n",
    "    print('B')\n",
    "elif score > 40:\n",
    "    print('C')\n",
    "elif score > 20:\n",
    "    print('D')\n",
    "else:\n",
    "    print('E')"
   ]
  },
  {
   "cell_type": "code",
   "execution_count": 3,
   "id": "362e9bfe-49b5-4908-832a-8059aa29e9ac",
   "metadata": {},
   "outputs": [
    {
     "name": "stdin",
     "output_type": "stream",
     "text": [
      " 120 위안\n"
     ]
    },
    {
     "name": "stdout",
     "output_type": "stream",
     "text": [
      "20520.0\n"
     ]
    }
   ],
   "source": [
    "# 123\n",
    "\n",
    "currency = {'달러': 1167, '엔': 1.096, '유로': 1268, '위안':171}\n",
    "data = input()\n",
    "tokens = data.split()\n",
    "num, tokens = tokens\n",
    "num = float(num)\n",
    "\n",
    "if currency == '달러':\n",
    "    print(num*1167)\n",
    "elif currency == '엔':\n",
    "    print(num*1.096)\n",
    "elif currency == '유로':\n",
    "    print(num*1268)\n",
    "else:\n",
    "    print(num*171)\n",
    "    "
   ]
  },
  {
   "cell_type": "code",
   "execution_count": 1,
   "id": "59cd5dc7-25d1-4471-9047-f3e1ab979a75",
   "metadata": {},
   "outputs": [
    {
     "name": "stdin",
     "output_type": "stream",
     "text": [
      "input number: 10\n",
      "input number: 9\n",
      "input number: 20\n"
     ]
    },
    {
     "name": "stdout",
     "output_type": "stream",
     "text": [
      "20\n"
     ]
    }
   ],
   "source": [
    "# 124\n",
    "num1 = input('input number:')\n",
    "num2 = input('input number:')\n",
    "num3 = input('input number:')\n",
    "\n",
    "num1 = int(num1)\n",
    "num2 = int(num2)\n",
    "num3 = int(num3)\n",
    "\n",
    "if num1 >= num2 and num1 >= num3:\n",
    "    print(num1)\n",
    "elif num2 >= num1 and num2 >= num3:\n",
    "    print(num2)\n",
    "else:\n",
    "    print(num3)"
   ]
  },
  {
   "cell_type": "code",
   "execution_count": 10,
   "id": "0b23328e-159d-449b-90c2-e14856c99676",
   "metadata": {},
   "outputs": [
    {
     "name": "stdin",
     "output_type": "stream",
     "text": [
      "휴대전화 번호 입력: 011-345-1922\n"
     ]
    },
    {
     "name": "stdout",
     "output_type": "stream",
     "text": [
      "당신은 SKT 사용자입니다.\n"
     ]
    }
   ],
   "source": [
    "# 125\n",
    "\n",
    "number = input('휴대전화 번호 입력:')\n",
    "num = number.split('-')[0]\n",
    "\n",
    "if num == '011':\n",
    "    cum = 'SKT'\n",
    "elif num == '016':\n",
    "    cum = 'KT'\n",
    "elif num == '019':\n",
    "    cum = 'LGU'\n",
    "else:\n",
    "    cum = '알수없음'\n",
    "\n",
    "print(f'당신은 {cum} 사용자입니다.')"
   ]
  },
  {
   "cell_type": "code",
   "execution_count": 21,
   "id": "5ee31ad6-3360-4c7c-a8b7-a9dc95b62bf0",
   "metadata": {},
   "outputs": [
    {
     "name": "stdin",
     "output_type": "stream",
     "text": [
      "우편번호를 입력하세요 01100\n"
     ]
    },
    {
     "name": "stdout",
     "output_type": "stream",
     "text": [
      "강북구\n"
     ]
    }
   ],
   "source": [
    "# 126\n",
    "\n",
    "code = input('우편번호를 입력하세요')\n",
    "code = code[:3]\n",
    "\n",
    "if code in ['010', '011', '012']:\n",
    "    print('강북구')\n",
    "elif code in ['013', '014', '015']:\n",
    "    print('도봉구')\n",
    "else:\n",
    "    print('노원구')"
   ]
  },
  {
   "cell_type": "code",
   "execution_count": 29,
   "id": "dc2e977f-b98b-4e57-bc8b-857df9a0379c",
   "metadata": {},
   "outputs": [
    {
     "name": "stdin",
     "output_type": "stream",
     "text": [
      "주민번호를 입력하세요 821010-1635210\n"
     ]
    },
    {
     "name": "stdout",
     "output_type": "stream",
     "text": [
      "남자\n"
     ]
    }
   ],
   "source": [
    "#127\n",
    "\n",
    "data = input('주민번호를 입력하세요') # 821010-1635210\n",
    "token = data.split('-') # ['821010', '1635210']\n",
    "data2 = token[1] # '1635210'\n",
    "\n",
    "if data2[0] == '1' or data2[0] == '3':\n",
    "    print('남자')\n",
    "elif data2[0] == '2' or data2[0] == '4':\n",
    "    print('여자')"
   ]
  },
  {
   "cell_type": "code",
   "execution_count": 32,
   "id": "780a858c-e489-42f2-821a-ba9ff4fbc480",
   "metadata": {},
   "outputs": [
    {
     "name": "stdin",
     "output_type": "stream",
     "text": [
      "주민등록번호를 입력하세요: 821010-1015210\n"
     ]
    },
    {
     "name": "stdout",
     "output_type": "stream",
     "text": [
      "서울 입니다.\n"
     ]
    }
   ],
   "source": [
    "# 128\n",
    "\n",
    "data = input('주민등록번호를 입력하세요:')\n",
    "num = data.split('-')[1]\n",
    "\n",
    "if num[1:3] in ['00', '01', '02', '03', '04', '05', '06', '07', '08']:\n",
    "    print('서울 입니다.')\n",
    "elif num[1:3] in ['09', '10', '11', '12']:\n",
    "    print('부산 입니다.')\n",
    "else:\n",
    "    print('서울이 아닙니다')"
   ]
  },
  {
   "cell_type": "code",
   "execution_count": 42,
   "id": "ff1d2475-07c9-4d98-afd8-6469bd8e659f",
   "metadata": {},
   "outputs": [
    {
     "name": "stdin",
     "output_type": "stream",
     "text": [
      "주민등록번호: 821010-1635210\n"
     ]
    },
    {
     "name": "stdout",
     "output_type": "stream",
     "text": [
      " 유효하지 않은 주민등록번호입니다.\n"
     ]
    }
   ],
   "source": [
    "# 129\n",
    "\n",
    "data = input('주민등록번호:')\n",
    "data = data.replace('-', '')\n",
    "\n",
    "계산 = int(data[0]) * 2 + int(data[1]) * 3 + int(data[2]) * 4 + int(data[3]) * 5 + \\\n",
    "        int(data[4]) * 6 + int(data[5]) * 7 + int(data[6]) * 8 + int(data[7]) * 9 + int(data[8]) * 2 + \\\n",
    "        int(data[9]) * 3 + int(data[10]) * 4 + int(data[11]) * 5\n",
    "계산 = 계산 % 11\n",
    "계산2 = 11 - 계산\n",
    "계산2 = str(계산2)\n",
    "\n",
    "if data[12] == 계산2:\n",
    "    print('유효한 주민등록번호입니다.')\n",
    "else:\n",
    "    print(' 유효하지 않은 주민등록번호입니다.')"
   ]
  },
  {
   "cell_type": "code",
   "execution_count": 46,
   "id": "72abf798-f3b6-4f11-bdf8-d151986e75b4",
   "metadata": {},
   "outputs": [
    {
     "name": "stdout",
     "output_type": "stream",
     "text": [
      "상승장\n"
     ]
    }
   ],
   "source": [
    "# 130\n",
    "\n",
    "import requests\n",
    "btc = requests.get(\"https://api.bithumb.com/public/ticker/\").json()['data']\n",
    "\n",
    "open = float(btc['opening_price'])\n",
    "close = float(btc['closing_price'])\n",
    "high = float(btc['max_price'])\n",
    "low = float(btc['min_price'])\n",
    "변동폭 = high - low\n",
    "\n",
    "if open + 변동폭 > high:\n",
    "    print('상승장')\n",
    "else:\n",
    "    print('하락장')"
   ]
  },
  {
   "cell_type": "code",
   "execution_count": 48,
   "id": "09aee907-542a-43fd-8470-4c2f158bad7a",
   "metadata": {},
   "outputs": [
    {
     "name": "stdout",
     "output_type": "stream",
     "text": [
      "사과\n",
      "귤\n",
      "수박\n"
     ]
    }
   ],
   "source": [
    "# 131\n",
    "\n",
    "과일 = [\"사과\", \"귤\", \"수박\"]\n",
    "for 변수 in 과일:\n",
    "    print(변수)\n",
    "\n",
    "# 사과 /n 귤 /n 수박"
   ]
  },
  {
   "cell_type": "code",
   "execution_count": 49,
   "id": "0891d427-8a78-4f4b-8931-ee517634fcb1",
   "metadata": {},
   "outputs": [
    {
     "name": "stdout",
     "output_type": "stream",
     "text": [
      "#####\n",
      "#####\n",
      "#####\n"
     ]
    }
   ],
   "source": [
    "# 132\n",
    "\n",
    "과일 = [\"사과\", \"귤\", \"수박\"]\n",
    "for 변수 in 과일:\n",
    "  print(\"#####\")\n"
   ]
  },
  {
   "cell_type": "code",
   "execution_count": 59,
   "id": "28fdafa5-73cf-461f-bc76-d39f77255483",
   "metadata": {},
   "outputs": [
    {
     "name": "stdout",
     "output_type": "stream",
     "text": [
      "A\n",
      "B\n",
      "C\n",
      "A\n",
      "B\n",
      "C\n"
     ]
    }
   ],
   "source": [
    "# 133\n",
    "\n",
    "for 변수 in [\"A\", \"B\", \"C\"]:\n",
    "  print(변수)\n",
    "\n",
    "변수 = 'A'\n",
    "print(변수)\n",
    "변수 = 'B'\n",
    "print(변수)\n",
    "변수 = 'C'\n",
    "print(변수)"
   ]
  },
  {
   "cell_type": "code",
   "execution_count": 63,
   "id": "d7cad162-57da-4019-beb5-10e8a572d16e",
   "metadata": {},
   "outputs": [
    {
     "name": "stdout",
     "output_type": "stream",
     "text": [
      "출력: A\n",
      "출력: B\n",
      "출력: C\n",
      "출력: A\n",
      "출력: B\n",
      "출력: C\n"
     ]
    }
   ],
   "source": [
    "# 134\n",
    "for 변수 in [\"A\", \"B\", \"C\"]:\n",
    "  print(\"출력:\", 변수)\n",
    "\n",
    "변수 = 'A'\n",
    "print('출력:', 변수)\n",
    "변수 = 'B'\n",
    "print('출력:',변수)\n",
    "변수 = 'C'\n",
    "print('출력:', 변수)"
   ]
  },
  {
   "cell_type": "code",
   "execution_count": 64,
   "id": "704885a1-36e1-4c89-b830-8c7103bf720d",
   "metadata": {},
   "outputs": [
    {
     "name": "stdout",
     "output_type": "stream",
     "text": [
      "변환: a\n",
      "변환: b\n",
      "변환: c\n",
      "변환: a\n",
      "변환: b\n",
      "변환: c\n"
     ]
    }
   ],
   "source": [
    "# 135\n",
    "\n",
    "for 변수 in [\"A\", \"B\", \"C\"]:\n",
    "  b = 변수.lower()\n",
    "  print(\"변환:\", b)\n",
    "\n",
    "변수 = \"A\"\n",
    "b = 변수.lower()\n",
    "print(\"변환:\", b)\n",
    "변수 = \"B\"\n",
    "b = 변수.lower()\n",
    "print(\"변환:\", b)\n",
    "변수 = \"C\"\n",
    "b = 변수.lower()\n",
    "print(\"변환:\", b)"
   ]
  },
  {
   "cell_type": "code",
   "execution_count": 66,
   "id": "f16ac892-60fd-4481-b020-24cd0ec3e0d7",
   "metadata": {},
   "outputs": [
    {
     "name": "stdout",
     "output_type": "stream",
     "text": [
      "10\n",
      "20\n",
      "30\n"
     ]
    }
   ],
   "source": [
    "# 136\n",
    "\n",
    "for 변수 in [10, 20, 30]:\n",
    "    print(변수)"
   ]
  },
  {
   "cell_type": "code",
   "execution_count": 68,
   "id": "da70c1ff-b993-4378-a50d-d394741d6a2f",
   "metadata": {},
   "outputs": [
    {
     "name": "stdout",
     "output_type": "stream",
     "text": [
      "10\n",
      "20\n",
      "30\n",
      "10\n",
      "20\n",
      "30\n"
     ]
    }
   ],
   "source": [
    "# 137\n",
    "for 변수 in [10, 20, 30]:\n",
    "    print(변수)\n",
    "\n",
    "print(10)\n",
    "print(20)\n",
    "print(30)"
   ]
  },
  {
   "cell_type": "code",
   "execution_count": 72,
   "id": "8dbb61f0-867a-411d-b65d-4e1d9306683d",
   "metadata": {},
   "outputs": [
    {
     "name": "stdout",
     "output_type": "stream",
     "text": [
      "10\n",
      "-------\n",
      "20\n",
      "-------\n",
      "30\n",
      "-------\n"
     ]
    }
   ],
   "source": [
    "# 138\n",
    "\n",
    "# print(10)\n",
    "# print(\"-------\")\n",
    "# print(20)\n",
    "# print(\"-------\")\n",
    "# print(30)\n",
    "# print(\"-------\")\n",
    "\n",
    "# for A in [10,'-------', 20, '-------', 30, '-------']:\n",
    "#     print(A)\n",
    "\n",
    "for A in [10, 20, 30]:\n",
    "    print(A)\n",
    "    print('-------')"
   ]
  },
  {
   "cell_type": "code",
   "execution_count": 74,
   "id": "ef8abdae-a93b-41c0-b377-6753b312777e",
   "metadata": {},
   "outputs": [
    {
     "name": "stdout",
     "output_type": "stream",
     "text": [
      "++++\n",
      "10\n",
      "++++\n",
      "20\n",
      "++++\n",
      "30\n"
     ]
    }
   ],
   "source": [
    "# 139\n",
    "# print(\"++++\")\n",
    "# print(10)\n",
    "# print(20)\n",
    "# print(30)\n",
    "\n",
    "for A in [10, 20, 30]:\n",
    "    print('++++')\n",
    "    print(A)"
   ]
  },
  {
   "cell_type": "code",
   "execution_count": 78,
   "id": "44d46474-2e8f-4cc0-9a6d-54cfeb979aa2",
   "metadata": {},
   "outputs": [
    {
     "name": "stdout",
     "output_type": "stream",
     "text": [
      "-------\n",
      "-------\n",
      "-------\n",
      "-------\n"
     ]
    }
   ],
   "source": [
    "# 140\n",
    "\n",
    "# print(\"-------\")\n",
    "# print(\"-------\")\n",
    "# print(\"-------\")\n",
    "# print(\"-------\")\n",
    "\n",
    "for A in [1, 2, 3, 4]:\n",
    "    print('-------')"
   ]
  },
  {
   "cell_type": "code",
   "execution_count": 79,
   "id": "d0a59112-f84e-4ffd-9c67-fb9e6b3e0a70",
   "metadata": {},
   "outputs": [
    {
     "name": "stdout",
     "output_type": "stream",
     "text": [
      "110\n",
      "210\n",
      "310\n"
     ]
    }
   ],
   "source": [
    "# 141\n",
    "\n",
    "for 부가세 in [100, 200, 300]:\n",
    "    print(부가세+10)"
   ]
  },
  {
   "cell_type": "code",
   "execution_count": 90,
   "id": "bdfc712e-a242-479b-aa9c-dc80bf8fe71a",
   "metadata": {},
   "outputs": [
    {
     "name": "stdout",
     "output_type": "stream",
     "text": [
      "오늘의 메뉴: 김밥\n",
      "오늘의 메뉴: 라면\n",
      "오늘의 메뉴: 튀김\n",
      "오늘의 메뉴: 김밥\n",
      "오늘의 메뉴: 라면\n",
      "오늘의 메뉴: 튀김\n"
     ]
    }
   ],
   "source": [
    "# 142\n",
    "\n",
    "menu = '김밥'\n",
    "print('오늘의 메뉴: 김밥')\n",
    "menu = '라면'\n",
    "print('오늘의 메뉴: 라면')\n",
    "menu = '튀김'\n",
    "print('오늘의 메뉴: 튀김')\n",
    "\n",
    "for menu in ['김밥', '라면', '튀김']:\n",
    "    print('오늘의 메뉴:', menu)"
   ]
  },
  {
   "cell_type": "code",
   "execution_count": 94,
   "id": "4464dbd6-0670-41e5-ac4b-6d49df417810",
   "metadata": {},
   "outputs": [
    {
     "name": "stdout",
     "output_type": "stream",
     "text": [
      "6\n",
      "4\n",
      "4\n"
     ]
    }
   ],
   "source": [
    "# 143\n",
    "\n",
    "for zoosic in [\"SK하이닉스\", \"삼성전자\", \"LG전자\"]:\n",
    "    print(len(zoosic))"
   ]
  },
  {
   "cell_type": "code",
   "execution_count": 98,
   "id": "0444135e-03c0-4160-9079-586a9e691410",
   "metadata": {},
   "outputs": [
    {
     "name": "stdout",
     "output_type": "stream",
     "text": [
      "dog 3\n",
      "cat 3\n",
      "parrot 6\n"
     ]
    }
   ],
   "source": [
    "# 144\n",
    "리스트 = ['dog', 'cat', 'parrot']\n",
    "for animal in 리스트:\n",
    "    print(animal, len(animal))"
   ]
  },
  {
   "cell_type": "code",
   "execution_count": 101,
   "id": "b6214f09-892d-424c-9dc4-55f6e1728628",
   "metadata": {},
   "outputs": [
    {
     "name": "stdout",
     "output_type": "stream",
     "text": [
      "d\n",
      "c\n",
      "p\n"
     ]
    }
   ],
   "source": [
    "# 145\n",
    "리스트 = ['dog', 'cat', 'parrot']\n",
    "for name in 리스트:\n",
    "    print(name[0])"
   ]
  },
  {
   "cell_type": "code",
   "execution_count": 111,
   "id": "700a1c14-344d-46bc-95b3-0a3e7f8c7413",
   "metadata": {},
   "outputs": [
    {
     "name": "stdout",
     "output_type": "stream",
     "text": [
      "3 x 1\n",
      "3 x 2\n",
      "3 x 3\n"
     ]
    }
   ],
   "source": [
    "# 146\n",
    "리스트 = [1, 2, 3]\n",
    "for num in 리스트:\n",
    "    print('3 x', num)"
   ]
  },
  {
   "cell_type": "code",
   "execution_count": 117,
   "id": "22cb18a2-5d9c-4235-9050-b4a8242c7dd8",
   "metadata": {},
   "outputs": [
    {
     "name": "stdout",
     "output_type": "stream",
     "text": [
      "3 x 1 = 3\n",
      "3 x 2 = 6\n",
      "3 x 3 = 9\n"
     ]
    }
   ],
   "source": [
    "# 147\n",
    "리스트 = [1, 2, 3]\n",
    "for num in 리스트:\n",
    "    print('3 x', num, '=', 3*num)"
   ]
  },
  {
   "cell_type": "code",
   "execution_count": 119,
   "id": "04b12eb6-d3a9-440e-bac0-3173d829fb40",
   "metadata": {},
   "outputs": [
    {
     "name": "stdout",
     "output_type": "stream",
     "text": [
      "나\n",
      "다\n",
      "라\n"
     ]
    }
   ],
   "source": [
    "# 148\n",
    "리스트 = [\"가\", \"나\", \"다\", \"라\"]\n",
    "for text in 리스트[1:]:\n",
    "    print(text)"
   ]
  },
  {
   "cell_type": "code",
   "execution_count": 123,
   "id": "f41d11d9-068a-41b6-9b3f-fa865e63b49b",
   "metadata": {},
   "outputs": [
    {
     "name": "stdout",
     "output_type": "stream",
     "text": [
      "가\n",
      "다\n"
     ]
    }
   ],
   "source": [
    "# 149\n",
    "리스트 = [\"가\", \"나\", \"다\", \"라\"]\n",
    "for text in 리스트[::2]:\n",
    "    print(text)"
   ]
  },
  {
   "cell_type": "code",
   "execution_count": 124,
   "id": "3b22b821-6bbe-43e4-8d41-8fd3b30c1dad",
   "metadata": {},
   "outputs": [
    {
     "name": "stdout",
     "output_type": "stream",
     "text": [
      "라\n",
      "다\n",
      "나\n",
      "가\n"
     ]
    }
   ],
   "source": [
    "# 150\n",
    "리스트 = [\"가\", \"나\", \"다\", \"라\"]\n",
    "for text in 리스트[::-1]:\n",
    "    print(text)"
   ]
  },
  {
   "cell_type": "code",
   "execution_count": 131,
   "id": "4ce62208-b151-4068-8285-20eaff731cca",
   "metadata": {},
   "outputs": [
    {
     "name": "stdout",
     "output_type": "stream",
     "text": [
      "-20\n",
      "-3\n"
     ]
    }
   ],
   "source": [
    "# 151\n",
    "리스트 = [3, -20, -3, 44]\n",
    "for num in 리스트:\n",
    "    if num < 0:\n",
    "        print(num)"
   ]
  },
  {
   "cell_type": "code",
   "execution_count": 132,
   "id": "bfba24d3-649f-434b-be98-2fc53df58ea7",
   "metadata": {},
   "outputs": [
    {
     "name": "stdout",
     "output_type": "stream",
     "text": [
      "3\n"
     ]
    }
   ],
   "source": [
    "# 152\n",
    "리스트 = [3, 100, 23, 44]\n",
    "for num in 리스트:\n",
    "    if num % 3 == 0:\n",
    "        print(num)"
   ]
  },
  {
   "cell_type": "code",
   "execution_count": 133,
   "id": "46d9a63f-120c-4478-b491-b410b6750d66",
   "metadata": {},
   "outputs": [
    {
     "name": "stdout",
     "output_type": "stream",
     "text": [
      "12\n",
      "18\n"
     ]
    }
   ],
   "source": [
    "# 153\n",
    "리스트 = [13, 21, 12, 14, 30, 18]\n",
    "for num in 리스트:\n",
    "    if num % 3 ==0 and num < 20:\n",
    "        print(num)"
   ]
  },
  {
   "cell_type": "code",
   "execution_count": 134,
   "id": "73e00aef-a9f3-4b1c-8385-480b0bb29fe3",
   "metadata": {},
   "outputs": [
    {
     "name": "stdout",
     "output_type": "stream",
     "text": [
      "study\n",
      "python\n",
      "language\n"
     ]
    }
   ],
   "source": [
    "# 154\n",
    "리스트 = [\"I\", \"study\", \"python\", \"language\", \"!\"]\n",
    "for text in 리스트:\n",
    "    if len(text) >= 3:\n",
    "        print(text)"
   ]
  },
  {
   "cell_type": "code",
   "execution_count": 141,
   "id": "07c4465e-6479-47b6-ab1c-d72368dd13c3",
   "metadata": {},
   "outputs": [
    {
     "name": "stdout",
     "output_type": "stream",
     "text": [
      "A\n",
      "D\n"
     ]
    }
   ],
   "source": [
    "# 155\n",
    "리스트 = [\"A\", \"b\", \"c\", \"D\"]\n",
    "for text in 리스트:\n",
    "    if text.isupper():\n",
    "        print(text)"
   ]
  },
  {
   "cell_type": "code",
   "execution_count": 142,
   "id": "e32cfd20-cbbd-4d2a-a8b2-978e54b7df8a",
   "metadata": {},
   "outputs": [
    {
     "name": "stdout",
     "output_type": "stream",
     "text": [
      "b\n",
      "c\n"
     ]
    }
   ],
   "source": [
    "# 156\n",
    "리스트 = [\"A\", \"b\", \"c\", \"D\"]\n",
    "for text in 리스트:\n",
    "    if text.islower():\n",
    "        print(text)"
   ]
  },
  {
   "cell_type": "code",
   "execution_count": 149,
   "id": "7a8dd6ff-07a8-4a09-b3a0-ac2418bfb18b",
   "metadata": {},
   "outputs": [
    {
     "name": "stdout",
     "output_type": "stream",
     "text": [
      "Dog\n",
      "Cat\n",
      "Parrot\n"
     ]
    }
   ],
   "source": [
    "# 157\n",
    "리스트 = ['dog', 'cat', 'parrot']\n",
    "for text in 리스트:\n",
    "        print(text.capitalize())"
   ]
  },
  {
   "cell_type": "code",
   "execution_count": 155,
   "id": "35023ad2-275e-4ed0-8221-38c1bca2bd26",
   "metadata": {},
   "outputs": [
    {
     "name": "stdout",
     "output_type": "stream",
     "text": [
      "hello\n",
      "ex01\n",
      "intro\n"
     ]
    }
   ],
   "source": [
    "# 158\n",
    "리스트 = ['hello.py', 'ex01.py', 'intro.hwp']\n",
    "for file in 리스트:\n",
    "    A = file.split('.')\n",
    "    print(A[0])"
   ]
  },
  {
   "cell_type": "code",
   "execution_count": 158,
   "id": "4d00cfed-47bf-4d06-9d12-4af1dcbb48e2",
   "metadata": {},
   "outputs": [
    {
     "name": "stdout",
     "output_type": "stream",
     "text": [
      "intra.h\n",
      "define.h\n",
      "intra.h\n",
      "define.h\n"
     ]
    }
   ],
   "source": [
    "# 159\n",
    "리스트 = ['intra.h', 'intra.c', 'define.h', 'run.py']\n",
    "for file in 리스트:\n",
    "    if '.h' in file:\n",
    "        print(file)\n",
    "\n",
    "for 변수 in 리스트:\n",
    "  split = 변수.split(\".\")\n",
    "  if split[1] == \"h\":\n",
    "    print(변수)"
   ]
  },
  {
   "cell_type": "code",
   "execution_count": 160,
   "id": "a10d21ee-97a4-4e61-a822-293b24481612",
   "metadata": {},
   "outputs": [
    {
     "name": "stdout",
     "output_type": "stream",
     "text": [
      "intra.h\n",
      "intra.c\n",
      "define.h\n"
     ]
    }
   ],
   "source": [
    "# 160\n",
    "리스트 = ['intra.h', 'intra.c', 'define.h', 'run.py']\n",
    "for file in 리스트:\n",
    "    split = file.split('.')\n",
    "    if split[1] != 'py':\n",
    "        print(file)       "
   ]
  },
  {
   "cell_type": "code",
   "execution_count": 163,
   "id": "15824dd7-22c2-4397-b14d-758d0d5c9662",
   "metadata": {},
   "outputs": [],
   "source": [
    "# 161\n",
    "# for num in range(100):\n",
    "#     print(num)"
   ]
  },
  {
   "cell_type": "code",
   "execution_count": 165,
   "id": "e616d8c4-c064-42af-aa5e-e170f02bd8f3",
   "metadata": {},
   "outputs": [
    {
     "name": "stdout",
     "output_type": "stream",
     "text": [
      "2002\n",
      "2006\n",
      "2010\n",
      "2014\n",
      "2018\n",
      "2022\n",
      "2026\n",
      "2030\n",
      "2034\n",
      "2038\n",
      "2042\n",
      "2046\n",
      "2050\n"
     ]
    }
   ],
   "source": [
    "# 162\n",
    "for year in range(2002,2051,4):\n",
    "    print(year)"
   ]
  },
  {
   "cell_type": "code",
   "execution_count": 169,
   "id": "f9c65a35-18c3-4111-a95e-8a50ad504e5d",
   "metadata": {},
   "outputs": [
    {
     "name": "stdout",
     "output_type": "stream",
     "text": [
      "3\n",
      "6\n",
      "9\n",
      "12\n",
      "15\n",
      "18\n",
      "21\n",
      "24\n",
      "27\n",
      "30\n"
     ]
    }
   ],
   "source": [
    "# 163\n",
    "for num in range(3,31,3):\n",
    "        print(num)"
   ]
  },
  {
   "cell_type": "code",
   "execution_count": 175,
   "id": "482bd49c-b976-43e8-b04f-16e67f684912",
   "metadata": {},
   "outputs": [],
   "source": [
    "# 164\n",
    "# for num in range(100):\n",
    "#     print(99-num)"
   ]
  },
  {
   "cell_type": "code",
   "execution_count": 180,
   "id": "38f44476-5c00-4dbe-9602-cc17aed58430",
   "metadata": {},
   "outputs": [],
   "source": [
    "# 165\n",
    "# for num in range(10):\n",
    "#     print(num/10)"
   ]
  },
  {
   "cell_type": "code",
   "execution_count": 186,
   "id": "1a702c1c-c4bd-4756-bede-896fc51379c5",
   "metadata": {},
   "outputs": [
    {
     "name": "stdout",
     "output_type": "stream",
     "text": [
      "3 X 1 = 3\n",
      "3 X 2 = 6\n",
      "3 X 3 = 9\n",
      "3 X 4 = 12\n",
      "3 X 5 = 15\n",
      "3 X 6 = 18\n",
      "3 X 7 = 21\n",
      "3 X 8 = 24\n",
      "3 X 9 = 27\n"
     ]
    }
   ],
   "source": [
    "# 166\n",
    "for dan in range(1,10):\n",
    "    print(3, 'X', dan, '=', 3*dan)"
   ]
  },
  {
   "cell_type": "code",
   "execution_count": 190,
   "id": "c9d99167-2328-4172-b9b3-0bb7f661d1ae",
   "metadata": {},
   "outputs": [
    {
     "name": "stdout",
     "output_type": "stream",
     "text": [
      "3 x 1 = 3\n",
      "3 x 3 = 9\n",
      "3 x 5 = 15\n",
      "3 x 7 = 21\n",
      "3 x 9 = 27\n"
     ]
    }
   ],
   "source": [
    "# 167\n",
    "for dan in range(1,10,2):\n",
    "    print(3, 'x', dan, '=', 3*dan)"
   ]
  },
  {
   "cell_type": "code",
   "execution_count": 211,
   "id": "ae036645-b99c-48cb-b4bc-79e288150213",
   "metadata": {},
   "outputs": [
    {
     "name": "stdout",
     "output_type": "stream",
     "text": [
      "합 : 55\n"
     ]
    }
   ],
   "source": [
    "# 168\n",
    "hab = 0\n",
    "for num in range(1, 11):\n",
    "    hab += num\n",
    "print('합 :',hab)\n",
    "# hab = 0\n",
    "# for i in range(1, 11):\n",
    "#     hab += i\n",
    "# print (\"합 :\", hab)\n",
    "    "
   ]
  },
  {
   "cell_type": "code",
   "execution_count": 207,
   "id": "1c19204a-42fc-4b1b-bd00-a5e12c8ab9eb",
   "metadata": {},
   "outputs": [
    {
     "name": "stdout",
     "output_type": "stream",
     "text": [
      "합 : 25\n"
     ]
    }
   ],
   "source": [
    "# 169\n",
    "hab = 0\n",
    "for i in range(1, 11, 2):\n",
    "    hab += i\n",
    "print (\"합 :\", hab)"
   ]
  },
  {
   "cell_type": "code",
   "execution_count": 206,
   "id": "a650aa5b-5620-4f31-a6a9-40116866aa68",
   "metadata": {},
   "outputs": [
    {
     "name": "stdout",
     "output_type": "stream",
     "text": [
      "3628800\n"
     ]
    }
   ],
   "source": [
    "# 170\n",
    "result = 1\n",
    "for i in range(1, 11) :\n",
    "    result *= i\n",
    "print(result)"
   ]
  },
  {
   "cell_type": "code",
   "execution_count": 217,
   "id": "26cab853-d1c3-42b7-a918-69b8424cd690",
   "metadata": {},
   "outputs": [
    {
     "name": "stdout",
     "output_type": "stream",
     "text": [
      "32100\n",
      "32150\n",
      "32000\n",
      "32500\n"
     ]
    }
   ],
   "source": [
    "# 171\n",
    "price_list = [32100, 32150, 32000, 32500]\n",
    "# idx = 0\n",
    "# for idx, price in enumerate(price_list):\n",
    "#     idx += 1\n",
    "#     print(price)\n",
    "\n",
    "for i in range(4):\n",
    "    print(price_list[i])"
   ]
  },
  {
   "cell_type": "code",
   "execution_count": 225,
   "id": "2de1872c-a43f-46b5-acbb-0189ed04f959",
   "metadata": {},
   "outputs": [
    {
     "name": "stdout",
     "output_type": "stream",
     "text": [
      "0 32100\n",
      "1 32150\n",
      "2 32000\n",
      "3 32500\n",
      "0 32100\n",
      "1 32150\n",
      "2 32000\n",
      "3 32500\n"
     ]
    }
   ],
   "source": [
    "# 172\n",
    "price_list = [32100, 32150, 32000, 32500]\n",
    "\n",
    "num = 0\n",
    "for price in range(4):\n",
    "    print(num, price_list[price])\n",
    "    num += 1\n",
    "\n",
    "for i, data in enumerate(price_list):\n",
    "    print(i, data)"
   ]
  },
  {
   "cell_type": "code",
   "execution_count": 230,
   "id": "e9bad11f-e4c7-4744-9215-a8f825e7dd28",
   "metadata": {},
   "outputs": [
    {
     "name": "stdout",
     "output_type": "stream",
     "text": [
      "3 32100\n",
      "2 32150\n",
      "1 32000\n",
      "0 32500\n"
     ]
    }
   ],
   "source": [
    "# 173\n",
    "price_list = [32100, 32150, 32000, 32500]\n",
    "\n",
    "for price in range(len(price_list)):\n",
    "    print((len(price_list)-1)-price, price_list[price])"
   ]
  },
  {
   "cell_type": "code",
   "execution_count": 1,
   "id": "b6e816a8-0cfc-44c2-be84-6fe4ec600bbe",
   "metadata": {},
   "outputs": [
    {
     "name": "stdout",
     "output_type": "stream",
     "text": [
      "100 32150\n",
      "110 32000\n",
      "120 32500\n"
     ]
    }
   ],
   "source": [
    "# 174\n",
    "price_list = [32100, 32150, 32000, 32500]\n",
    "\n",
    "for i in range(1,4): # 1 2 3\n",
    "    print(90 + i*10, price_list[i])"
   ]
  },
  {
   "cell_type": "code",
   "execution_count": 10,
   "id": "3ba8ef66-e9e1-4883-b9aa-14362eb377e3",
   "metadata": {},
   "outputs": [
    {
     "name": "stdout",
     "output_type": "stream",
     "text": [
      "가 나\n",
      "나 다\n",
      "다 라\n"
     ]
    }
   ],
   "source": [
    "# 175\n",
    "\n",
    "my_list = [\"가\", \"나\", \"다\", \"라\"]\n",
    "\n",
    "for t in [0, 1, 2]:\n",
    "    print(my_list[t], my_list[t+1])\n",
    "    \n",
    "\n"
   ]
  },
  {
   "cell_type": "code",
   "execution_count": 12,
   "id": "bccba78e-ed90-4af8-aab6-52d2f5010698",
   "metadata": {},
   "outputs": [
    {
     "name": "stdout",
     "output_type": "stream",
     "text": [
      "가 나 다\n",
      "나 다 라\n",
      "다 라 마\n"
     ]
    }
   ],
   "source": [
    "# 176\n",
    "\n",
    "my_list = [\"가\", \"나\", \"다\", \"라\", \"마\"]\n",
    "\n",
    "for i in [0, 1, 2]:\n",
    "    print(my_list[i], my_list[i+1], my_list[i+2])"
   ]
  },
  {
   "cell_type": "code",
   "execution_count": 19,
   "id": "3e5a5a2c-ff20-4ea5-a52b-d3da3d707056",
   "metadata": {},
   "outputs": [
    {
     "name": "stdout",
     "output_type": "stream",
     "text": [
      "라 다\n",
      "다 나\n",
      "나 가\n"
     ]
    }
   ],
   "source": [
    "# 177\n",
    "my_list = [\"가\", \"나\", \"다\", \"라\"]\n",
    "\n",
    "for i in [-1, -2, -3]:\n",
    "    print(my_list[i], my_list[i-1])\n",
    "\n",
    "# print(my_list[-1], my_list[-2])\n",
    "# print(my_list[-2], my_list[-3])\n",
    "# print(my_list[-3], my_list[-4])"
   ]
  },
  {
   "cell_type": "code",
   "execution_count": 24,
   "id": "442e5f17-378e-450f-ae44-813fc31551c8",
   "metadata": {},
   "outputs": [
    {
     "name": "stdout",
     "output_type": "stream",
     "text": [
      "100\n",
      "200\n",
      "400\n"
     ]
    }
   ],
   "source": [
    "# 178\n",
    "my_list = [100, 200, 400, 800]\n",
    "\n",
    "for i in [-1, 0, 1]:\n",
    "    print(my_list[i+1])\n",
    "\n",
    "# 800  100\n",
    "# 100  200\n",
    "# 200  400"
   ]
  },
  {
   "cell_type": "code",
   "execution_count": 27,
   "id": "60b10510-d6d3-44a3-94df-65d75a72a526",
   "metadata": {},
   "outputs": [
    {
     "name": "stdout",
     "output_type": "stream",
     "text": [
      "233.33333333333334\n",
      "466.6666666666667\n",
      "733.3333333333334\n",
      "1033.3333333333333\n"
     ]
    }
   ],
   "source": [
    "# 179\n",
    "my_list = [100, 200, 400, 800, 1000, 1300]\n",
    "\n",
    "for i in [1, 2, 3, 4]:\n",
    "    print((my_list[i-1]+my_list[i]+my_list[i+1])/3) \n",
    "# 100 200 400 /n 200 400 800 /n 400 800 1000 /n 800 1000 1300 ...."
   ]
  },
  {
   "cell_type": "code",
   "execution_count": 33,
   "id": "44f24572-b10d-4460-9cef-2f005d67e0ca",
   "metadata": {},
   "outputs": [
    {
     "name": "stdout",
     "output_type": "stream",
     "text": [
      "[50, 100, 30, 80, 0]\n"
     ]
    }
   ],
   "source": [
    "# 180\n",
    "low_prices  = [100, 200, 400, 800, 1000]\n",
    "high_prices = [150, 300, 430, 880, 1000]\n",
    "\n",
    "volatility = []\n",
    "for i in range(len(low_prices)):\n",
    "    volatility.append(high_prices[i]-low_prices[i])\n",
    "\n",
    "print(volatility)"
   ]
  },
  {
   "cell_type": "code",
   "execution_count": 5,
   "id": "970148c8-c32d-4cfd-8eb8-1535c73d0e7f",
   "metadata": {},
   "outputs": [
    {
     "data": {
      "text/plain": [
       "(['101호', '102호'], ['201호', '202호'], ['301호', '302호'])"
      ]
     },
     "execution_count": 5,
     "metadata": {},
     "output_type": "execute_result"
    }
   ],
   "source": [
    "# 181\n",
    "apart = [['101호', '102호'], ['201호', '202호'], ['301호', '302호']]\n",
    "apart"
   ]
  },
  {
   "cell_type": "code",
   "execution_count": 7,
   "id": "d1935322-c11a-4320-b27b-9a79adf64b72",
   "metadata": {},
   "outputs": [
    {
     "data": {
      "text/plain": [
       "[['시가', '100', '200', '300'], ['종가', '80', '210', '330']]"
      ]
     },
     "execution_count": 7,
     "metadata": {},
     "output_type": "execute_result"
    }
   ],
   "source": [
    "# 182\n",
    "stock = [['시가','100','200', '300'], ['종가','80', '210', '330']]\n",
    "stock"
   ]
  },
  {
   "cell_type": "code",
   "execution_count": 15,
   "id": "06f45a37-9adc-4d6d-ab60-15f9f5f6c4e8",
   "metadata": {},
   "outputs": [
    {
     "data": {
      "text/plain": [
       "{'시가': ['100', '200', '300'], '종가': ['80', '210', '330']}"
      ]
     },
     "execution_count": 15,
     "metadata": {},
     "output_type": "execute_result"
    }
   ],
   "source": [
    "# 183\n",
    "stock = {'시가' : ['100', '200', '300'], '종가' : ['80', '210', '330']}\n",
    "stock"
   ]
  },
  {
   "cell_type": "code",
   "execution_count": 16,
   "id": "5a8b6567-ec1b-4424-8937-386c157c8b7f",
   "metadata": {},
   "outputs": [
    {
     "data": {
      "text/plain": [
       "{'10/10': ['80', '110', '70', '90'], '10/11': ['210', '230', '190', '200']}"
      ]
     },
     "execution_count": 16,
     "metadata": {},
     "output_type": "execute_result"
    }
   ],
   "source": [
    "# 184\n",
    "stock = {'10/10' : ['80', '110', '70', '90'], '10/11' : ['210' , '230' ,'190', '200']}\n",
    "stock"
   ]
  },
  {
   "cell_type": "code",
   "execution_count": 23,
   "id": "a7dabce6-9043-4cef-bc12-05dac1c3b071",
   "metadata": {},
   "outputs": [
    {
     "name": "stdout",
     "output_type": "stream",
     "text": [
      "101 호\n",
      "102 호\n",
      "201 호\n",
      "202 호\n",
      "301 호\n",
      "302 호\n"
     ]
    }
   ],
   "source": [
    "# 185\n",
    "apart = [ [101, 102], [201, 202], [301, 302] ]\n",
    "for row in apart:\n",
    "    for col in row:\n",
    "        print(col, '호')\n"
   ]
  },
  {
   "cell_type": "code",
   "execution_count": 37,
   "id": "7cb80464-a707-4c13-8fde-e6de05abbf4c",
   "metadata": {},
   "outputs": [
    {
     "name": "stdout",
     "output_type": "stream",
     "text": [
      "301 호\n",
      "302 호\n",
      "201 호\n",
      "202 호\n",
      "101 호\n",
      "102 호\n"
     ]
    }
   ],
   "source": [
    "# 186\n",
    "apart = [ [101, 102], [201, 202], [301, 302] ]\n",
    "for row in apart[::-1]:\n",
    "    for col in row:\n",
    "        print(col, '호')\n",
    "    \n"
   ]
  },
  {
   "cell_type": "code",
   "execution_count": 39,
   "id": "6a890358-2b00-44ac-afe3-38628d7bdb4a",
   "metadata": {},
   "outputs": [
    {
     "name": "stdout",
     "output_type": "stream",
     "text": [
      "302 호\n",
      "301 호\n",
      "202 호\n",
      "201 호\n",
      "102 호\n",
      "101 호\n"
     ]
    }
   ],
   "source": [
    "# 187\n",
    "apart = [ [101, 102], [201, 202], [301, 302] ]\n",
    "for row in apart[::-1]:\n",
    "    for col in row[::-1]:\n",
    "        print(col, '호')"
   ]
  },
  {
   "cell_type": "code",
   "execution_count": 49,
   "id": "4ef17323-07f2-4ebc-94d7-655ad99a135a",
   "metadata": {},
   "outputs": [
    {
     "name": "stdout",
     "output_type": "stream",
     "text": [
      "101 호\n",
      "-----\n",
      "102 호\n",
      "-----\n",
      "201 호\n",
      "-----\n",
      "202 호\n",
      "-----\n",
      "301 호\n",
      "-----\n",
      "302 호\n",
      "-----\n"
     ]
    }
   ],
   "source": [
    "# 188\n",
    "apart = [ [101, 102], [201, 202], [301, 302] ]\n",
    "for row in apart:\n",
    "    for col in row:\n",
    "        print(col, '호')\n",
    "        print('-----')\n",
    "    "
   ]
  },
  {
   "cell_type": "code",
   "execution_count": 51,
   "id": "6bc324b3-52b3-4c75-a90d-15ef91ac42aa",
   "metadata": {},
   "outputs": [
    {
     "name": "stdout",
     "output_type": "stream",
     "text": [
      "101 호\n",
      "102 호\n",
      "-----\n",
      "201 호\n",
      "202 호\n",
      "-----\n",
      "301 호\n",
      "302 호\n",
      "-----\n"
     ]
    }
   ],
   "source": [
    "# 189\n",
    "apart = [ [101, 102], [201, 202], [301, 302] ]\n",
    "for row in apart:\n",
    "    for col in row:\n",
    "        print(col, '호')\n",
    "    print('-----')"
   ]
  },
  {
   "cell_type": "code",
   "execution_count": 54,
   "id": "7992abbd-d1b1-4d44-a507-3ef9f2c93981",
   "metadata": {},
   "outputs": [
    {
     "name": "stdout",
     "output_type": "stream",
     "text": [
      "101 호\n",
      "102 호\n",
      "201 호\n",
      "202 호\n",
      "301 호\n",
      "302 호\n",
      "-----\n"
     ]
    }
   ],
   "source": [
    "# 190\n",
    "apart = [ [101, 102], [201, 202], [301, 302] ]\n",
    "for row in apart:\n",
    "    for col in row:\n",
    "        print(col, '호')\n",
    "            \n",
    "print('-----')"
   ]
  },
  {
   "cell_type": "code",
   "execution_count": 58,
   "id": "49e9cc50-1c2f-4241-84de-675a4c2a297e",
   "metadata": {},
   "outputs": [
    {
     "name": "stdout",
     "output_type": "stream",
     "text": [
      "2000.28\n",
      "3050.427\n",
      "2050.2870000000003\n",
      "1980.2772\n",
      "7501.05\n",
      "2050.2870000000003\n",
      "2050.2870000000003\n",
      "1980.2772\n",
      "15452.163\n",
      "15052.107\n",
      "15552.177\n",
      "14902.086000000001\n"
     ]
    }
   ],
   "source": [
    "# 191\n",
    "data = [\n",
    "    [ 2000,  3050,  2050,  1980],\n",
    "    [ 7500,  2050,  2050,  1980],\n",
    "    [15450, 15050, 15550, 14900]\n",
    "]\n",
    "# 원가에 수수료 더하기\n",
    "for coin in data:\n",
    "    for co in coin:\n",
    "        print(co*(1+0.00014))"
   ]
  },
  {
   "cell_type": "code",
   "execution_count": 62,
   "id": "df4642bd-962c-4b7a-95a2-4faa79ae876a",
   "metadata": {},
   "outputs": [
    {
     "name": "stdout",
     "output_type": "stream",
     "text": [
      "2000.28\n",
      "3050.427\n",
      "2050.2870000000003\n",
      "1980.2772\n",
      "----\n",
      "7501.05\n",
      "2050.2870000000003\n",
      "2050.2870000000003\n",
      "1980.2772\n",
      "----\n",
      "15452.163\n",
      "15052.107\n",
      "15552.177\n",
      "14902.086000000001\n",
      "----\n"
     ]
    }
   ],
   "source": [
    "# 192\n",
    "data = [\n",
    "    [ 2000,  3050,  2050,  1980],\n",
    "    [ 7500,  2050,  2050,  1980],\n",
    "    [15450, 15050, 15550, 14900]\n",
    "]\n",
    "for coin in data:\n",
    "    for co in coin:\n",
    "        print(co*(1+0.00014))\n",
    "    print('----')\n",
    "\n"
   ]
  },
  {
   "cell_type": "code",
   "execution_count": 68,
   "id": "e117a7b3-bc35-4001-b0c3-be57e45b9227",
   "metadata": {},
   "outputs": [
    {
     "name": "stdout",
     "output_type": "stream",
     "text": [
      "[2000.28, 3050.427, 2050.2870000000003, 1980.2772, 7501.05, 2050.2870000000003, 2050.2870000000003, 1980.2772, 15452.163, 15052.107, 15552.177, 14902.086000000001]\n"
     ]
    }
   ],
   "source": [
    "# 193\n",
    "result = []\n",
    "data = [\n",
    "    [ 2000,  3050,  2050,  1980],\n",
    "    [ 7500,  2050,  2050,  1980],\n",
    "    [15450, 15050, 15550, 14900]\n",
    "]\n",
    "for coin in data:\n",
    "    for co in coin:\n",
    "        result.append(co*(1+0.00014))\n",
    "print(result)\n",
    "            \n",
    "    "
   ]
  },
  {
   "cell_type": "code",
   "execution_count": 74,
   "id": "0d5d17a7-f7c7-48c1-af47-eabd3f53f005",
   "metadata": {},
   "outputs": [
    {
     "name": "stdout",
     "output_type": "stream",
     "text": [
      "[[2000.28, 3050.427, 2050.2870000000003, 1980.2772], [7501.05, 2050.2870000000003, 2050.2870000000003, 1980.2772], [15452.163, 15052.107, 15552.177, 14902.086000000001]]\n"
     ]
    }
   ],
   "source": [
    "# 194\n",
    "result = []\n",
    "data = [\n",
    "    [ 2000,  3050,  2050,  1980],\n",
    "    [ 7500,  2050,  2050,  1980],\n",
    "    [15450, 15050, 15550, 14900]\n",
    "]\n",
    "for coin in data:\n",
    "    sub = []\n",
    "    for co in coin:\n",
    "        sub.append(co*(1+0.00014))\n",
    "    result.append(sub)\n",
    "\n",
    "print(result)\n"
   ]
  },
  {
   "cell_type": "code",
   "execution_count": 83,
   "id": "addc65e4-7ef4-4c0f-b3ea-7b11f601c686",
   "metadata": {},
   "outputs": [
    {
     "name": "stdout",
     "output_type": "stream",
     "text": [
      "100\n",
      "190\n",
      "310\n"
     ]
    }
   ],
   "source": [
    "# 195\n",
    "ohlc = [[\"open\", \"high\", \"low\", \"close\"],\n",
    "        [100, 110, 70, 100],\n",
    "        [200, 210, 180, 190],\n",
    "        [300, 310, 300, 310]]\n",
    "\n",
    "for i in ohlc[1:]:\n",
    "    for j in i[-1:]:\n",
    "        print(j)"
   ]
  },
  {
   "cell_type": "code",
   "execution_count": 85,
   "id": "28ecbb52-a937-4843-9ca8-07931df3cc3d",
   "metadata": {},
   "outputs": [
    {
     "name": "stdout",
     "output_type": "stream",
     "text": [
      "190\n",
      "310\n"
     ]
    }
   ],
   "source": [
    "# 196\n",
    "ohlc = [[\"open\", \"high\", \"low\", \"close\"],\n",
    "        [100, 110, 70, 100],\n",
    "        [200, 210, 180, 190],\n",
    "        [300, 310, 300, 310]]\n",
    "for i in ohlc[1:]:\n",
    "    for j in i[-1:]:\n",
    "        if j > 150:\n",
    "            print(j)"
   ]
  },
  {
   "cell_type": "code",
   "execution_count": 89,
   "id": "882d1a68-7cea-402c-86ed-1d89c9ac6567",
   "metadata": {},
   "outputs": [
    {
     "name": "stdout",
     "output_type": "stream",
     "text": [
      "100\n",
      "310\n"
     ]
    }
   ],
   "source": [
    "# 197\n",
    "ohlc = [[\"open\", \"high\", \"low\", \"close\"],\n",
    "        [100, 110, 70, 100],\n",
    "        [200, 210, 180, 190],\n",
    "        [300, 310, 300, 310]]\n",
    "\n",
    "for i in ohlc[1:]:\n",
    "    if (i[0] <= i[3]):\n",
    "        print(i[3])\n"
   ]
  },
  {
   "cell_type": "code",
   "execution_count": 93,
   "id": "2d534613-56b8-4d4d-a3f1-e735a1ac06e6",
   "metadata": {},
   "outputs": [
    {
     "name": "stdout",
     "output_type": "stream",
     "text": [
      "[40, 30, 10]\n"
     ]
    }
   ],
   "source": [
    "# 198\n",
    "ohlc = [[\"open\", \"high\", \"low\", \"close\"],\n",
    "        [100, 110, 70, 100],\n",
    "        [200, 210, 180, 190],\n",
    "        [300, 310, 300, 310]]\n",
    "volatility = []\n",
    "\n",
    "for i in ohlc[1:]:\n",
    "    result = i[1] - i[2]\n",
    "    volatility.append(result)\n",
    "print(volatility)\n",
    "    "
   ]
  },
  {
   "cell_type": "code",
   "execution_count": 95,
   "id": "5864b614-f465-4a51-be14-caeaf7fc531f",
   "metadata": {},
   "outputs": [
    {
     "name": "stdout",
     "output_type": "stream",
     "text": [
      "10\n"
     ]
    }
   ],
   "source": [
    "# 199\n",
    "ohlc = [[\"open\", \"high\", \"low\", \"close\"],\n",
    "        [100, 110, 70, 100],\n",
    "        [200, 210, 180, 190],\n",
    "        [300, 310, 300, 310]]\n",
    "\n",
    "for i in ohlc[1:]:\n",
    "    if i[0] < i[3]:\n",
    "        result = i[1] - i[2]\n",
    "\n",
    "print(result)"
   ]
  },
  {
   "cell_type": "code",
   "execution_count": 1,
   "id": "48f10c49-c6c8-47ce-a9bf-a6827df4c2da",
   "metadata": {},
   "outputs": [
    {
     "name": "stdout",
     "output_type": "stream",
     "text": [
      "0\n"
     ]
    }
   ],
   "source": [
    "# 200\n",
    "ohlc = [[\"open\", \"high\", \"low\", \"close\"],\n",
    "        [100, 110, 70, 100],\n",
    "        [200, 210, 180, 190],\n",
    "        [300, 310, 300, 310]]\n",
    "\n",
    "suic = 0\n",
    "for i in ohlc[1:]:\n",
    "    suic += (i[3] - i[0])\n",
    "\n",
    "print(suic)\n",
    "    "
   ]
  },
  {
   "cell_type": "code",
   "execution_count": 5,
   "id": "68e14e4b-9d49-4da0-a864-de743055dcbc",
   "metadata": {},
   "outputs": [
    {
     "data": {
      "text/plain": [
       "False"
      ]
     },
     "execution_count": 5,
     "metadata": {},
     "output_type": "execute_result"
    }
   ],
   "source": [
    "b = [1, 2, 3]\n",
    "b is [1, 2, 3]"
   ]
  }
 ],
 "metadata": {
  "kernelspec": {
   "display_name": "Python 3 (ipykernel)",
   "language": "python",
   "name": "python3"
  },
  "language_info": {
   "codemirror_mode": {
    "name": "ipython",
    "version": 3
   },
   "file_extension": ".py",
   "mimetype": "text/x-python",
   "name": "python",
   "nbconvert_exporter": "python",
   "pygments_lexer": "ipython3",
   "version": "3.11.6"
  }
 },
 "nbformat": 4,
 "nbformat_minor": 5
}
